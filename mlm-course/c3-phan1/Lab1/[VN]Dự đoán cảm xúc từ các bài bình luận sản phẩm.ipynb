{
 "cells": [
  {
   "cell_type": "markdown",
   "metadata": {
    "id": "95s6_p4E5qC0"
   },
   "source": [
    "# Dự đoán cảm xúc từ các bài bình luận sản phẩm\n",
    "\n",
    "\n",
    "Mục tiêu của notebook đầu tiên này là khám phá hồi quy Logistic và kỹ thuật đặc trưng với các hàm sklearn hiện có.\n",
    "\n",
    "Trong notebook này, chúng ta sẽ sử dụng dữ liệu bình luận sản phẩm từ Amazon.com để dự đoán cảm xúc về một sản phẩm (từ bình luận) là tích cực hay tiêu cực.\n",
    "\n",
    "* Sử dụng pandas để thực hiện một số kỹ thuật đặc trưng.\n",
    "* Huấn luyện mô hình hồi quy Logistic để dự đoán cảm xúc của các bình luận về sản phẩm.\n",
    "* Kiểm tra các trọng số (hệ số) của mô hình hồi quy Logistic đã huấn luyện.\n",
    "* Đưa ra dự đoán (cả lớp và xác suất) của cảm xúc cho một bình luận sản phẩm mới.\n",
    "* Viết hàm tính **accuracy** của mô hình biết trọng số hồi quy, các yếu tố dự đoán và nhãn ground truth.\n",
    "* Kiểm tra hệ số của mô hình hồi quy Logistic và giải thích ý nghĩa của chúng.\n",
    "* So sánh nhiều mô hình hồi quy Logistic.\n",
    "\n",
    "Hãy bắt đầu thôi!"
   ]
  },
  {
   "cell_type": "code",
   "execution_count": 25,
   "metadata": {
    "id": "fIGwAkXt5qC2"
   },
   "outputs": [],
   "source": [
    "# Import một số thư viện\n",
    "\n",
    "import pandas\n",
    "import numpy as np\n",
    "from sklearn.model_selection import train_test_split"
   ]
  },
  {
   "cell_type": "code",
   "execution_count": 26,
   "metadata": {
    "id": "ekzHZZtA5qC8"
   },
   "outputs": [
    {
     "data": {
      "text/html": [
       "<div>\n",
       "<style scoped>\n",
       "    .dataframe tbody tr th:only-of-type {\n",
       "        vertical-align: middle;\n",
       "    }\n",
       "\n",
       "    .dataframe tbody tr th {\n",
       "        vertical-align: top;\n",
       "    }\n",
       "\n",
       "    .dataframe thead th {\n",
       "        text-align: right;\n",
       "    }\n",
       "</style>\n",
       "<table border=\"1\" class=\"dataframe\">\n",
       "  <thead>\n",
       "    <tr style=\"text-align: right;\">\n",
       "      <th></th>\n",
       "      <th>reviewerID</th>\n",
       "      <th>asin</th>\n",
       "      <th>reviewerName</th>\n",
       "      <th>helpful</th>\n",
       "      <th>helpful_num</th>\n",
       "      <th>helpful_den</th>\n",
       "      <th>reviewText</th>\n",
       "      <th>overall</th>\n",
       "      <th>summary</th>\n",
       "      <th>unixReviewTime</th>\n",
       "      <th>reviewTime</th>\n",
       "      <th>exclamationcount</th>\n",
       "      <th>questioncount</th>\n",
       "      <th>charcount</th>\n",
       "      <th>wordcount</th>\n",
       "      <th>capcount</th>\n",
       "      <th>avgrating</th>\n",
       "      <th>diffrating</th>\n",
       "      <th>ishelpful</th>\n",
       "    </tr>\n",
       "  </thead>\n",
       "  <tbody>\n",
       "    <tr>\n",
       "      <th>0</th>\n",
       "      <td>A3NMPMELAZC8ZY</td>\n",
       "      <td>097293751X</td>\n",
       "      <td>Jakell</td>\n",
       "      <td>[3, 3]</td>\n",
       "      <td>3</td>\n",
       "      <td>3</td>\n",
       "      <td>This book is perfect!  I'm a first time new mo...</td>\n",
       "      <td>5</td>\n",
       "      <td>Great for newborns</td>\n",
       "      <td>1359244800</td>\n",
       "      <td>01 27, 2013</td>\n",
       "      <td>1</td>\n",
       "      <td>0</td>\n",
       "      <td>250</td>\n",
       "      <td>46</td>\n",
       "      <td>0</td>\n",
       "      <td>4.0</td>\n",
       "      <td>1.0</td>\n",
       "      <td>1</td>\n",
       "    </tr>\n",
       "    <tr>\n",
       "      <th>1</th>\n",
       "      <td>A3O4ATU0ENBKTU</td>\n",
       "      <td>097293751X</td>\n",
       "      <td>MAPN</td>\n",
       "      <td>[1, 1]</td>\n",
       "      <td>1</td>\n",
       "      <td>1</td>\n",
       "      <td>I use this so that our babysitter (grandma) ca...</td>\n",
       "      <td>5</td>\n",
       "      <td>Compact and Easy way to record the milestones</td>\n",
       "      <td>1361836800</td>\n",
       "      <td>02 26, 2013</td>\n",
       "      <td>0</td>\n",
       "      <td>0</td>\n",
       "      <td>734</td>\n",
       "      <td>148</td>\n",
       "      <td>0</td>\n",
       "      <td>4.0</td>\n",
       "      <td>1.0</td>\n",
       "      <td>1</td>\n",
       "    </tr>\n",
       "    <tr>\n",
       "      <th>2</th>\n",
       "      <td>A2SYNL4YX73KNY</td>\n",
       "      <td>097293751X</td>\n",
       "      <td>R. Davidson \"Jrdpa\"</td>\n",
       "      <td>[2, 2]</td>\n",
       "      <td>2</td>\n",
       "      <td>2</td>\n",
       "      <td>I like this log, but think it would work bette...</td>\n",
       "      <td>3</td>\n",
       "      <td>Needs clearer AM &amp; PM</td>\n",
       "      <td>1369008000</td>\n",
       "      <td>05 20, 2013</td>\n",
       "      <td>0</td>\n",
       "      <td>0</td>\n",
       "      <td>288</td>\n",
       "      <td>59</td>\n",
       "      <td>2</td>\n",
       "      <td>4.0</td>\n",
       "      <td>1.0</td>\n",
       "      <td>1</td>\n",
       "    </tr>\n",
       "    <tr>\n",
       "      <th>3</th>\n",
       "      <td>A2Q2A6JKY95RTP</td>\n",
       "      <td>097293751X</td>\n",
       "      <td>R. Garrelts</td>\n",
       "      <td>[2, 2]</td>\n",
       "      <td>2</td>\n",
       "      <td>2</td>\n",
       "      <td>My wife and I have a six month old baby boy an...</td>\n",
       "      <td>3</td>\n",
       "      <td>Expensive and Somewhat Limited Format</td>\n",
       "      <td>1381968000</td>\n",
       "      <td>10 17, 2013</td>\n",
       "      <td>0</td>\n",
       "      <td>0</td>\n",
       "      <td>2959</td>\n",
       "      <td>505</td>\n",
       "      <td>9</td>\n",
       "      <td>4.0</td>\n",
       "      <td>1.0</td>\n",
       "      <td>1</td>\n",
       "    </tr>\n",
       "    <tr>\n",
       "      <th>4</th>\n",
       "      <td>A21I33AWNOWMK8</td>\n",
       "      <td>9729375011</td>\n",
       "      <td>EmilyS</td>\n",
       "      <td>[1, 2]</td>\n",
       "      <td>1</td>\n",
       "      <td>2</td>\n",
       "      <td>I have used this book since my son was born.  ...</td>\n",
       "      <td>5</td>\n",
       "      <td>Great product!</td>\n",
       "      <td>1364256000</td>\n",
       "      <td>03 26, 2013</td>\n",
       "      <td>0</td>\n",
       "      <td>0</td>\n",
       "      <td>595</td>\n",
       "      <td>117</td>\n",
       "      <td>0</td>\n",
       "      <td>4.5</td>\n",
       "      <td>0.5</td>\n",
       "      <td>0</td>\n",
       "    </tr>\n",
       "  </tbody>\n",
       "</table>\n",
       "</div>"
      ],
      "text/plain": [
       "       reviewerID        asin        reviewerName  helpful  helpful_num  \\\n",
       "0  A3NMPMELAZC8ZY  097293751X               Jakell  [3, 3]            3   \n",
       "1  A3O4ATU0ENBKTU  097293751X                 MAPN  [1, 1]            1   \n",
       "2  A2SYNL4YX73KNY  097293751X  R. Davidson \"Jrdpa\"  [2, 2]            2   \n",
       "3  A2Q2A6JKY95RTP  097293751X          R. Garrelts  [2, 2]            2   \n",
       "4  A21I33AWNOWMK8  9729375011               EmilyS  [1, 2]            1   \n",
       "\n",
       "   helpful_den                                         reviewText  overall  \\\n",
       "0            3  This book is perfect!  I'm a first time new mo...        5   \n",
       "1            1  I use this so that our babysitter (grandma) ca...        5   \n",
       "2            2  I like this log, but think it would work bette...        3   \n",
       "3            2  My wife and I have a six month old baby boy an...        3   \n",
       "4            2  I have used this book since my son was born.  ...        5   \n",
       "\n",
       "                                         summary  unixReviewTime   reviewTime  \\\n",
       "0                             Great for newborns      1359244800  01 27, 2013   \n",
       "1  Compact and Easy way to record the milestones      1361836800  02 26, 2013   \n",
       "2                          Needs clearer AM & PM      1369008000  05 20, 2013   \n",
       "3          Expensive and Somewhat Limited Format      1381968000  10 17, 2013   \n",
       "4                                 Great product!      1364256000  03 26, 2013   \n",
       "\n",
       "   exclamationcount  questioncount  charcount  wordcount  capcount  avgrating  \\\n",
       "0                 1              0        250         46         0        4.0   \n",
       "1                 0              0        734        148         0        4.0   \n",
       "2                 0              0        288         59         2        4.0   \n",
       "3                 0              0       2959        505         9        4.0   \n",
       "4                 0              0        595        117         0        4.5   \n",
       "\n",
       "   diffrating  ishelpful  \n",
       "0         1.0          1  \n",
       "1         1.0          1  \n",
       "2         1.0          1  \n",
       "3         1.0          1  \n",
       "4         0.5          0  "
      ]
     },
     "execution_count": 26,
     "metadata": {},
     "output_type": "execute_result"
    }
   ],
   "source": [
    "# Import dữ liệu amazon_baby.csv vào pandas dataframe\n",
    "products_df = pandas.read_csv('../dataset/amazon_baby.csv')\n",
    "products_df.head()"
   ]
  },
  {
   "cell_type": "code",
   "execution_count": 5,
   "metadata": {},
   "outputs": [
    {
     "name": "stdout",
     "output_type": "stream",
     "text": [
      "<class 'pandas.core.frame.DataFrame'>\n",
      "RangeIndex: 56950 entries, 0 to 56949\n",
      "Data columns (total 19 columns):\n",
      " #   Column            Non-Null Count  Dtype  \n",
      "---  ------            --------------  -----  \n",
      " 0   reviewerID        56950 non-null  object \n",
      " 1   asin              56950 non-null  object \n",
      " 2   reviewerName      56768 non-null  object \n",
      " 3   helpful           56950 non-null  object \n",
      " 4   helpful_num       56950 non-null  int64  \n",
      " 5   helpful_den       56950 non-null  int64  \n",
      " 6   reviewText        56950 non-null  object \n",
      " 7   overall           56950 non-null  int64  \n",
      " 8   summary           56950 non-null  object \n",
      " 9   unixReviewTime    56950 non-null  int64  \n",
      " 10  reviewTime        56950 non-null  object \n",
      " 11  exclamationcount  56950 non-null  int64  \n",
      " 12  questioncount     56950 non-null  int64  \n",
      " 13  charcount         56950 non-null  int64  \n",
      " 14  wordcount         56950 non-null  int64  \n",
      " 15  capcount          56950 non-null  int64  \n",
      " 16  avgrating         56950 non-null  float64\n",
      " 17  diffrating        56950 non-null  float64\n",
      " 18  ishelpful         56950 non-null  int64  \n",
      "dtypes: float64(2), int64(10), object(7)\n",
      "memory usage: 8.3+ MB\n"
     ]
    }
   ],
   "source": [
    "products_df.info()"
   ]
  },
  {
   "cell_type": "markdown",
   "metadata": {
    "id": "2y1uB3Qj5qC_"
   },
   "source": [
    "### 1. Tiền xử lý dữ liệu\n",
    "Trước khi sử dụng dữ liệu đánh giá, chúng ta cần thực hiện tiền xử lý\n",
    "<br>\n",
    "Trước tiên, loại bỏ dấu câu khỏi các từ\n",
    "<br>\n",
    "Ví dụ: **good!** --> **good**, **resturant.** --> **resturant**"
   ]
  },
  {
   "cell_type": "code",
   "execution_count": 8,
   "metadata": {
    "id": "FIQyoj4N5qDA"
   },
   "outputs": [],
   "source": [
    "def remove_punctuation(text):\n",
    "    import string\n",
    "    return text.translate(string.punctuation)\n",
    "\n",
    "products_df = products_df.fillna({'reviewText':''})  # điền vào các N/A ở cột review\n",
    "products_df['review_clean'] = products_df['reviewText'].apply(remove_punctuation)"
   ]
  },
  {
   "cell_type": "markdown",
   "metadata": {
    "id": "agUaHvxO5qDG"
   },
   "source": [
    "Chúng ta sẽ bỏ qua tất cả các bình luận có rating = 3 vì chúng có cảm xúc trung lập."
   ]
  },
  {
   "cell_type": "code",
   "execution_count": 9,
   "metadata": {
    "id": "6ADFZDZ_5qDG"
   },
   "outputs": [],
   "source": [
    "products_df = products_df[products_df['overall'] != 3]"
   ]
  },
  {
   "cell_type": "markdown",
   "metadata": {
    "id": "JvfKQYaD5qDK"
   },
   "source": [
    "Bây giờ, chúng ta sẽ chỉ định các bình luận có rating từ 4 trở lên là bình luận tích cực, trong khi các bình luận từ 2 trở xuống là tiêu cực. Đối với cột sentiment, chúng ta sử dụng +1 cho nhãn positive class (lớp tích cực) và -1 cho nhãn negative class (lớp tiêu cực). Chúng ta nên tạo một hàm ẩn danh chuyển đổi rating thành class label, sau đó áp dụng hàm đó cho mọi phần tử trong cột rating. Trong Pandas, chúng ta sẽ sử dụng appl ():"
   ]
  },
  {
   "cell_type": "code",
   "execution_count": 10,
   "metadata": {
    "id": "TGn9OznU5qDL"
   },
   "outputs": [],
   "source": [
    "products_df['sentiment'] = products_df['overall'].apply(lambda rating : +1 if rating > 3 else -1)"
   ]
  },
  {
   "cell_type": "markdown",
   "metadata": {
    "id": "6Sc4Q4db5qDO"
   },
   "source": [
    "Hãy thực hiện phân tách train/test với 80% dữ liệu trong tập huấn luyện và 20% dữ liệu trong tập kiểm tra.\n",
    "Chúng ta sẽ thiết lập seed để đảm bảo nhận được các kết quả tương tự."
   ]
  },
  {
   "cell_type": "code",
   "execution_count": 11,
   "metadata": {
    "id": "J5p2UcYF5qDP"
   },
   "outputs": [],
   "source": [
    "np.random.seed(1)\n",
    "\n",
    "train_data, test_data = train_test_split(products_df, test_size=0.2)"
   ]
  },
  {
   "cell_type": "markdown",
   "metadata": {
    "id": "LQpImXXJ5qDU"
   },
   "source": [
    "### 2. Biểu diễn đặc trưng\n",
    " Bây giờ, chúng ta sẽ tính số từ cho mỗi từ xuất hiện trong các bình luận. Vectơ đếm từ thường được gọi là đặc trưng túi từ. Vì hầu hết các từ chỉ xuất hiện trong một số bình luận nên các vectơ đếm từ khá thưa thớt. Do đó, scikit-learn và nhiều công cụ khác sử dụng ma trận thưa thớt để lưu trữ tập hợp các vectơ đếm từ.\n",
    "<br>\n",
    "Có thể tham khảo [CountVectorizer](https://scikit-learn.org/stable/modules/generated/sklearn.feature_extraction.text.CountVectorizer.html) từ tài liệu scikit."
   ]
  },
  {
   "cell_type": "code",
   "execution_count": 24,
   "metadata": {
    "id": "iqav8_7c5qDU"
   },
   "outputs": [
    {
     "data": {
      "text/plain": [
       "((39589, 39971), (9898, 39971))"
      ]
     },
     "execution_count": 24,
     "metadata": {},
     "output_type": "execute_result"
    }
   ],
   "source": [
    "from sklearn.feature_extraction.text import CountVectorizer\n",
    "\n",
    "vectorizer = CountVectorizer(token_pattern=r'\\b\\w+\\b')\n",
    "# Sử dụng mẫu token này để giữ các từ có một chữ cái\n",
    "# Trước tiên, tìm hiểu từ vựng từ dữ liệu huấn luyện và gán cột cho từ\n",
    "# Sau đó chuyển đổi dữ liệu huấn luyện thành ma trận thưa thớt\n",
    "train_matrix = vectorizer.fit_transform(train_data['review_clean'])\n",
    "# Tiếp theo, chuyển đổi dữ liệu kiểm tra thành ma trận thưa thớt, sử dụng cùng một ánh xạ từ-cột\n",
    "test_matrix = vectorizer.transform(test_data['review_clean'])\n",
    "\n",
    "train_matrix.shape, test_matrix.shape"
   ]
  },
  {
   "cell_type": "markdown",
   "metadata": {
    "id": "Y_i3lTxy5qDY"
   },
   "source": [
    "### 3. Huấn luyện mô hình hồi quy logistic\n",
    "\n",
    "Tìm hiểu phân loại hồi quy logistic bằng cách sử dụng dữ liệu huấn luyện. Chúng ta đang sử dụng scikit-learn, nên hãy tạo một instance của [LogisticRegression](https://scikit-learn.org/stable/modules/generated/sklearn.linear_model.LogisticRegression.html), sau đó gọi phương thức fit() để huấn luyện phân loại. Mô hình này nên sử dụng ma trận đếm từ thưa thớt (**train_matrix**) làm đặc trưng và cột **sentiment** của **train_data** làm mục tiêu. Sử dụng các giá trị mặc định cho các tham số khác."
   ]
  },
  {
   "cell_type": "code",
   "execution_count": 14,
   "metadata": {
    "id": "RpFHSVG-5qDZ"
   },
   "outputs": [
    {
     "name": "stderr",
     "output_type": "stream",
     "text": [
      "/home/funny/miniconda3/lib/python3.11/site-packages/sklearn/linear_model/_logistic.py:460: ConvergenceWarning: lbfgs failed to converge (status=1):\n",
      "STOP: TOTAL NO. of ITERATIONS REACHED LIMIT.\n",
      "\n",
      "Increase the number of iterations (max_iter) or scale the data as shown in:\n",
      "    https://scikit-learn.org/stable/modules/preprocessing.html\n",
      "Please also refer to the documentation for alternative solver options:\n",
      "    https://scikit-learn.org/stable/modules/linear_model.html#logistic-regression\n",
      "  n_iter_i = _check_optimize_result(\n"
     ]
    }
   ],
   "source": [
    "### VIẾT CODE Ở ĐÂY ###\n",
    "from sklearn.linear_model import LogisticRegression\n",
    "\n",
    "X, y = train_matrix, train_data['sentiment'].values\n",
    "\n",
    "clf = LogisticRegression().fit(X, y)\n",
    "### VIẾT CODE Ở ĐÂY ###"
   ]
  },
  {
   "cell_type": "markdown",
   "metadata": {
    "id": "FD-LUqAo5qDc"
   },
   "source": [
    "Kiểm tra train accuracy.\n",
    "<br>\n",
    "Nên thu được train accuracy là: 0.9474291796913067"
   ]
  },
  {
   "cell_type": "code",
   "execution_count": 15,
   "metadata": {
    "id": "noUDr6tD5qDc"
   },
   "outputs": [
    {
     "name": "stdout",
     "output_type": "stream",
     "text": [
      "Train accuracy: 0.9452373133951351\n"
     ]
    }
   ],
   "source": [
    "print ('Train accuracy: {}'.format(clf.score(X, y)))"
   ]
  },
  {
   "cell_type": "markdown",
   "metadata": {
    "id": "UUOsSYvu5qDf"
   },
   "source": [
    "Kiểm tra test accuracy. \n",
    "Nên thu được test accuracy là: 0.9345746754220263"
   ]
  },
  {
   "cell_type": "code",
   "execution_count": 16,
   "metadata": {
    "id": "3f1iqZO45qDg"
   },
   "outputs": [
    {
     "name": "stdout",
     "output_type": "stream",
     "text": [
      "Test accuracy: 0.8994746413416852\n"
     ]
    }
   ],
   "source": [
    "print ('Test accuracy: {}'.format(clf.score(test_matrix, test_data['sentiment'])))"
   ]
  },
  {
   "cell_type": "markdown",
   "metadata": {
    "id": "TYgm4Tpb5qDl"
   },
   "source": [
    "**Quiz**: Có bao nhiêu trọng số >= 0?\n",
    "<br>\n",
    "**Đáp án**:\n",
    "<br>\n",
    "`sum(1 for c in clf.coef_[0] if c >= 0)`"
   ]
  },
  {
   "cell_type": "markdown",
   "metadata": {
    "id": "h7AsLLk85qDm"
   },
   "source": [
    "### 4. Đưa ra dự đoán\n",
    "\n",
    "Trước tiên, hãy tính score cho 6 mẫu từ **test_data**.\n",
    "<br>\n",
    "Nhớ lại từ bài giảng: $$\\mbox{score}_i = \\mathbf{w}^\\intercal h(\\mathbf{x}_i)$$"
   ]
  },
  {
   "cell_type": "code",
   "execution_count": 18,
   "metadata": {
    "id": "D3C3Nx4A5qDm"
   },
   "outputs": [
    {
     "name": "stdout",
     "output_type": "stream",
     "text": [
      "35366    We received this as a Christmas gift and frank...\n",
      "38513    I wouldn't go with any other brand! I love my ...\n",
      "608      These bottles are superior to any on the marke...\n",
      "1841     In the middle of the night when the baby is sc...\n",
      "52128    I used a summer infant monitor with my first c...\n",
      "Name: review_clean, dtype: object\n",
      "35366    5\n",
      "38513    5\n",
      "608      5\n",
      "1841     5\n",
      "52128    5\n",
      "Name: overall, dtype: int64\n",
      "35366    1\n",
      "38513    1\n",
      "608      1\n",
      "1841     1\n",
      "52128    1\n",
      "Name: sentiment, dtype: int64\n"
     ]
    }
   ],
   "source": [
    "sample_test_data = test_data[105:110]\n",
    "print(sample_test_data['review_clean'])\n",
    "print(sample_test_data['overall'])\n",
    "print(sample_test_data['sentiment'])"
   ]
  },
  {
   "cell_type": "code",
   "execution_count": 19,
   "metadata": {
    "id": "s9ssg6rd5qDr"
   },
   "outputs": [
    {
     "name": "stdout",
     "output_type": "stream",
     "text": [
      "[ 7.17833028 15.15345031 -5.00869776  1.22749842 10.67968595]\n"
     ]
    }
   ],
   "source": [
    "sample_test_matrix = vectorizer.transform(sample_test_data['review_clean'])\n",
    "scores = clf.decision_function(sample_test_matrix)\n",
    "print (scores)"
   ]
  },
  {
   "cell_type": "markdown",
   "metadata": {
    "id": "Q1sb1wGO5qDw"
   },
   "source": [
    "Các score này được sử dụng để dự đoán lớp như sau:\n",
    "<br>\n",
    "$$\\hat{y}_i = \\begin{cases} +1 & \\text{if } \\mathbf{w}^\\intercal h(\\mathbf{x}_i) > 0\\\\ -1 &\\text{if } \\mathbf{w}^\\intercal h(\\mathbf{x}_i) \\leq 0 \\end{cases}$$"
   ]
  },
  {
   "cell_type": "markdown",
   "metadata": {
    "id": "Kw7x2dgV5qDx"
   },
   "source": [
    "Chúng ta có thể sử dụng hàm predict() từ scikit-learn."
   ]
  },
  {
   "cell_type": "code",
   "execution_count": 20,
   "metadata": {
    "id": "MOtqjfvW5qDy"
   },
   "outputs": [
    {
     "name": "stdout",
     "output_type": "stream",
     "text": [
      "[ 1  1 -1  1  1]\n"
     ]
    }
   ],
   "source": [
    "print (clf.predict(sample_test_matrix))"
   ]
  },
  {
   "cell_type": "markdown",
   "metadata": {
    "id": "FzIMZrFe5qD6"
   },
   "source": [
    " Nhớ lại từ bài giảng, chúng ta cũng có thể tính xác suất dự đoán từ score sử dụng:\n",
    " <br>\n",
    " $$P(y_i = +1 | \\mathbf{x}_i, \\mathbf{w}) = \\dfrac{1}{1+\\exp{(-\\mathbf{w}^\\intercal h(\\mathbf{x}_i))}}$$"
   ]
  },
  {
   "cell_type": "markdown",
   "metadata": {
    "id": "h6CdJhsT5qD7"
   },
   "source": [
    "Chúng ta có thể sử dụng hàm predict_proba() từ scikit-learn."
   ]
  },
  {
   "cell_type": "code",
   "execution_count": 21,
   "metadata": {
    "id": "6qFt_W8J5qD8"
   },
   "outputs": [
    {
     "name": "stdout",
     "output_type": "stream",
     "text": [
      "[[7.62359041e-04 9.99237641e-01]\n",
      " [2.62385624e-07 9.99999738e-01]\n",
      " [9.93364725e-01 6.63527515e-03]\n",
      " [2.26619560e-01 7.73380440e-01]\n",
      " [2.30070709e-05 9.99976993e-01]]\n"
     ]
    }
   ],
   "source": [
    "print (clf.predict_proba(sample_test_matrix))\n",
    "# LƯU Ý: P(yi=+1|xi,w) thể hiện trong cột thứ hai, cột thứ nhất thể hiện P(yi=-1|xi,w)"
   ]
  },
  {
   "cell_type": "markdown",
   "metadata": {
    "id": "E6FDJdXl5qD_"
   },
   "source": [
    "Tính accuracy:\n",
    "<br>\n",
    "$$\\mbox{accuracy} = \\dfrac{\\mbox{# correctly classified examples}}{\\mbox{# total examples}}$$\n",
    "<br>\n",
    "Chúng ta có thể sử dụng hàm score() từ scikit-learn."
   ]
  },
  {
   "cell_type": "code",
   "execution_count": 22,
   "metadata": {
    "id": "csHAIKFk5qEA"
   },
   "outputs": [
    {
     "name": "stdout",
     "output_type": "stream",
     "text": [
      "0.8\n"
     ]
    }
   ],
   "source": [
    "# Accuracy của 6 mẫu trên :DD\n",
    "print (clf.score(sample_test_matrix, sample_test_data['sentiment']))"
   ]
  },
  {
   "cell_type": "code",
   "execution_count": 23,
   "metadata": {
    "id": "r5j7XFn35qEH"
   },
   "outputs": [
    {
     "name": "stdout",
     "output_type": "stream",
     "text": [
      "Test accuracy: 0.8994746413416852\n"
     ]
    }
   ],
   "source": [
    "# Accuracy cho toàn bộ test_data\n",
    "print ('Test accuracy: {}'.format(clf.score(test_matrix, test_data['sentiment'])))"
   ]
  },
  {
   "cell_type": "code",
   "execution_count": null,
   "metadata": {
    "id": "_F5CSLPh5qEM"
   },
   "outputs": [],
   "source": []
  }
 ],
 "metadata": {
  "colab": {
   "collapsed_sections": [],
   "name": "[VN]Dự đoán cảm xúc từ các bài bình luận sản phẩm.ipynb",
   "provenance": [
    {
     "file_id": "1D4rONei30_PbA6332Mgl3qub4zBJXlwh",
     "timestamp": 1629455913545
    }
   ]
  },
  "kernelspec": {
   "display_name": "Python 3 (ipykernel)",
   "language": "python",
   "name": "python3"
  },
  "language_info": {
   "codemirror_mode": {
    "name": "ipython",
    "version": 3
   },
   "file_extension": ".py",
   "mimetype": "text/x-python",
   "name": "python",
   "nbconvert_exporter": "python",
   "pygments_lexer": "ipython3",
   "version": "3.11.4"
  }
 },
 "nbformat": 4,
 "nbformat_minor": 1
}
