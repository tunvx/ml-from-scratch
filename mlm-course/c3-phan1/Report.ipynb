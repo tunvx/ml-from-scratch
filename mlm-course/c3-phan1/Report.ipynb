{
 "cells": [
  {
   "attachments": {},
   "cell_type": "markdown",
   "metadata": {},
   "source": [
    "# Presentation sections\n",
    "### 1. Definition classification problem\n",
    "### 2. Linear classification (the simplest)\n",
    "### 3. Classification probability"
   ]
  },
  {
   "attachments": {},
   "cell_type": "markdown",
   "metadata": {},
   "source": [
    "# 1. Definition classification problem\n",
    "### **What is classification?\n",
    "<div style=\"text-align:center\">\n",
    "  <img src=\"img/definition_classification.png\" width=500/>\n",
    "</div>\n",
    "\n",
    "### **Some classification problems:\n",
    "+ Spam filtering: Email --> Not spam or spam\n",
    "+ Image classification: Images pixels --> Predicted object\n",
    "+ Personalized medical diagnosis: Colected info --> Heath state\n",
    "\n",
    "### **What is different between classification and regression problem?\n",
    "| Criteria              | Classification              | Regression                  |\n",
    "|-----------------------|-----------------------------|-----------------------------|\n",
    "| **Objective**         | Predict class or group      | Predict continuous value    |\n",
    "| **Output**            | Categorical (class)         | Continuous value on real number line |\n",
    "| **Methods**           | SVM, Decision Trees, Neural Networks | Linear Regression, Polynomial Regression, Neural Networks |\n",
    "| **Performance Metrics**| Accuracy, Precision, Recall, F1-score | MSE, MAE, R-squared           |\n",
    "| **Example**           | Predicting animal type (dog, cat) | Predicting house price      |\n",
    "\n"
   ]
  },
  {
   "attachments": {},
   "cell_type": "markdown",
   "metadata": {},
   "source": [
    "# 2. Linear classification"
   ]
  },
  {
   "attachments": {},
   "cell_type": "markdown",
   "metadata": {},
   "source": []
  }
 ],
 "metadata": {
  "kernelspec": {
   "display_name": "pytorch-env",
   "language": "python",
   "name": "python3"
  },
  "language_info": {
   "codemirror_mode": {
    "name": "ipython",
    "version": 3
   },
   "file_extension": ".py",
   "mimetype": "text/x-python",
   "name": "python",
   "nbconvert_exporter": "python",
   "pygments_lexer": "ipython3",
   "version": "3.9.18"
  },
  "orig_nbformat": 4
 },
 "nbformat": 4,
 "nbformat_minor": 2
}
