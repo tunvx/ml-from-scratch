{
 "cells": [
  {
   "cell_type": "markdown",
   "metadata": {
    "id": "ulRJpOLnE5TJ"
   },
   "source": [
    "## Mã hóa one-hot (OHE) của các hạng mục thường xuất hiện\n",
    "\n",
    "Chúng ta biết rằng cardinality cao và nhãn hiếm có thể khiến một số hạng mục nhất định chỉ xuất hiện trong tập huấn luyện, gây ra overfitting hoặc chỉ trong tập kiểm tra, sau đó các mô hình sẽ không biết cách chấm điểm các quan sát đó.\n",
    "\n",
    "Chúng ta cũng đã tìm hiểu về mã hóa one-hot: nếu các biến hạng mục chứa nhiều nhãn thì bằng cách mã hóa lại chúng với các biến giả, chúng ta sẽ mở rộng không gian đặc trưng một cách đáng kể.\n",
    "\n",
    "**Để tránh những rắc rối này, chúng ta chỉ có thể tạo biến giả cho các hạng mục thường xuất hiện nhất.** \n",
    "\n",
    "\n",
    "Quy trình này còn được gọi là mã hóa one-hot của các hạng mục hàng đầu.\n",
    "\n",
    "Trên thực tế, trong giải pháp chiến thắng KDD 2009 cup: [\"Winning the KDD Cup Orange Challenge with Ensemble Selection\"](http://www.mtome.com/Publications/CiML/CiML-v3-book.pdf), các tác giả giới hạn mã hóa one-hot cho 10 nhãn thường xuất hiện nhất của biến. Điều này có nghĩa là họ chỉ tạo một biến nhị phân cho mỗi nhãn trong số 10 nhãn thường xuất hiện nhất.\n",
    "\n",
    "OHE của các hạng mục thường xuyên hoặc các hạng mục hàng đầu tương đương với việc nhóm tất cả các hạng mục còn lại thành một hạng mục mới. Chúng ta sẽ hiểu rõ hơn về việc nhóm các giá trị hiếm vào một hạng mục mới trong notebook sau.\n",
    "\n",
    "\n",
    "### Ưu điểm của OHE các hạng mục hàng đầu\n",
    "\n",
    "- Dễ triển khai.\n",
    "- Không yêu cầu nhiều giờ thăm dò biến.\n",
    "- Không mở rộng nhiều không gian đặc trưng.\n",
    "- Thích hợp với mô hình tuyến tính.\n",
    "\n",
    "\n",
    "### Hạn chế\n",
    "\n",
    "- Không thêm bất kỳ thông tin nào có thể khiến biến có tính dự đoán hơn.\n",
    "- Không giữ thông tin của các nhãn bị bỏ qua.\n",
    "\n",
    "\n",
    "Các biến hạng mục thường hiển thị một vài hạng mục nổi bật trong khi các nhãn còn lại thêm ít thông tin. Do đó, OHE của các hạng mục hàng đầu là một kỹ thuật đơn giản và hữu ích.\n",
    "\n",
    "### Lưu ý\n",
    "\n",
    "Số lượng các biến hàng đầu được đặt tùy ý. Trong cuộc thi KDD, các tác giả đã chọn 10, nhưng cũng có thể là 15 hoặc 5. Con số này có thể được chọn tùy ý hoặc bắt nguồn từ việc thăm dò dữ liệu.\n",
    "\n",
    "\n",
    "## Trong bản mô phỏng này:\n",
    "\n",
    "Chúng ta sẽ thực hiện mã hóa one-hot với:\n",
    "- pandas và NumPy\n",
    "- Feature-Engine\n",
    "\n",
    "Chúng ta sẽ sử dụng tập dữ liệu giá nhà để minh họa các ưu điểm và hạn chế của từng triển khai."
   ]
  },
  {
   "cell_type": "code",
   "execution_count": 1,
   "metadata": {
    "id": "OzTDxPuEE5TO"
   },
   "outputs": [],
   "source": [
    "import numpy as np\n",
    "import pandas as pd\n",
    "\n",
    "# chia tập dữ liệu\n",
    "from sklearn.model_selection import train_test_split\n",
    "\n",
    "# mã hóa one-hot với feature-engine\n",
    "from feature_engine.encoding import OneHotEncoder"
   ]
  },
  {
   "cell_type": "code",
   "execution_count": 2,
   "metadata": {
    "id": "hkFlSC3rE5TP",
    "outputId": "0573b8b0-bf40-41fb-a7c8-0b6606b121e0"
   },
   "outputs": [
    {
     "data": {
      "text/html": [
       "<div>\n",
       "<style scoped>\n",
       "    .dataframe tbody tr th:only-of-type {\n",
       "        vertical-align: middle;\n",
       "    }\n",
       "\n",
       "    .dataframe tbody tr th {\n",
       "        vertical-align: top;\n",
       "    }\n",
       "\n",
       "    .dataframe thead th {\n",
       "        text-align: right;\n",
       "    }\n",
       "</style>\n",
       "<table border=\"1\" class=\"dataframe\">\n",
       "  <thead>\n",
       "    <tr style=\"text-align: right;\">\n",
       "      <th></th>\n",
       "      <th>Neighborhood</th>\n",
       "      <th>Exterior1st</th>\n",
       "      <th>Exterior2nd</th>\n",
       "      <th>SalePrice</th>\n",
       "    </tr>\n",
       "  </thead>\n",
       "  <tbody>\n",
       "    <tr>\n",
       "      <th>0</th>\n",
       "      <td>CollgCr</td>\n",
       "      <td>VinylSd</td>\n",
       "      <td>VinylSd</td>\n",
       "      <td>208500</td>\n",
       "    </tr>\n",
       "    <tr>\n",
       "      <th>1</th>\n",
       "      <td>Veenker</td>\n",
       "      <td>MetalSd</td>\n",
       "      <td>MetalSd</td>\n",
       "      <td>181500</td>\n",
       "    </tr>\n",
       "    <tr>\n",
       "      <th>2</th>\n",
       "      <td>CollgCr</td>\n",
       "      <td>VinylSd</td>\n",
       "      <td>VinylSd</td>\n",
       "      <td>223500</td>\n",
       "    </tr>\n",
       "    <tr>\n",
       "      <th>3</th>\n",
       "      <td>Crawfor</td>\n",
       "      <td>Wd Sdng</td>\n",
       "      <td>Wd Shng</td>\n",
       "      <td>140000</td>\n",
       "    </tr>\n",
       "    <tr>\n",
       "      <th>4</th>\n",
       "      <td>NoRidge</td>\n",
       "      <td>VinylSd</td>\n",
       "      <td>VinylSd</td>\n",
       "      <td>250000</td>\n",
       "    </tr>\n",
       "  </tbody>\n",
       "</table>\n",
       "</div>"
      ],
      "text/plain": [
       "  Neighborhood Exterior1st Exterior2nd  SalePrice\n",
       "0      CollgCr     VinylSd     VinylSd     208500\n",
       "1      Veenker     MetalSd     MetalSd     181500\n",
       "2      CollgCr     VinylSd     VinylSd     223500\n",
       "3      Crawfor     Wd Sdng     Wd Shng     140000\n",
       "4      NoRidge     VinylSd     VinylSd     250000"
      ]
     },
     "execution_count": 2,
     "metadata": {},
     "output_type": "execute_result"
    }
   ],
   "source": [
    "# load tập dữ liệu\n",
    "\n",
    "data = pd.read_csv(\n",
    "    '../dataset/houseprice.csv',\n",
    "    usecols=['Neighborhood', 'Exterior1st', 'Exterior2nd', 'SalePrice'])\n",
    "\n",
    "data.head()"
   ]
  },
  {
   "cell_type": "code",
   "execution_count": 3,
   "metadata": {
    "id": "pbctxeCGE5TS",
    "outputId": "c65130ba-59ea-481d-eb9c-e3f5e10ec1ec"
   },
   "outputs": [
    {
     "name": "stdout",
     "output_type": "stream",
     "text": [
      "Neighborhood :  25  labels\n",
      "Exterior1st :  15  labels\n",
      "Exterior2nd :  16  labels\n",
      "SalePrice :  663  labels\n"
     ]
    }
   ],
   "source": [
    "## Yêu cầu 1: xem từng biến có bao nhiêu nhãn\n",
    "\n",
    "## VIẾT CODE Ở ĐÂY:\n",
    "for col in data.columns:\n",
    "    print(col, ': ', len(data[col].unique()), ' labels')"
   ]
  },
  {
   "cell_type": "markdown",
   "metadata": {
    "id": "L3X1G6hiPTYE"
   },
   "source": [
    "<details><summary> Gợi ý </summary>\n",
    "\n",
    "[unique()](https://pandas.pydata.org/pandas-docs/stable/reference/api/pandas.unique.html)\n",
    "\n",
    "</details>"
   ]
  },
  {
   "cell_type": "code",
   "execution_count": 4,
   "metadata": {
    "id": "KKAwQi-OE5TT",
    "outputId": "4ccb03e3-9a90-4ad1-b5a9-6fa74b187425"
   },
   "outputs": [
    {
     "data": {
      "text/plain": [
       "array(['CollgCr', 'Veenker', 'Crawfor', 'NoRidge', 'Mitchel', 'Somerst',\n",
       "       'NWAmes', 'OldTown', 'BrkSide', 'Sawyer', 'NridgHt', 'NAmes',\n",
       "       'SawyerW', 'IDOTRR', 'MeadowV', 'Edwards', 'Timber', 'Gilbert',\n",
       "       'StoneBr', 'ClearCr', 'NPkVill', 'Blmngtn', 'BrDale', 'SWISU',\n",
       "       'Blueste'], dtype=object)"
      ]
     },
     "execution_count": 4,
     "metadata": {},
     "output_type": "execute_result"
    }
   ],
   "source": [
    "# khám phá các hạng mục duy nhất\n",
    "data['Neighborhood'].unique()"
   ]
  },
  {
   "cell_type": "code",
   "execution_count": 5,
   "metadata": {
    "id": "HgsD114nE5TU",
    "outputId": "ab78b237-3e50-47d7-fd3f-824e64bcea8b"
   },
   "outputs": [
    {
     "data": {
      "text/plain": [
       "array(['VinylSd', 'MetalSd', 'Wd Sdng', 'HdBoard', 'BrkFace', 'WdShing',\n",
       "       'CemntBd', 'Plywood', 'AsbShng', 'Stucco', 'BrkComm', 'AsphShn',\n",
       "       'Stone', 'ImStucc', 'CBlock'], dtype=object)"
      ]
     },
     "execution_count": 5,
     "metadata": {},
     "output_type": "execute_result"
    }
   ],
   "source": [
    "data['Exterior1st'].unique()"
   ]
  },
  {
   "cell_type": "code",
   "execution_count": 6,
   "metadata": {
    "id": "Cf9TyrQhE5TV",
    "outputId": "972772fa-067e-4ab7-e5df-1c0282a180a3"
   },
   "outputs": [
    {
     "data": {
      "text/plain": [
       "array(['VinylSd', 'MetalSd', 'Wd Shng', 'HdBoard', 'Plywood', 'Wd Sdng',\n",
       "       'CmentBd', 'BrkFace', 'Stucco', 'AsbShng', 'Brk Cmn', 'ImStucc',\n",
       "       'AsphShn', 'Stone', 'Other', 'CBlock'], dtype=object)"
      ]
     },
     "execution_count": 6,
     "metadata": {},
     "output_type": "execute_result"
    }
   ],
   "source": [
    "data['Exterior2nd'].unique()"
   ]
  },
  {
   "cell_type": "markdown",
   "metadata": {
    "id": "UopGeNBeE5TX"
   },
   "source": [
    "### Mã hóa quan trọng\n",
    "\n",
    "Cần lựa chọn các hạng mục hàng đầu hoặc thường xuất hiện nhất dựa trên dữ liệu huấn luyện. Sau đó, chúng ta cũng sẽ sử dụng các hạng mục hàng đầu đó để mã hóa các biến trong dữ liệu kiểm tra. "
   ]
  },
  {
   "cell_type": "code",
   "execution_count": 7,
   "metadata": {
    "id": "Mxhhu9Y9E5TY",
    "outputId": "30deffab-1a97-4247-a5d2-0a7c34787f82"
   },
   "outputs": [
    {
     "data": {
      "text/plain": [
       "((1022, 3), (438, 3))"
      ]
     },
     "execution_count": 7,
     "metadata": {},
     "output_type": "execute_result"
    }
   ],
   "source": [
    "# hãy chia thành tập huấn luyện và tập kiểm tra\n",
    "\n",
    "X_train, X_test, y_train, y_test = train_test_split(\n",
    "    data[['Neighborhood', 'Exterior1st', 'Exterior2nd']],  # các yếu tố dự báo\n",
    "    data['SalePrice'],  # mục tiêu\n",
    "    test_size=0.3,  # phần trăm các quan sát trong tập kiểm tra\n",
    "    random_state=0)  # seed đảm bảo khả năng tái lặp\n",
    "\n",
    "X_train.shape, X_test.shape"
   ]
  },
  {
   "cell_type": "code",
   "execution_count": 9,
   "metadata": {
    "id": "kZsUaTjIE5Ta",
    "outputId": "eb342f95-9022-461a-aaab-4cc2294d29ae"
   },
   "outputs": [
    {
     "data": {
      "text/plain": [
       "(1022, 53)"
      ]
     },
     "execution_count": 9,
     "metadata": {},
     "output_type": "execute_result"
    }
   ],
   "source": [
    "## Yêu cầu 2: trước tiên kiểm tra cách OHE mở rộng không gian đặc trưng\n",
    "\n",
    "## VIẾT CODE Ở ĐÂY:\n",
    "pd.get_dummies(X_train, drop_first=True).shape"
   ]
  },
  {
   "cell_type": "markdown",
   "metadata": {
    "id": "xxIrS_QlPkWS"
   },
   "source": [
    "<details><summary> Gợi ý </summary>\n",
    "\n",
    "[shape](https://pandas.pydata.org/pandas-docs/version/0.23/generated/pandas.DataFrame.shape.html)\n",
    "\n",
    "</details>"
   ]
  },
  {
   "cell_type": "markdown",
   "metadata": {
    "id": "xUiTqx72E5Tb"
   },
   "source": [
    "Từ 3 biến hạng mục ban đầu, chúng ta kết thúc với 53 biến.\n",
    "\n",
    "Các con số này vẫn chưa phải là lớn; trên thực tế, chúng ta có thể làm việc với chúng tương đối dễ dàng. Tuy nhiên, trong các tập dữ liệu đời thực, các biến hạng mục có thể có độ cardinal cao và với OHE, chúng ta có thể kết thúc với các tập dữ liệu chứa hàng nghìn cột.\n",
    "\n",
    "\n",
    "## OHE với pandas và NumPy\n",
    "\n",
    "\n",
    "### Ưu điểm\n",
    "\n",
    "- nhanh\n",
    "- trả về pandas dataframe\n",
    "- trả về tên đặc trưng cho các biến giả\n",
    "\n",
    "### Hạn chế:\n",
    "\n",
    "- Không giữ thông tin từ tập huấn luyện để truyền tới dữ liệu kiểm tra."
   ]
  },
  {
   "cell_type": "code",
   "execution_count": 12,
   "metadata": {
    "id": "uIgKb8jSE5Tb",
    "outputId": "8ba4a532-c2ad-49cd-8b81-bb0eef2fea93"
   },
   "outputs": [
    {
     "data": {
      "text/plain": [
       "Neighborhood\n",
       "NAmes      151\n",
       "CollgCr    105\n",
       "OldTown     73\n",
       "Edwards     71\n",
       "Sawyer      61\n",
       "Somerst     56\n",
       "Gilbert     55\n",
       "NWAmes      51\n",
       "NridgHt     51\n",
       "SawyerW     45\n",
       "Name: count, dtype: int64"
      ]
     },
     "execution_count": 12,
     "metadata": {},
     "output_type": "execute_result"
    }
   ],
   "source": [
    "## Yêu cầu 3: tìm 10 hạng mục thường xuất hiện nhất cho biến 'Neighborhood'\n",
    "\n",
    "## VIẾT CODE Ở ĐÂY:\n",
    "X_train['Neighborhood'].value_counts().sort_values(ascending=False).head(10)"
   ]
  },
  {
   "cell_type": "markdown",
   "metadata": {
    "id": "hNYI2QodPu8K"
   },
   "source": [
    "<details><summary> Gợi ý </summary>\n",
    "\n",
    "[value_counts()](https://pandas.pydata.org/docs/reference/api/pandas.Series.value_counts.html)\n",
    "\n",
    "[sort_values()](https://pandas.pydata.org/pandas-docs/stable/reference/api/pandas.Series.sort_values.html)\n",
    "\n",
    "</details>"
   ]
  },
  {
   "cell_type": "code",
   "execution_count": 20,
   "metadata": {
    "id": "n6Y5upYcE5Tc",
    "outputId": "50e20411-5fbf-4569-b3dc-3c482f0fae21"
   },
   "outputs": [
    {
     "data": {
      "text/plain": [
       "['NAmes',\n",
       " 'CollgCr',\n",
       " 'OldTown',\n",
       " 'Edwards',\n",
       " 'Sawyer',\n",
       " 'Somerst',\n",
       " 'Gilbert',\n",
       " 'NWAmes',\n",
       " 'NridgHt',\n",
       " 'SawyerW']"
      ]
     },
     "execution_count": 20,
     "metadata": {},
     "output_type": "execute_result"
    }
   ],
   "source": [
    "## Yêu cầu 4: tạo một list với các mục thường xuất hiện nhất của biến\n",
    "\n",
    "## VIẾT CODE Ở ĐÂY:\n",
    "top_10 = [\n",
    "    x for x in X_train['Neighborhood'].value_counts().sort_values(ascending=False).head(10).index.tolist()\n",
    "]\n",
    "\n",
    "top_10"
   ]
  },
  {
   "cell_type": "code",
   "execution_count": 21,
   "metadata": {
    "id": "AACUJTTNE5Td",
    "outputId": "984d6192-0393-4e6e-df29-5ac14cbd57cd"
   },
   "outputs": [
    {
     "data": {
      "text/html": [
       "<div>\n",
       "<style scoped>\n",
       "    .dataframe tbody tr th:only-of-type {\n",
       "        vertical-align: middle;\n",
       "    }\n",
       "\n",
       "    .dataframe tbody tr th {\n",
       "        vertical-align: top;\n",
       "    }\n",
       "\n",
       "    .dataframe thead th {\n",
       "        text-align: right;\n",
       "    }\n",
       "</style>\n",
       "<table border=\"1\" class=\"dataframe\">\n",
       "  <thead>\n",
       "    <tr style=\"text-align: right;\">\n",
       "      <th></th>\n",
       "      <th>Neighborhood</th>\n",
       "      <th>Neighborhood_NAmes</th>\n",
       "      <th>Neighborhood_CollgCr</th>\n",
       "      <th>Neighborhood_OldTown</th>\n",
       "      <th>Neighborhood_Edwards</th>\n",
       "      <th>Neighborhood_Sawyer</th>\n",
       "      <th>Neighborhood_Somerst</th>\n",
       "      <th>Neighborhood_Gilbert</th>\n",
       "      <th>Neighborhood_NWAmes</th>\n",
       "      <th>Neighborhood_NridgHt</th>\n",
       "      <th>Neighborhood_SawyerW</th>\n",
       "    </tr>\n",
       "  </thead>\n",
       "  <tbody>\n",
       "    <tr>\n",
       "      <th>64</th>\n",
       "      <td>CollgCr</td>\n",
       "      <td>0</td>\n",
       "      <td>1</td>\n",
       "      <td>0</td>\n",
       "      <td>0</td>\n",
       "      <td>0</td>\n",
       "      <td>0</td>\n",
       "      <td>0</td>\n",
       "      <td>0</td>\n",
       "      <td>0</td>\n",
       "      <td>0</td>\n",
       "    </tr>\n",
       "    <tr>\n",
       "      <th>682</th>\n",
       "      <td>ClearCr</td>\n",
       "      <td>0</td>\n",
       "      <td>0</td>\n",
       "      <td>0</td>\n",
       "      <td>0</td>\n",
       "      <td>0</td>\n",
       "      <td>0</td>\n",
       "      <td>0</td>\n",
       "      <td>0</td>\n",
       "      <td>0</td>\n",
       "      <td>0</td>\n",
       "    </tr>\n",
       "    <tr>\n",
       "      <th>960</th>\n",
       "      <td>BrkSide</td>\n",
       "      <td>0</td>\n",
       "      <td>0</td>\n",
       "      <td>0</td>\n",
       "      <td>0</td>\n",
       "      <td>0</td>\n",
       "      <td>0</td>\n",
       "      <td>0</td>\n",
       "      <td>0</td>\n",
       "      <td>0</td>\n",
       "      <td>0</td>\n",
       "    </tr>\n",
       "    <tr>\n",
       "      <th>1384</th>\n",
       "      <td>Edwards</td>\n",
       "      <td>0</td>\n",
       "      <td>0</td>\n",
       "      <td>0</td>\n",
       "      <td>1</td>\n",
       "      <td>0</td>\n",
       "      <td>0</td>\n",
       "      <td>0</td>\n",
       "      <td>0</td>\n",
       "      <td>0</td>\n",
       "      <td>0</td>\n",
       "    </tr>\n",
       "    <tr>\n",
       "      <th>1100</th>\n",
       "      <td>SWISU</td>\n",
       "      <td>0</td>\n",
       "      <td>0</td>\n",
       "      <td>0</td>\n",
       "      <td>0</td>\n",
       "      <td>0</td>\n",
       "      <td>0</td>\n",
       "      <td>0</td>\n",
       "      <td>0</td>\n",
       "      <td>0</td>\n",
       "      <td>0</td>\n",
       "    </tr>\n",
       "    <tr>\n",
       "      <th>416</th>\n",
       "      <td>Sawyer</td>\n",
       "      <td>0</td>\n",
       "      <td>0</td>\n",
       "      <td>0</td>\n",
       "      <td>0</td>\n",
       "      <td>1</td>\n",
       "      <td>0</td>\n",
       "      <td>0</td>\n",
       "      <td>0</td>\n",
       "      <td>0</td>\n",
       "      <td>0</td>\n",
       "    </tr>\n",
       "    <tr>\n",
       "      <th>1034</th>\n",
       "      <td>Crawfor</td>\n",
       "      <td>0</td>\n",
       "      <td>0</td>\n",
       "      <td>0</td>\n",
       "      <td>0</td>\n",
       "      <td>0</td>\n",
       "      <td>0</td>\n",
       "      <td>0</td>\n",
       "      <td>0</td>\n",
       "      <td>0</td>\n",
       "      <td>0</td>\n",
       "    </tr>\n",
       "    <tr>\n",
       "      <th>853</th>\n",
       "      <td>NAmes</td>\n",
       "      <td>1</td>\n",
       "      <td>0</td>\n",
       "      <td>0</td>\n",
       "      <td>0</td>\n",
       "      <td>0</td>\n",
       "      <td>0</td>\n",
       "      <td>0</td>\n",
       "      <td>0</td>\n",
       "      <td>0</td>\n",
       "      <td>0</td>\n",
       "    </tr>\n",
       "    <tr>\n",
       "      <th>472</th>\n",
       "      <td>Edwards</td>\n",
       "      <td>0</td>\n",
       "      <td>0</td>\n",
       "      <td>0</td>\n",
       "      <td>1</td>\n",
       "      <td>0</td>\n",
       "      <td>0</td>\n",
       "      <td>0</td>\n",
       "      <td>0</td>\n",
       "      <td>0</td>\n",
       "      <td>0</td>\n",
       "    </tr>\n",
       "    <tr>\n",
       "      <th>1011</th>\n",
       "      <td>Edwards</td>\n",
       "      <td>0</td>\n",
       "      <td>0</td>\n",
       "      <td>0</td>\n",
       "      <td>1</td>\n",
       "      <td>0</td>\n",
       "      <td>0</td>\n",
       "      <td>0</td>\n",
       "      <td>0</td>\n",
       "      <td>0</td>\n",
       "      <td>0</td>\n",
       "    </tr>\n",
       "  </tbody>\n",
       "</table>\n",
       "</div>"
      ],
      "text/plain": [
       "     Neighborhood  Neighborhood_NAmes  Neighborhood_CollgCr  \\\n",
       "64        CollgCr                   0                     1   \n",
       "682       ClearCr                   0                     0   \n",
       "960       BrkSide                   0                     0   \n",
       "1384      Edwards                   0                     0   \n",
       "1100        SWISU                   0                     0   \n",
       "416        Sawyer                   0                     0   \n",
       "1034      Crawfor                   0                     0   \n",
       "853         NAmes                   1                     0   \n",
       "472       Edwards                   0                     0   \n",
       "1011      Edwards                   0                     0   \n",
       "\n",
       "      Neighborhood_OldTown  Neighborhood_Edwards  Neighborhood_Sawyer  \\\n",
       "64                       0                     0                    0   \n",
       "682                      0                     0                    0   \n",
       "960                      0                     0                    0   \n",
       "1384                     0                     1                    0   \n",
       "1100                     0                     0                    0   \n",
       "416                      0                     0                    1   \n",
       "1034                     0                     0                    0   \n",
       "853                      0                     0                    0   \n",
       "472                      0                     1                    0   \n",
       "1011                     0                     1                    0   \n",
       "\n",
       "      Neighborhood_Somerst  Neighborhood_Gilbert  Neighborhood_NWAmes  \\\n",
       "64                       0                     0                    0   \n",
       "682                      0                     0                    0   \n",
       "960                      0                     0                    0   \n",
       "1384                     0                     0                    0   \n",
       "1100                     0                     0                    0   \n",
       "416                      0                     0                    0   \n",
       "1034                     0                     0                    0   \n",
       "853                      0                     0                    0   \n",
       "472                      0                     0                    0   \n",
       "1011                     0                     0                    0   \n",
       "\n",
       "      Neighborhood_NridgHt  Neighborhood_SawyerW  \n",
       "64                       0                     0  \n",
       "682                      0                     0  \n",
       "960                      0                     0  \n",
       "1384                     0                     0  \n",
       "1100                     0                     0  \n",
       "416                      0                     0  \n",
       "1034                     0                     0  \n",
       "853                      0                     0  \n",
       "472                      0                     0  \n",
       "1011                     0                     0  "
      ]
     },
     "execution_count": 21,
     "metadata": {},
     "output_type": "execute_result"
    }
   ],
   "source": [
    "## Yêu cầu 5: tạo 10 biến nhị phân\n",
    "\n",
    "for label in top_10:\n",
    "    ## VIẾT CODE Ở ĐÂY:\n",
    "    X_train['Neighborhood' + '_' + label] = np.where(\n",
    "        X_train['Neighborhood'] == label, 1, 0)\n",
    "    \n",
    "    X_test['Neighborhood' + '_' + label] = np.where(\n",
    "        X_test['Neighborhood'] == label, 1, 0)\n",
    "\n",
    "# hãy hiển thị kết quả\n",
    "## VIẾT CODE Ở ĐÂY:\n",
    "X_train[['Neighborhood'] + ['Neighborhood'+'_'+ c for c in top_10]].head(10)"
   ]
  },
  {
   "cell_type": "code",
   "execution_count": 22,
   "metadata": {
    "id": "YKgZ8j6uE5Tf"
   },
   "outputs": [],
   "source": [
    "# chuyển các lệnh trước đó thành 2 hàm\n",
    "\n",
    "def calculate_top_categories(df, variable, how_many=10):\n",
    "    return [\n",
    "        x for x in df[variable].value_counts().sort_values(\n",
    "            ascending=False).head(how_many).index\n",
    "    ]\n",
    "\n",
    "\n",
    "def one_hot_encode(train, test, variable, top_x_labels):\n",
    "\n",
    "    for label in top_x_labels:\n",
    "        train[variable + '_' + label] = np.where(\n",
    "            train[variable] == label, 1, 0)\n",
    "        \n",
    "        test[variable + '_' + label] = np.where(\n",
    "            test[variable] == label,1, 0)"
   ]
  },
  {
   "cell_type": "code",
   "execution_count": 24,
   "metadata": {
    "id": "Yo2xuqRFE5Tf"
   },
   "outputs": [],
   "source": [
    "## Yêu cầu 6: chạy một vòng lặp qua các biến hạng mục còn lại\n",
    "\n",
    "for variable in ['Exterior1st', 'Exterior2nd']:\n",
    "    \n",
    "    ## VIẾT CODE Ở ĐÂY:\n",
    "    top_categories = calculate_top_categories(X_train, 'Neighborhood', how_many=10)\n",
    "    \n",
    "    ## VIẾT CODE Ở ĐÂY:\n",
    "    one_hot_encode(X_train, X_test, 'Neighborhood', top_categories)"
   ]
  },
  {
   "cell_type": "code",
   "execution_count": 25,
   "metadata": {
    "id": "-J6jMj9QE5Tg",
    "outputId": "4573ceb2-963b-459f-f23a-7de3c72cff87"
   },
   "outputs": [
    {
     "data": {
      "text/html": [
       "<div>\n",
       "<style scoped>\n",
       "    .dataframe tbody tr th:only-of-type {\n",
       "        vertical-align: middle;\n",
       "    }\n",
       "\n",
       "    .dataframe tbody tr th {\n",
       "        vertical-align: top;\n",
       "    }\n",
       "\n",
       "    .dataframe thead th {\n",
       "        text-align: right;\n",
       "    }\n",
       "</style>\n",
       "<table border=\"1\" class=\"dataframe\">\n",
       "  <thead>\n",
       "    <tr style=\"text-align: right;\">\n",
       "      <th></th>\n",
       "      <th>Neighborhood</th>\n",
       "      <th>Exterior1st</th>\n",
       "      <th>Exterior2nd</th>\n",
       "      <th>Neighborhood_NAmes</th>\n",
       "      <th>Neighborhood_CollgCr</th>\n",
       "      <th>Neighborhood_OldTown</th>\n",
       "      <th>Neighborhood_Edwards</th>\n",
       "      <th>Neighborhood_Sawyer</th>\n",
       "      <th>Neighborhood_Somerst</th>\n",
       "      <th>Neighborhood_Gilbert</th>\n",
       "      <th>Neighborhood_NWAmes</th>\n",
       "      <th>Neighborhood_NridgHt</th>\n",
       "      <th>Neighborhood_SawyerW</th>\n",
       "    </tr>\n",
       "  </thead>\n",
       "  <tbody>\n",
       "    <tr>\n",
       "      <th>64</th>\n",
       "      <td>CollgCr</td>\n",
       "      <td>VinylSd</td>\n",
       "      <td>VinylSd</td>\n",
       "      <td>0</td>\n",
       "      <td>1</td>\n",
       "      <td>0</td>\n",
       "      <td>0</td>\n",
       "      <td>0</td>\n",
       "      <td>0</td>\n",
       "      <td>0</td>\n",
       "      <td>0</td>\n",
       "      <td>0</td>\n",
       "      <td>0</td>\n",
       "    </tr>\n",
       "    <tr>\n",
       "      <th>682</th>\n",
       "      <td>ClearCr</td>\n",
       "      <td>Wd Sdng</td>\n",
       "      <td>Wd Sdng</td>\n",
       "      <td>0</td>\n",
       "      <td>0</td>\n",
       "      <td>0</td>\n",
       "      <td>0</td>\n",
       "      <td>0</td>\n",
       "      <td>0</td>\n",
       "      <td>0</td>\n",
       "      <td>0</td>\n",
       "      <td>0</td>\n",
       "      <td>0</td>\n",
       "    </tr>\n",
       "    <tr>\n",
       "      <th>960</th>\n",
       "      <td>BrkSide</td>\n",
       "      <td>Wd Sdng</td>\n",
       "      <td>Plywood</td>\n",
       "      <td>0</td>\n",
       "      <td>0</td>\n",
       "      <td>0</td>\n",
       "      <td>0</td>\n",
       "      <td>0</td>\n",
       "      <td>0</td>\n",
       "      <td>0</td>\n",
       "      <td>0</td>\n",
       "      <td>0</td>\n",
       "      <td>0</td>\n",
       "    </tr>\n",
       "    <tr>\n",
       "      <th>1384</th>\n",
       "      <td>Edwards</td>\n",
       "      <td>WdShing</td>\n",
       "      <td>Wd Shng</td>\n",
       "      <td>0</td>\n",
       "      <td>0</td>\n",
       "      <td>0</td>\n",
       "      <td>1</td>\n",
       "      <td>0</td>\n",
       "      <td>0</td>\n",
       "      <td>0</td>\n",
       "      <td>0</td>\n",
       "      <td>0</td>\n",
       "      <td>0</td>\n",
       "    </tr>\n",
       "    <tr>\n",
       "      <th>1100</th>\n",
       "      <td>SWISU</td>\n",
       "      <td>Wd Sdng</td>\n",
       "      <td>Wd Sdng</td>\n",
       "      <td>0</td>\n",
       "      <td>0</td>\n",
       "      <td>0</td>\n",
       "      <td>0</td>\n",
       "      <td>0</td>\n",
       "      <td>0</td>\n",
       "      <td>0</td>\n",
       "      <td>0</td>\n",
       "      <td>0</td>\n",
       "      <td>0</td>\n",
       "    </tr>\n",
       "  </tbody>\n",
       "</table>\n",
       "</div>"
      ],
      "text/plain": [
       "     Neighborhood Exterior1st Exterior2nd  Neighborhood_NAmes  \\\n",
       "64        CollgCr     VinylSd     VinylSd                   0   \n",
       "682       ClearCr     Wd Sdng     Wd Sdng                   0   \n",
       "960       BrkSide     Wd Sdng     Plywood                   0   \n",
       "1384      Edwards     WdShing     Wd Shng                   0   \n",
       "1100        SWISU     Wd Sdng     Wd Sdng                   0   \n",
       "\n",
       "      Neighborhood_CollgCr  Neighborhood_OldTown  Neighborhood_Edwards  \\\n",
       "64                       1                     0                     0   \n",
       "682                      0                     0                     0   \n",
       "960                      0                     0                     0   \n",
       "1384                     0                     0                     1   \n",
       "1100                     0                     0                     0   \n",
       "\n",
       "      Neighborhood_Sawyer  Neighborhood_Somerst  Neighborhood_Gilbert  \\\n",
       "64                      0                     0                     0   \n",
       "682                     0                     0                     0   \n",
       "960                     0                     0                     0   \n",
       "1384                    0                     0                     0   \n",
       "1100                    0                     0                     0   \n",
       "\n",
       "      Neighborhood_NWAmes  Neighborhood_NridgHt  Neighborhood_SawyerW  \n",
       "64                      0                     0                     0  \n",
       "682                     0                     0                     0  \n",
       "960                     0                     0                     0  \n",
       "1384                    0                     0                     0  \n",
       "1100                    0                     0                     0  "
      ]
     },
     "execution_count": 25,
     "metadata": {},
     "output_type": "execute_result"
    }
   ],
   "source": [
    "# hãy xem kết quả\n",
    "\n",
    "X_train.head()"
   ]
  },
  {
   "cell_type": "markdown",
   "metadata": {
    "id": "FH3Tm_leE5Tg"
   },
   "source": [
    "Lưu ý bây giờ chúng ta có 30 biến giả bổ sung thay vì 53 nếu tạo biến giả cho tất cả các hạng mục.\n",
    "\n",
    "## Mã hóa one-hot của các hạng mục hàng đầu với Feature-Engine\n",
    "\n",
    "### Ưu điểm\n",
    "\n",
    "- nhanh\n",
    "- tạo số lượng các đặc trưng trong tập huấn luyện tương tự như trong tập kiểm tra\n",
    "\n",
    "### Hạn chế\n",
    "\n",
    "- Chưa biết."
   ]
  },
  {
   "cell_type": "code",
   "execution_count": 26,
   "metadata": {
    "id": "Za5Ci0NIE5Th",
    "outputId": "d6373fa1-7163-4bc8-ad8f-5c28272b8b0b"
   },
   "outputs": [
    {
     "data": {
      "text/plain": [
       "((1022, 3), (438, 3))"
      ]
     },
     "execution_count": 26,
     "metadata": {},
     "output_type": "execute_result"
    }
   ],
   "source": [
    "# chia thành tập huấn luyện và tập kiểm tra\n",
    "\n",
    "X_train, X_test, y_train, y_test = train_test_split(\n",
    "    data[['Neighborhood', 'Exterior1st', 'Exterior2nd']],  # các yếu tố dự báo\n",
    "    data['SalePrice'],  # mục tiêu\n",
    "    test_size=0.3,  # phần trăm các quan sát trong tập kiểm tra\n",
    "    random_state=0)  # seed đảm bảo khả năng tái lặp\n",
    "\n",
    "X_train.shape, X_test.shape"
   ]
  },
  {
   "cell_type": "code",
   "execution_count": 27,
   "metadata": {
    "id": "eEfwaAJpE5Th",
    "outputId": "5e4ddf6e-5a76-4a1c-8dcf-3764a553ef41"
   },
   "outputs": [
    {
     "data": {
      "text/html": [
       "<style>#sk-container-id-1 {color: black;}#sk-container-id-1 pre{padding: 0;}#sk-container-id-1 div.sk-toggleable {background-color: white;}#sk-container-id-1 label.sk-toggleable__label {cursor: pointer;display: block;width: 100%;margin-bottom: 0;padding: 0.3em;box-sizing: border-box;text-align: center;}#sk-container-id-1 label.sk-toggleable__label-arrow:before {content: \"▸\";float: left;margin-right: 0.25em;color: #696969;}#sk-container-id-1 label.sk-toggleable__label-arrow:hover:before {color: black;}#sk-container-id-1 div.sk-estimator:hover label.sk-toggleable__label-arrow:before {color: black;}#sk-container-id-1 div.sk-toggleable__content {max-height: 0;max-width: 0;overflow: hidden;text-align: left;background-color: #f0f8ff;}#sk-container-id-1 div.sk-toggleable__content pre {margin: 0.2em;color: black;border-radius: 0.25em;background-color: #f0f8ff;}#sk-container-id-1 input.sk-toggleable__control:checked~div.sk-toggleable__content {max-height: 200px;max-width: 100%;overflow: auto;}#sk-container-id-1 input.sk-toggleable__control:checked~label.sk-toggleable__label-arrow:before {content: \"▾\";}#sk-container-id-1 div.sk-estimator input.sk-toggleable__control:checked~label.sk-toggleable__label {background-color: #d4ebff;}#sk-container-id-1 div.sk-label input.sk-toggleable__control:checked~label.sk-toggleable__label {background-color: #d4ebff;}#sk-container-id-1 input.sk-hidden--visually {border: 0;clip: rect(1px 1px 1px 1px);clip: rect(1px, 1px, 1px, 1px);height: 1px;margin: -1px;overflow: hidden;padding: 0;position: absolute;width: 1px;}#sk-container-id-1 div.sk-estimator {font-family: monospace;background-color: #f0f8ff;border: 1px dotted black;border-radius: 0.25em;box-sizing: border-box;margin-bottom: 0.5em;}#sk-container-id-1 div.sk-estimator:hover {background-color: #d4ebff;}#sk-container-id-1 div.sk-parallel-item::after {content: \"\";width: 100%;border-bottom: 1px solid gray;flex-grow: 1;}#sk-container-id-1 div.sk-label:hover label.sk-toggleable__label {background-color: #d4ebff;}#sk-container-id-1 div.sk-serial::before {content: \"\";position: absolute;border-left: 1px solid gray;box-sizing: border-box;top: 0;bottom: 0;left: 50%;z-index: 0;}#sk-container-id-1 div.sk-serial {display: flex;flex-direction: column;align-items: center;background-color: white;padding-right: 0.2em;padding-left: 0.2em;position: relative;}#sk-container-id-1 div.sk-item {position: relative;z-index: 1;}#sk-container-id-1 div.sk-parallel {display: flex;align-items: stretch;justify-content: center;background-color: white;position: relative;}#sk-container-id-1 div.sk-item::before, #sk-container-id-1 div.sk-parallel-item::before {content: \"\";position: absolute;border-left: 1px solid gray;box-sizing: border-box;top: 0;bottom: 0;left: 50%;z-index: -1;}#sk-container-id-1 div.sk-parallel-item {display: flex;flex-direction: column;z-index: 1;position: relative;background-color: white;}#sk-container-id-1 div.sk-parallel-item:first-child::after {align-self: flex-end;width: 50%;}#sk-container-id-1 div.sk-parallel-item:last-child::after {align-self: flex-start;width: 50%;}#sk-container-id-1 div.sk-parallel-item:only-child::after {width: 0;}#sk-container-id-1 div.sk-dashed-wrapped {border: 1px dashed gray;margin: 0 0.4em 0.5em 0.4em;box-sizing: border-box;padding-bottom: 0.4em;background-color: white;}#sk-container-id-1 div.sk-label label {font-family: monospace;font-weight: bold;display: inline-block;line-height: 1.2em;}#sk-container-id-1 div.sk-label-container {text-align: center;}#sk-container-id-1 div.sk-container {/* jupyter's `normalize.less` sets `[hidden] { display: none; }` but bootstrap.min.css set `[hidden] { display: none !important; }` so we also need the `!important` here to be able to override the default hidden behavior on the sphinx rendered scikit-learn.org. See: https://github.com/scikit-learn/scikit-learn/issues/21755 */display: inline-block !important;position: relative;}#sk-container-id-1 div.sk-text-repr-fallback {display: none;}</style><div id=\"sk-container-id-1\" class=\"sk-top-container\"><div class=\"sk-text-repr-fallback\"><pre>OneHotEncoder(top_categories=10,\n",
       "              variables=[&#x27;Neighborhood&#x27;, &#x27;Exterior1st&#x27;, &#x27;Exterior2nd&#x27;])</pre><b>In a Jupyter environment, please rerun this cell to show the HTML representation or trust the notebook. <br />On GitHub, the HTML representation is unable to render, please try loading this page with nbviewer.org.</b></div><div class=\"sk-container\" hidden><div class=\"sk-item\"><div class=\"sk-estimator sk-toggleable\"><input class=\"sk-toggleable__control sk-hidden--visually\" id=\"sk-estimator-id-1\" type=\"checkbox\" checked><label for=\"sk-estimator-id-1\" class=\"sk-toggleable__label sk-toggleable__label-arrow\">OneHotEncoder</label><div class=\"sk-toggleable__content\"><pre>OneHotEncoder(top_categories=10,\n",
       "              variables=[&#x27;Neighborhood&#x27;, &#x27;Exterior1st&#x27;, &#x27;Exterior2nd&#x27;])</pre></div></div></div></div></div>"
      ],
      "text/plain": [
       "OneHotEncoder(top_categories=10,\n",
       "              variables=['Neighborhood', 'Exterior1st', 'Exterior2nd'])"
      ]
     },
     "execution_count": 27,
     "metadata": {},
     "output_type": "execute_result"
    }
   ],
   "source": [
    "ohe_enc = OneHotEncoder(\n",
    "    top_categories=10,  # có thể thay đổi giá trị này để chọn nhiều hoặc ít biến hơn\n",
    "    # có thể lựa chọn biến để mã hóa\n",
    "    variables=['Neighborhood', 'Exterior1st', 'Exterior2nd'],\n",
    "    drop_last=False)\n",
    "\n",
    "ohe_enc.fit(X_train)"
   ]
  },
  {
   "cell_type": "code",
   "execution_count": 28,
   "metadata": {
    "id": "Al0g0dxaE5Ti",
    "outputId": "77061422-ac55-4d51-8760-4714b71eb0c4"
   },
   "outputs": [
    {
     "data": {
      "text/plain": [
       "{'Neighborhood': ['NAmes',\n",
       "  'CollgCr',\n",
       "  'OldTown',\n",
       "  'Edwards',\n",
       "  'Sawyer',\n",
       "  'Somerst',\n",
       "  'Gilbert',\n",
       "  'NWAmes',\n",
       "  'NridgHt',\n",
       "  'SawyerW'],\n",
       " 'Exterior1st': ['VinylSd',\n",
       "  'HdBoard',\n",
       "  'Wd Sdng',\n",
       "  'MetalSd',\n",
       "  'Plywood',\n",
       "  'CemntBd',\n",
       "  'BrkFace',\n",
       "  'WdShing',\n",
       "  'Stucco',\n",
       "  'AsbShng'],\n",
       " 'Exterior2nd': ['VinylSd',\n",
       "  'Wd Sdng',\n",
       "  'HdBoard',\n",
       "  'MetalSd',\n",
       "  'Plywood',\n",
       "  'CmentBd',\n",
       "  'Wd Shng',\n",
       "  'BrkFace',\n",
       "  'AsbShng',\n",
       "  'Stucco']}"
      ]
     },
     "execution_count": 28,
     "metadata": {},
     "output_type": "execute_result"
    }
   ],
   "source": [
    "# trong dict encoder, chúng ta thấy từng hạng mục hàng đầu \n",
    "# được chọn cho từng biến\n",
    "\n",
    "ohe_enc.encoder_dict_"
   ]
  },
  {
   "cell_type": "code",
   "execution_count": 29,
   "metadata": {
    "id": "Xvgr3tcAE5Ti",
    "outputId": "dfa67030-4988-47d1-dc8e-f4832a6f2640"
   },
   "outputs": [
    {
     "data": {
      "text/plain": [
       "['Neighborhood', 'Exterior1st', 'Exterior2nd']"
      ]
     },
     "execution_count": 29,
     "metadata": {},
     "output_type": "execute_result"
    }
   ],
   "source": [
    "# đây là list các biến mà encoder sẽ biến đổi\n",
    "\n",
    "ohe_enc.variables_"
   ]
  },
  {
   "cell_type": "code",
   "execution_count": 30,
   "metadata": {
    "id": "Tz3VgjOiE5Ti",
    "outputId": "283bfcd0-b21b-443d-c987-41794805440f"
   },
   "outputs": [
    {
     "data": {
      "text/html": [
       "<div>\n",
       "<style scoped>\n",
       "    .dataframe tbody tr th:only-of-type {\n",
       "        vertical-align: middle;\n",
       "    }\n",
       "\n",
       "    .dataframe tbody tr th {\n",
       "        vertical-align: top;\n",
       "    }\n",
       "\n",
       "    .dataframe thead th {\n",
       "        text-align: right;\n",
       "    }\n",
       "</style>\n",
       "<table border=\"1\" class=\"dataframe\">\n",
       "  <thead>\n",
       "    <tr style=\"text-align: right;\">\n",
       "      <th></th>\n",
       "      <th>Neighborhood_NAmes</th>\n",
       "      <th>Neighborhood_CollgCr</th>\n",
       "      <th>Neighborhood_OldTown</th>\n",
       "      <th>Neighborhood_Edwards</th>\n",
       "      <th>Neighborhood_Sawyer</th>\n",
       "      <th>Neighborhood_Somerst</th>\n",
       "      <th>Neighborhood_Gilbert</th>\n",
       "      <th>Neighborhood_NWAmes</th>\n",
       "      <th>Neighborhood_NridgHt</th>\n",
       "      <th>Neighborhood_SawyerW</th>\n",
       "      <th>...</th>\n",
       "      <th>Exterior2nd_VinylSd</th>\n",
       "      <th>Exterior2nd_Wd Sdng</th>\n",
       "      <th>Exterior2nd_HdBoard</th>\n",
       "      <th>Exterior2nd_MetalSd</th>\n",
       "      <th>Exterior2nd_Plywood</th>\n",
       "      <th>Exterior2nd_CmentBd</th>\n",
       "      <th>Exterior2nd_Wd Shng</th>\n",
       "      <th>Exterior2nd_BrkFace</th>\n",
       "      <th>Exterior2nd_AsbShng</th>\n",
       "      <th>Exterior2nd_Stucco</th>\n",
       "    </tr>\n",
       "  </thead>\n",
       "  <tbody>\n",
       "    <tr>\n",
       "      <th>64</th>\n",
       "      <td>0</td>\n",
       "      <td>1</td>\n",
       "      <td>0</td>\n",
       "      <td>0</td>\n",
       "      <td>0</td>\n",
       "      <td>0</td>\n",
       "      <td>0</td>\n",
       "      <td>0</td>\n",
       "      <td>0</td>\n",
       "      <td>0</td>\n",
       "      <td>...</td>\n",
       "      <td>1</td>\n",
       "      <td>0</td>\n",
       "      <td>0</td>\n",
       "      <td>0</td>\n",
       "      <td>0</td>\n",
       "      <td>0</td>\n",
       "      <td>0</td>\n",
       "      <td>0</td>\n",
       "      <td>0</td>\n",
       "      <td>0</td>\n",
       "    </tr>\n",
       "    <tr>\n",
       "      <th>682</th>\n",
       "      <td>0</td>\n",
       "      <td>0</td>\n",
       "      <td>0</td>\n",
       "      <td>0</td>\n",
       "      <td>0</td>\n",
       "      <td>0</td>\n",
       "      <td>0</td>\n",
       "      <td>0</td>\n",
       "      <td>0</td>\n",
       "      <td>0</td>\n",
       "      <td>...</td>\n",
       "      <td>0</td>\n",
       "      <td>1</td>\n",
       "      <td>0</td>\n",
       "      <td>0</td>\n",
       "      <td>0</td>\n",
       "      <td>0</td>\n",
       "      <td>0</td>\n",
       "      <td>0</td>\n",
       "      <td>0</td>\n",
       "      <td>0</td>\n",
       "    </tr>\n",
       "    <tr>\n",
       "      <th>960</th>\n",
       "      <td>0</td>\n",
       "      <td>0</td>\n",
       "      <td>0</td>\n",
       "      <td>0</td>\n",
       "      <td>0</td>\n",
       "      <td>0</td>\n",
       "      <td>0</td>\n",
       "      <td>0</td>\n",
       "      <td>0</td>\n",
       "      <td>0</td>\n",
       "      <td>...</td>\n",
       "      <td>0</td>\n",
       "      <td>0</td>\n",
       "      <td>0</td>\n",
       "      <td>0</td>\n",
       "      <td>1</td>\n",
       "      <td>0</td>\n",
       "      <td>0</td>\n",
       "      <td>0</td>\n",
       "      <td>0</td>\n",
       "      <td>0</td>\n",
       "    </tr>\n",
       "    <tr>\n",
       "      <th>1384</th>\n",
       "      <td>0</td>\n",
       "      <td>0</td>\n",
       "      <td>0</td>\n",
       "      <td>1</td>\n",
       "      <td>0</td>\n",
       "      <td>0</td>\n",
       "      <td>0</td>\n",
       "      <td>0</td>\n",
       "      <td>0</td>\n",
       "      <td>0</td>\n",
       "      <td>...</td>\n",
       "      <td>0</td>\n",
       "      <td>0</td>\n",
       "      <td>0</td>\n",
       "      <td>0</td>\n",
       "      <td>0</td>\n",
       "      <td>0</td>\n",
       "      <td>1</td>\n",
       "      <td>0</td>\n",
       "      <td>0</td>\n",
       "      <td>0</td>\n",
       "    </tr>\n",
       "    <tr>\n",
       "      <th>1100</th>\n",
       "      <td>0</td>\n",
       "      <td>0</td>\n",
       "      <td>0</td>\n",
       "      <td>0</td>\n",
       "      <td>0</td>\n",
       "      <td>0</td>\n",
       "      <td>0</td>\n",
       "      <td>0</td>\n",
       "      <td>0</td>\n",
       "      <td>0</td>\n",
       "      <td>...</td>\n",
       "      <td>0</td>\n",
       "      <td>1</td>\n",
       "      <td>0</td>\n",
       "      <td>0</td>\n",
       "      <td>0</td>\n",
       "      <td>0</td>\n",
       "      <td>0</td>\n",
       "      <td>0</td>\n",
       "      <td>0</td>\n",
       "      <td>0</td>\n",
       "    </tr>\n",
       "  </tbody>\n",
       "</table>\n",
       "<p>5 rows × 30 columns</p>\n",
       "</div>"
      ],
      "text/plain": [
       "      Neighborhood_NAmes  Neighborhood_CollgCr  Neighborhood_OldTown  \\\n",
       "64                     0                     1                     0   \n",
       "682                    0                     0                     0   \n",
       "960                    0                     0                     0   \n",
       "1384                   0                     0                     0   \n",
       "1100                   0                     0                     0   \n",
       "\n",
       "      Neighborhood_Edwards  Neighborhood_Sawyer  Neighborhood_Somerst  \\\n",
       "64                       0                    0                     0   \n",
       "682                      0                    0                     0   \n",
       "960                      0                    0                     0   \n",
       "1384                     1                    0                     0   \n",
       "1100                     0                    0                     0   \n",
       "\n",
       "      Neighborhood_Gilbert  Neighborhood_NWAmes  Neighborhood_NridgHt  \\\n",
       "64                       0                    0                     0   \n",
       "682                      0                    0                     0   \n",
       "960                      0                    0                     0   \n",
       "1384                     0                    0                     0   \n",
       "1100                     0                    0                     0   \n",
       "\n",
       "      Neighborhood_SawyerW  ...  Exterior2nd_VinylSd  Exterior2nd_Wd Sdng  \\\n",
       "64                       0  ...                    1                    0   \n",
       "682                      0  ...                    0                    1   \n",
       "960                      0  ...                    0                    0   \n",
       "1384                     0  ...                    0                    0   \n",
       "1100                     0  ...                    0                    1   \n",
       "\n",
       "      Exterior2nd_HdBoard  Exterior2nd_MetalSd  Exterior2nd_Plywood  \\\n",
       "64                      0                    0                    0   \n",
       "682                     0                    0                    0   \n",
       "960                     0                    0                    1   \n",
       "1384                    0                    0                    0   \n",
       "1100                    0                    0                    0   \n",
       "\n",
       "      Exterior2nd_CmentBd  Exterior2nd_Wd Shng  Exterior2nd_BrkFace  \\\n",
       "64                      0                    0                    0   \n",
       "682                     0                    0                    0   \n",
       "960                     0                    0                    0   \n",
       "1384                    0                    1                    0   \n",
       "1100                    0                    0                    0   \n",
       "\n",
       "      Exterior2nd_AsbShng  Exterior2nd_Stucco  \n",
       "64                      0                   0  \n",
       "682                     0                   0  \n",
       "960                     0                   0  \n",
       "1384                    0                   0  \n",
       "1100                    0                   0  \n",
       "\n",
       "[5 rows x 30 columns]"
      ]
     },
     "execution_count": 30,
     "metadata": {},
     "output_type": "execute_result"
    }
   ],
   "source": [
    "X_train = ohe_enc.transform(X_train)\n",
    "X_test = ohe_enc.transform(X_test)\n",
    "\n",
    "# hãy khám phá kết quả\n",
    "X_train.head()"
   ]
  },
  {
   "cell_type": "markdown",
   "metadata": {
    "id": "m2q2IbehE5Tj"
   },
   "source": [
    "**Lưu ý**\n",
    "\n",
    "Nếu các biến đối số được để thành None thì encoder sẽ tự động xác định **tất cả các biến hạng mục**. Tuyệt đúng không?\n",
    "\n",
    "Encoder sẽ không mã hóa các biến dạng số. Vì vậy, nếu một số biến dạng số là biến hạng mục thì chúng ta sẽ cần ép kiểu lại chúng dưới dạng object trước khi sử dụng encoder. "
   ]
  },
  {
   "cell_type": "code",
   "execution_count": null,
   "metadata": {
    "id": "oNK8W7QbE5Tj"
   },
   "outputs": [],
   "source": []
  }
 ],
 "metadata": {
  "colab": {
   "collapsed_sections": [],
   "name": "9.2 Mã hóa one-hot (OHE) của các hạng mục thường xuất hiện.ipynb",
   "provenance": []
  },
  "kernelspec": {
   "display_name": "Python 3 (ipykernel)",
   "language": "python",
   "name": "python3"
  },
  "language_info": {
   "codemirror_mode": {
    "name": "ipython",
    "version": 3
   },
   "file_extension": ".py",
   "mimetype": "text/x-python",
   "name": "python",
   "nbconvert_exporter": "python",
   "pygments_lexer": "ipython3",
   "version": "3.11.4"
  },
  "toc": {
   "base_numbering": 1,
   "nav_menu": {},
   "number_sections": true,
   "sideBar": true,
   "skip_h1_title": false,
   "title_cell": "Table of Contents",
   "title_sidebar": "Contents",
   "toc_cell": false,
   "toc_position": {},
   "toc_section_display": "block",
   "toc_window_display": true
  }
 },
 "nbformat": 4,
 "nbformat_minor": 1
}
