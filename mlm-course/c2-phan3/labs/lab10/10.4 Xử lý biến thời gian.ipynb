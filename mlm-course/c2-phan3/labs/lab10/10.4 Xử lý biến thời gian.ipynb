{
 "cells": [
  {
   "cell_type": "markdown",
   "metadata": {
    "id": "zTotir5xQQRa"
   },
   "source": [
    "## Biến thời gian\n",
    "\n",
    "Biến ngày là một kiểu biến hạng mục đặc biệt. Về bản chất, biến ngày sẽ chứa nhiều nhãn khác nhau, mỗi nhãn tương ứng với một ngày cụ thể và đôi khi là thời gian. Biến ngày khi được tiền xử lý đúng cách có thể làm tập dữ liệu phong phú hơn. Ví dụ: từ biến ngày, chúng ta có thể trích xuất:\n",
    "\n",
    "- Tuần\n",
    "- Tháng\n",
    "- Quý\n",
    "- Kỳ\n",
    "- Năm\n",
    "- Ngày (số)\n",
    "- Ngày trong tuần\n",
    "- Cuối tuần\n",
    "- Khác biệt về thời gian trong năm, tháng, tuần, ngày, giờ,...\n",
    "\n",
    "Không nên sử dụng biến ngày làm biến hạng mục khi xây dựng mô hình học máy. Không chỉ bởi vì chúng có vô số hạng mục mà còn do khi chúng ta thực sự sử dụng mô hình để đánh giá một quan sát mới, quan sát này rất có thể ở trong tương lai, do đó nhãn ngày có thể khác với những nhãn có trong tập huấn luyện, các nhãn này được sử dụng để huấn luyện thuật toán học máy.\n",
    "\n",
    "\n",
    "## Trong bản mô phỏng này: Cho vay ngang hàng (lĩnh vực Tài chính)\n",
    "\n",
    "Chúng ta sẽ sử dụng tập dữ liệu toy từ công ty tài chính ngang hàng để trích xuất các đặc trưng khác nhau từ biến thời gian."
   ]
  },
  {
   "cell_type": "code",
   "execution_count": 1,
   "metadata": {
    "id": "7LQkT2NcQQRg"
   },
   "outputs": [],
   "source": [
    "import pandas as pd\n",
    "import numpy as np\n",
    "\n",
    "import datetime"
   ]
  },
  {
   "cell_type": "code",
   "execution_count": 2,
   "metadata": {
    "id": "Ger4t-a6QQRi",
    "outputId": "95472a9d-5a2d-487e-d5d5-27e0e76e0bf2"
   },
   "outputs": [
    {
     "data": {
      "text/html": [
       "<div>\n",
       "<style scoped>\n",
       "    .dataframe tbody tr th:only-of-type {\n",
       "        vertical-align: middle;\n",
       "    }\n",
       "\n",
       "    .dataframe tbody tr th {\n",
       "        vertical-align: top;\n",
       "    }\n",
       "\n",
       "    .dataframe thead th {\n",
       "        text-align: right;\n",
       "    }\n",
       "</style>\n",
       "<table border=\"1\" class=\"dataframe\">\n",
       "  <thead>\n",
       "    <tr style=\"text-align: right;\">\n",
       "      <th></th>\n",
       "      <th>date_issued</th>\n",
       "      <th>date_last_payment</th>\n",
       "    </tr>\n",
       "  </thead>\n",
       "  <tbody>\n",
       "    <tr>\n",
       "      <th>0</th>\n",
       "      <td>2013-06-11</td>\n",
       "      <td>2016-01-14</td>\n",
       "    </tr>\n",
       "    <tr>\n",
       "      <th>1</th>\n",
       "      <td>2014-05-08</td>\n",
       "      <td>2016-01-25</td>\n",
       "    </tr>\n",
       "    <tr>\n",
       "      <th>2</th>\n",
       "      <td>2013-10-26</td>\n",
       "      <td>2014-09-26</td>\n",
       "    </tr>\n",
       "    <tr>\n",
       "      <th>3</th>\n",
       "      <td>2015-08-20</td>\n",
       "      <td>2016-01-26</td>\n",
       "    </tr>\n",
       "    <tr>\n",
       "      <th>4</th>\n",
       "      <td>2014-07-22</td>\n",
       "      <td>2016-01-11</td>\n",
       "    </tr>\n",
       "  </tbody>\n",
       "</table>\n",
       "</div>"
      ],
      "text/plain": [
       "  date_issued date_last_payment\n",
       "0  2013-06-11        2016-01-14\n",
       "1  2014-05-08        2016-01-25\n",
       "2  2013-10-26        2014-09-26\n",
       "3  2015-08-20        2016-01-26\n",
       "4  2014-07-22        2016-01-11"
      ]
     },
     "execution_count": 2,
     "metadata": {},
     "output_type": "execute_result"
    }
   ],
   "source": [
    "# load tập dữ liệu với các cột đã chọn\n",
    "\n",
    "use_cols = ['date_issued', 'date_last_payment']\n",
    "\n",
    "data = pd.read_csv('../dataset/loan.csv', usecols=use_cols)\n",
    "\n",
    "data.head()"
   ]
  },
  {
   "cell_type": "code",
   "execution_count": 4,
   "metadata": {
    "id": "bV8mjMTwQQRk",
    "outputId": "ad92c1cf-5ba8-441b-9b0e-eb9101ffc0f0"
   },
   "outputs": [
    {
     "data": {
      "text/html": [
       "<div>\n",
       "<style scoped>\n",
       "    .dataframe tbody tr th:only-of-type {\n",
       "        vertical-align: middle;\n",
       "    }\n",
       "\n",
       "    .dataframe tbody tr th {\n",
       "        vertical-align: top;\n",
       "    }\n",
       "\n",
       "    .dataframe thead th {\n",
       "        text-align: right;\n",
       "    }\n",
       "</style>\n",
       "<table border=\"1\" class=\"dataframe\">\n",
       "  <thead>\n",
       "    <tr style=\"text-align: right;\">\n",
       "      <th></th>\n",
       "      <th>date_issued</th>\n",
       "      <th>issue_dt</th>\n",
       "      <th>date_last_payment</th>\n",
       "      <th>last_pymnt_dt</th>\n",
       "    </tr>\n",
       "  </thead>\n",
       "  <tbody>\n",
       "    <tr>\n",
       "      <th>0</th>\n",
       "      <td>2013-06-11</td>\n",
       "      <td>2013-06-11</td>\n",
       "      <td>2016-01-14</td>\n",
       "      <td>2016-01-14</td>\n",
       "    </tr>\n",
       "    <tr>\n",
       "      <th>1</th>\n",
       "      <td>2014-05-08</td>\n",
       "      <td>2014-05-08</td>\n",
       "      <td>2016-01-25</td>\n",
       "      <td>2016-01-25</td>\n",
       "    </tr>\n",
       "    <tr>\n",
       "      <th>2</th>\n",
       "      <td>2013-10-26</td>\n",
       "      <td>2013-10-26</td>\n",
       "      <td>2014-09-26</td>\n",
       "      <td>2014-09-26</td>\n",
       "    </tr>\n",
       "    <tr>\n",
       "      <th>3</th>\n",
       "      <td>2015-08-20</td>\n",
       "      <td>2015-08-20</td>\n",
       "      <td>2016-01-26</td>\n",
       "      <td>2016-01-26</td>\n",
       "    </tr>\n",
       "    <tr>\n",
       "      <th>4</th>\n",
       "      <td>2014-07-22</td>\n",
       "      <td>2014-07-22</td>\n",
       "      <td>2016-01-11</td>\n",
       "      <td>2016-01-11</td>\n",
       "    </tr>\n",
       "  </tbody>\n",
       "</table>\n",
       "</div>"
      ],
      "text/plain": [
       "  date_issued   issue_dt date_last_payment last_pymnt_dt\n",
       "0  2013-06-11 2013-06-11        2016-01-14    2016-01-14\n",
       "1  2014-05-08 2014-05-08        2016-01-25    2016-01-25\n",
       "2  2013-10-26 2013-10-26        2014-09-26    2014-09-26\n",
       "3  2015-08-20 2015-08-20        2016-01-26    2016-01-26\n",
       "4  2014-07-22 2014-07-22        2016-01-11    2016-01-11"
      ]
     },
     "execution_count": 4,
     "metadata": {},
     "output_type": "execute_result"
    }
   ],
   "source": [
    "## Yêu cầu 1\n",
    "# hãy phân tích thời gian, ép kiểu thành string, thành định dạng thời gian\n",
    "\n",
    "## VIẾT CODE Ở ĐÂY:\n",
    "data['issue_dt'] = pd.to_datetime(data['date_issued'])\n",
    "data['last_pymnt_dt'] = pd.to_datetime(data['date_last_payment'])\n",
    "\n",
    "data[['date_issued','issue_dt','date_last_payment', 'last_pymnt_dt']].head()"
   ]
  },
  {
   "cell_type": "markdown",
   "metadata": {
    "id": "0RSQzD74Sq3L"
   },
   "source": [
    "<details><summary> Gợi ý </summary>\n",
    "\n",
    "[to_datetime()](https://pandas.pydata.org/pandas-docs/stable/reference/api/pandas.to_datetime.html)\n",
    "\n",
    "</details>"
   ]
  },
  {
   "cell_type": "markdown",
   "metadata": {
    "id": "jcP8p_9dQQRl"
   },
   "source": [
    "### Trích xuất tuần trong năm"
   ]
  },
  {
   "cell_type": "code",
   "execution_count": 10,
   "metadata": {
    "id": "SEbIkRA4QQRm",
    "outputId": "fa01d3c7-4bf1-4b0c-de18-579fb686bc41"
   },
   "outputs": [
    {
     "ename": "AttributeError",
     "evalue": "'DatetimeProperties' object has no attribute 'week'",
     "output_type": "error",
     "traceback": [
      "\u001b[0;31m---------------------------------------------------------------------------\u001b[0m",
      "\u001b[0;31mAttributeError\u001b[0m                            Traceback (most recent call last)",
      "Cell \u001b[0;32mIn[10], line 5\u001b[0m\n\u001b[1;32m      1\u001b[0m \u001b[38;5;66;03m## Yêu cầu 2\u001b[39;00m\n\u001b[1;32m      2\u001b[0m \u001b[38;5;66;03m# Trích xuất tuần trong năm từ ngày, biến thiên từ 1 đến 52\u001b[39;00m\n\u001b[1;32m      3\u001b[0m \n\u001b[1;32m      4\u001b[0m \u001b[38;5;66;03m## VIẾT CODE Ở ĐÂY:\u001b[39;00m\n\u001b[0;32m----> 5\u001b[0m data[\u001b[38;5;124m'\u001b[39m\u001b[38;5;124missue_dt_week\u001b[39m\u001b[38;5;124m'\u001b[39m] \u001b[38;5;241m=\u001b[39m data[\u001b[38;5;124m'\u001b[39m\u001b[38;5;124missue_dt\u001b[39m\u001b[38;5;124m'\u001b[39m]\u001b[38;5;241m.\u001b[39mdt\u001b[38;5;241m.\u001b[39mweek\n\u001b[1;32m      7\u001b[0m data[[\u001b[38;5;124m'\u001b[39m\u001b[38;5;124missue_dt\u001b[39m\u001b[38;5;124m'\u001b[39m, \u001b[38;5;124m'\u001b[39m\u001b[38;5;124missue_dt_week\u001b[39m\u001b[38;5;124m'\u001b[39m]]\u001b[38;5;241m.\u001b[39mhead()\n",
      "\u001b[0;31mAttributeError\u001b[0m: 'DatetimeProperties' object has no attribute 'week'"
     ]
    }
   ],
   "source": [
    "## Yêu cầu 2\n",
    "# Trích xuất tuần trong năm từ ngày, biến thiên từ 1 đến 52\n",
    "\n",
    "## VIẾT CODE Ở ĐÂY:\n",
    "data['issue_dt_week'] = data['issue_dt'].dt.week\n",
    "\n",
    "data[['issue_dt', 'issue_dt_week']].head()"
   ]
  },
  {
   "cell_type": "markdown",
   "metadata": {
    "id": "O32r48oiTF7t"
   },
   "source": [
    "<details><summary> Gợi ý </summary>\n",
    "\n",
    "Using ```week``` attribute\n",
    "\n",
    "</details>"
   ]
  },
  {
   "cell_type": "code",
   "execution_count": null,
   "metadata": {
    "id": "FUIWXrzgQQRn",
    "outputId": "5d43945d-7483-4692-b919-5a810295b777"
   },
   "outputs": [
    {
     "data": {
      "text/plain": [
       "array([24, 19, 43, 34, 30, 39, 12,  7, 52, 47, 14, 44, 46, 17,  8,  2, 25,\n",
       "       51, 15, 11, 36, 21, 16, 49, 23,  6, 40, 29, 38, 33, 27, 28, 41, 20,\n",
       "       50,  9,  5, 32, 45, 10, 42, 48,  4,  1, 26, 13, 37,  3, 22, 35, 18,\n",
       "       31], dtype=int64)"
      ]
     },
     "execution_count": 5,
     "metadata": {
      "tags": []
     },
     "output_type": "execute_result"
    }
   ],
   "source": [
    "data['issue_dt_week'].unique()"
   ]
  },
  {
   "cell_type": "markdown",
   "metadata": {
    "id": "qobXpF72QQRo"
   },
   "source": [
    "### Trích xuất tháng"
   ]
  },
  {
   "cell_type": "code",
   "execution_count": null,
   "metadata": {
    "id": "bN5p9ZDSQQRp",
    "outputId": "02871129-cc94-4cfe-dfe9-3a0c9584311d"
   },
   "outputs": [
    {
     "data": {
      "text/html": [
       "<div>\n",
       "<style scoped>\n",
       "    .dataframe tbody tr th:only-of-type {\n",
       "        vertical-align: middle;\n",
       "    }\n",
       "\n",
       "    .dataframe tbody tr th {\n",
       "        vertical-align: top;\n",
       "    }\n",
       "\n",
       "    .dataframe thead th {\n",
       "        text-align: right;\n",
       "    }\n",
       "</style>\n",
       "<table border=\"1\" class=\"dataframe\">\n",
       "  <thead>\n",
       "    <tr style=\"text-align: right;\">\n",
       "      <th></th>\n",
       "      <th>issue_dt</th>\n",
       "      <th>issue_dt_month</th>\n",
       "    </tr>\n",
       "  </thead>\n",
       "  <tbody>\n",
       "    <tr>\n",
       "      <th>0</th>\n",
       "      <td>2013-06-11</td>\n",
       "      <td>6</td>\n",
       "    </tr>\n",
       "    <tr>\n",
       "      <th>1</th>\n",
       "      <td>2014-05-08</td>\n",
       "      <td>5</td>\n",
       "    </tr>\n",
       "    <tr>\n",
       "      <th>2</th>\n",
       "      <td>2013-10-26</td>\n",
       "      <td>10</td>\n",
       "    </tr>\n",
       "    <tr>\n",
       "      <th>3</th>\n",
       "      <td>2015-08-20</td>\n",
       "      <td>8</td>\n",
       "    </tr>\n",
       "    <tr>\n",
       "      <th>4</th>\n",
       "      <td>2014-07-22</td>\n",
       "      <td>7</td>\n",
       "    </tr>\n",
       "  </tbody>\n",
       "</table>\n",
       "</div>"
      ],
      "text/plain": [
       "    issue_dt  issue_dt_month\n",
       "0 2013-06-11               6\n",
       "1 2014-05-08               5\n",
       "2 2013-10-26              10\n",
       "3 2015-08-20               8\n",
       "4 2014-07-22               7"
      ]
     },
     "execution_count": 6,
     "metadata": {
      "tags": []
     },
     "output_type": "execute_result"
    }
   ],
   "source": [
    "## Yêu cầu 3\n",
    "# Trích xuất tháng từ 1 đến 12\n",
    "\n",
    "## VIẾT CODE Ở ĐÂY:\n",
    "data['issue_dt_month'] = data[...].dt....\n",
    "\n",
    "## VIẾT CODE Ở ĐÂY:\n",
    "data[['issue_dt', ...]].head()"
   ]
  },
  {
   "cell_type": "markdown",
   "metadata": {
    "id": "bWjDAn4oTd7p"
   },
   "source": [
    "<details><summary> Gợi ý </summary>\n",
    "\n",
    "Using ```month``` attribute\n",
    "\n",
    "</details>"
   ]
  },
  {
   "cell_type": "code",
   "execution_count": null,
   "metadata": {
    "id": "zKM4a19FQQRr",
    "outputId": "194ec657-26d1-449c-e22e-30916afcf453"
   },
   "outputs": [
    {
     "data": {
      "text/plain": [
       "array([ 6,  5, 10,  8,  7,  9,  3,  2, 12, 11,  4,  1], dtype=int64)"
      ]
     },
     "execution_count": 7,
     "metadata": {
      "tags": []
     },
     "output_type": "execute_result"
    }
   ],
   "source": [
    "data['issue_dt_month'].unique()"
   ]
  },
  {
   "cell_type": "markdown",
   "metadata": {
    "id": "HrxZv_k-QQRs"
   },
   "source": [
    "### Trích xuất quý"
   ]
  },
  {
   "cell_type": "code",
   "execution_count": null,
   "metadata": {
    "id": "vmkekYAwQQRt",
    "outputId": "6c2486b7-4c46-4afc-c4e0-d21253e26f2d"
   },
   "outputs": [
    {
     "data": {
      "text/html": [
       "<div>\n",
       "<style scoped>\n",
       "    .dataframe tbody tr th:only-of-type {\n",
       "        vertical-align: middle;\n",
       "    }\n",
       "\n",
       "    .dataframe tbody tr th {\n",
       "        vertical-align: top;\n",
       "    }\n",
       "\n",
       "    .dataframe thead th {\n",
       "        text-align: right;\n",
       "    }\n",
       "</style>\n",
       "<table border=\"1\" class=\"dataframe\">\n",
       "  <thead>\n",
       "    <tr style=\"text-align: right;\">\n",
       "      <th></th>\n",
       "      <th>issue_dt</th>\n",
       "      <th>issue_dt_quarter</th>\n",
       "    </tr>\n",
       "  </thead>\n",
       "  <tbody>\n",
       "    <tr>\n",
       "      <th>0</th>\n",
       "      <td>2013-06-11</td>\n",
       "      <td>2</td>\n",
       "    </tr>\n",
       "    <tr>\n",
       "      <th>1</th>\n",
       "      <td>2014-05-08</td>\n",
       "      <td>2</td>\n",
       "    </tr>\n",
       "    <tr>\n",
       "      <th>2</th>\n",
       "      <td>2013-10-26</td>\n",
       "      <td>4</td>\n",
       "    </tr>\n",
       "    <tr>\n",
       "      <th>3</th>\n",
       "      <td>2015-08-20</td>\n",
       "      <td>3</td>\n",
       "    </tr>\n",
       "    <tr>\n",
       "      <th>4</th>\n",
       "      <td>2014-07-22</td>\n",
       "      <td>3</td>\n",
       "    </tr>\n",
       "  </tbody>\n",
       "</table>\n",
       "</div>"
      ],
      "text/plain": [
       "    issue_dt  issue_dt_quarter\n",
       "0 2013-06-11                 2\n",
       "1 2014-05-08                 2\n",
       "2 2013-10-26                 4\n",
       "3 2015-08-20                 3\n",
       "4 2014-07-22                 3"
      ]
     },
     "execution_count": 8,
     "metadata": {
      "tags": []
     },
     "output_type": "execute_result"
    }
   ],
   "source": [
    "## Yêu cầu 4\n",
    "# Trích xuất quý từ 1 đến 4\n",
    "\n",
    "## VIẾT CODE Ở ĐÂY:\n",
    "data['issue_dt_quarter'] = data[...].dt....\n",
    "\n",
    "## VIẾT CODE Ở ĐÂY:\n",
    "data[['issue_dt', ...]].head()"
   ]
  },
  {
   "cell_type": "markdown",
   "metadata": {
    "id": "b6Sx8M-FTllJ"
   },
   "source": [
    "<details><summary> Gợi ý </summary>\n",
    "\n",
    "Using ```quarter``` attribute\n",
    "\n",
    "</details>"
   ]
  },
  {
   "cell_type": "code",
   "execution_count": null,
   "metadata": {
    "id": "727cPs2GQQRu",
    "outputId": "b75598df-ea68-45bd-ebf7-6badb7e0b507"
   },
   "outputs": [
    {
     "data": {
      "text/plain": [
       "array([2, 4, 3, 1], dtype=int64)"
      ]
     },
     "execution_count": 9,
     "metadata": {
      "tags": []
     },
     "output_type": "execute_result"
    }
   ],
   "source": [
    "data['issue_dt_quarter'].unique()"
   ]
  },
  {
   "cell_type": "markdown",
   "metadata": {
    "id": "5okRTSFiQQRv"
   },
   "source": [
    "### Trích xuất kỳ"
   ]
  },
  {
   "cell_type": "code",
   "execution_count": null,
   "metadata": {
    "id": "-IzZwfspQQRw",
    "outputId": "6ad1f862-404d-4736-b3a5-f8fe298185fb"
   },
   "outputs": [
    {
     "data": {
      "text/html": [
       "<div>\n",
       "<style scoped>\n",
       "    .dataframe tbody tr th:only-of-type {\n",
       "        vertical-align: middle;\n",
       "    }\n",
       "\n",
       "    .dataframe tbody tr th {\n",
       "        vertical-align: top;\n",
       "    }\n",
       "\n",
       "    .dataframe thead th {\n",
       "        text-align: right;\n",
       "    }\n",
       "</style>\n",
       "<table border=\"1\" class=\"dataframe\">\n",
       "  <thead>\n",
       "    <tr style=\"text-align: right;\">\n",
       "      <th></th>\n",
       "      <th>date_issued</th>\n",
       "      <th>date_last_payment</th>\n",
       "      <th>issue_dt</th>\n",
       "      <th>last_pymnt_dt</th>\n",
       "      <th>issue_dt_week</th>\n",
       "      <th>issue_dt_month</th>\n",
       "      <th>issue_dt_quarter</th>\n",
       "      <th>issue_dt_semester</th>\n",
       "    </tr>\n",
       "  </thead>\n",
       "  <tbody>\n",
       "    <tr>\n",
       "      <th>0</th>\n",
       "      <td>2013-06-11</td>\n",
       "      <td>2016-01-14</td>\n",
       "      <td>2013-06-11</td>\n",
       "      <td>2016-01-14</td>\n",
       "      <td>24</td>\n",
       "      <td>6</td>\n",
       "      <td>2</td>\n",
       "      <td>1</td>\n",
       "    </tr>\n",
       "    <tr>\n",
       "      <th>1</th>\n",
       "      <td>2014-05-08</td>\n",
       "      <td>2016-01-25</td>\n",
       "      <td>2014-05-08</td>\n",
       "      <td>2016-01-25</td>\n",
       "      <td>19</td>\n",
       "      <td>5</td>\n",
       "      <td>2</td>\n",
       "      <td>1</td>\n",
       "    </tr>\n",
       "    <tr>\n",
       "      <th>2</th>\n",
       "      <td>2013-10-26</td>\n",
       "      <td>2014-09-26</td>\n",
       "      <td>2013-10-26</td>\n",
       "      <td>2014-09-26</td>\n",
       "      <td>43</td>\n",
       "      <td>10</td>\n",
       "      <td>4</td>\n",
       "      <td>2</td>\n",
       "    </tr>\n",
       "    <tr>\n",
       "      <th>3</th>\n",
       "      <td>2015-08-20</td>\n",
       "      <td>2016-01-26</td>\n",
       "      <td>2015-08-20</td>\n",
       "      <td>2016-01-26</td>\n",
       "      <td>34</td>\n",
       "      <td>8</td>\n",
       "      <td>3</td>\n",
       "      <td>2</td>\n",
       "    </tr>\n",
       "    <tr>\n",
       "      <th>4</th>\n",
       "      <td>2014-07-22</td>\n",
       "      <td>2016-01-11</td>\n",
       "      <td>2014-07-22</td>\n",
       "      <td>2016-01-11</td>\n",
       "      <td>30</td>\n",
       "      <td>7</td>\n",
       "      <td>3</td>\n",
       "      <td>2</td>\n",
       "    </tr>\n",
       "  </tbody>\n",
       "</table>\n",
       "</div>"
      ],
      "text/plain": [
       "  date_issued date_last_payment   issue_dt last_pymnt_dt  issue_dt_week  \\\n",
       "0  2013-06-11        2016-01-14 2013-06-11    2016-01-14             24   \n",
       "1  2014-05-08        2016-01-25 2014-05-08    2016-01-25             19   \n",
       "2  2013-10-26        2014-09-26 2013-10-26    2014-09-26             43   \n",
       "3  2015-08-20        2016-01-26 2015-08-20    2016-01-26             34   \n",
       "4  2014-07-22        2016-01-11 2014-07-22    2016-01-11             30   \n",
       "\n",
       "   issue_dt_month  issue_dt_quarter  issue_dt_semester  \n",
       "0               6                 2                  1  \n",
       "1               5                 2                  1  \n",
       "2              10                 4                  2  \n",
       "3               8                 3                  2  \n",
       "4               7                 3                  2  "
      ]
     },
     "execution_count": 10,
     "metadata": {
      "tags": []
     },
     "output_type": "execute_result"
    }
   ],
   "source": [
    "## Yêu cầu 5\n",
    "# Chúng ta cũng có thể trích xuất kỳ\n",
    "\n",
    "## VIẾT CODE Ở ĐÂY:\n",
    "...['issue_dt_semester'] = np.where(...['issue_dt_quarter'].isin([1,2]), 1, 2)\n",
    "\n",
    "data.head()"
   ]
  },
  {
   "cell_type": "code",
   "execution_count": null,
   "metadata": {
    "id": "SwbY8kM9QQRx",
    "outputId": "f1c0a3c3-2f8d-4655-b16f-7f9182e20187"
   },
   "outputs": [
    {
     "data": {
      "text/plain": [
       "array([1, 2])"
      ]
     },
     "execution_count": 11,
     "metadata": {
      "tags": []
     },
     "output_type": "execute_result"
    }
   ],
   "source": [
    "data['issue_dt_semester'].unique()"
   ]
  },
  {
   "cell_type": "markdown",
   "metadata": {
    "id": "_MoOHwMAQQRy"
   },
   "source": [
    "###  Trích xuất năm"
   ]
  },
  {
   "cell_type": "code",
   "execution_count": null,
   "metadata": {
    "id": "H38BBI4RQQRy",
    "outputId": "b5afbb6e-3c19-4f35-cc48-63a55ef4b38d"
   },
   "outputs": [
    {
     "data": {
      "text/html": [
       "<div>\n",
       "<style scoped>\n",
       "    .dataframe tbody tr th:only-of-type {\n",
       "        vertical-align: middle;\n",
       "    }\n",
       "\n",
       "    .dataframe tbody tr th {\n",
       "        vertical-align: top;\n",
       "    }\n",
       "\n",
       "    .dataframe thead th {\n",
       "        text-align: right;\n",
       "    }\n",
       "</style>\n",
       "<table border=\"1\" class=\"dataframe\">\n",
       "  <thead>\n",
       "    <tr style=\"text-align: right;\">\n",
       "      <th></th>\n",
       "      <th>issue_dt</th>\n",
       "      <th>issue_dt_year</th>\n",
       "    </tr>\n",
       "  </thead>\n",
       "  <tbody>\n",
       "    <tr>\n",
       "      <th>0</th>\n",
       "      <td>2013-06-11</td>\n",
       "      <td>2013</td>\n",
       "    </tr>\n",
       "    <tr>\n",
       "      <th>1</th>\n",
       "      <td>2014-05-08</td>\n",
       "      <td>2014</td>\n",
       "    </tr>\n",
       "    <tr>\n",
       "      <th>2</th>\n",
       "      <td>2013-10-26</td>\n",
       "      <td>2013</td>\n",
       "    </tr>\n",
       "    <tr>\n",
       "      <th>3</th>\n",
       "      <td>2015-08-20</td>\n",
       "      <td>2015</td>\n",
       "    </tr>\n",
       "    <tr>\n",
       "      <th>4</th>\n",
       "      <td>2014-07-22</td>\n",
       "      <td>2014</td>\n",
       "    </tr>\n",
       "  </tbody>\n",
       "</table>\n",
       "</div>"
      ],
      "text/plain": [
       "    issue_dt  issue_dt_year\n",
       "0 2013-06-11           2013\n",
       "1 2014-05-08           2014\n",
       "2 2013-10-26           2013\n",
       "3 2015-08-20           2015\n",
       "4 2014-07-22           2014"
      ]
     },
     "execution_count": 12,
     "metadata": {
      "tags": []
     },
     "output_type": "execute_result"
    }
   ],
   "source": [
    "## Yêu cầu 6\n",
    "# trích xuất năm\n",
    "\n",
    "## VIẾT CODE Ở ĐÂY:\n",
    "data['issue_dt_year'] = data[...].dt....\n",
    "\n",
    "## VIẾT CODE Ở ĐÂY:\n",
    "data[['issue_dt', ...]].head()"
   ]
  },
  {
   "cell_type": "markdown",
   "metadata": {
    "id": "ujWjCNzyTxqo"
   },
   "source": [
    "<details><summary> Gợi ý </summary>\n",
    "\n",
    "Using ```year``` attribute\n",
    "\n",
    "</details>"
   ]
  },
  {
   "cell_type": "code",
   "execution_count": null,
   "metadata": {
    "id": "rrkP196xQQRz",
    "outputId": "87cf5174-5ac5-4063-cfc8-db5c7de0f7cb"
   },
   "outputs": [
    {
     "data": {
      "text/plain": [
       "array([2013, 2014, 2015, 2011, 2009, 2012, 2010, 2008, 2007], dtype=int64)"
      ]
     },
     "execution_count": 13,
     "metadata": {
      "tags": []
     },
     "output_type": "execute_result"
    }
   ],
   "source": [
    "data['issue_dt_year'].unique()"
   ]
  },
  {
   "cell_type": "markdown",
   "metadata": {
    "id": "qA7ElGzoQQRz"
   },
   "source": [
    "### Trích xuất ngày ở nhiều định dạng khác nhau"
   ]
  },
  {
   "cell_type": "code",
   "execution_count": null,
   "metadata": {
    "id": "lKW0Pkr0QQRz",
    "outputId": "c739c8d4-7abc-4754-f7dc-7a1a6eb0ad5f"
   },
   "outputs": [
    {
     "data": {
      "text/html": [
       "<div>\n",
       "<style scoped>\n",
       "    .dataframe tbody tr th:only-of-type {\n",
       "        vertical-align: middle;\n",
       "    }\n",
       "\n",
       "    .dataframe tbody tr th {\n",
       "        vertical-align: top;\n",
       "    }\n",
       "\n",
       "    .dataframe thead th {\n",
       "        text-align: right;\n",
       "    }\n",
       "</style>\n",
       "<table border=\"1\" class=\"dataframe\">\n",
       "  <thead>\n",
       "    <tr style=\"text-align: right;\">\n",
       "      <th></th>\n",
       "      <th>issue_dt</th>\n",
       "      <th>issue_dt_day</th>\n",
       "    </tr>\n",
       "  </thead>\n",
       "  <tbody>\n",
       "    <tr>\n",
       "      <th>0</th>\n",
       "      <td>2013-06-11</td>\n",
       "      <td>11</td>\n",
       "    </tr>\n",
       "    <tr>\n",
       "      <th>1</th>\n",
       "      <td>2014-05-08</td>\n",
       "      <td>8</td>\n",
       "    </tr>\n",
       "    <tr>\n",
       "      <th>2</th>\n",
       "      <td>2013-10-26</td>\n",
       "      <td>26</td>\n",
       "    </tr>\n",
       "    <tr>\n",
       "      <th>3</th>\n",
       "      <td>2015-08-20</td>\n",
       "      <td>20</td>\n",
       "    </tr>\n",
       "    <tr>\n",
       "      <th>4</th>\n",
       "      <td>2014-07-22</td>\n",
       "      <td>22</td>\n",
       "    </tr>\n",
       "  </tbody>\n",
       "</table>\n",
       "</div>"
      ],
      "text/plain": [
       "    issue_dt  issue_dt_day\n",
       "0 2013-06-11            11\n",
       "1 2014-05-08             8\n",
       "2 2013-10-26            26\n",
       "3 2015-08-20            20\n",
       "4 2014-07-22            22"
      ]
     },
     "execution_count": 14,
     "metadata": {
      "tags": []
     },
     "output_type": "execute_result"
    }
   ],
   "source": [
    "## Yêu cầu 7\n",
    "# ngày - số từ 1-31\n",
    "\n",
    "## VIẾT CODE Ở ĐÂY:\n",
    "data['issue_dt_day'] = data[...].dt....\n",
    "\n",
    "## VIẾT CODE Ở ĐÂY:\n",
    "data[['issue_dt', ...]].head()"
   ]
  },
  {
   "cell_type": "markdown",
   "metadata": {
    "id": "Z0lrZVRxT18i"
   },
   "source": [
    "<details><summary> Gợi ý </summary>\n",
    "\n",
    "Using ```day``` attribute\n",
    "\n",
    "</details>"
   ]
  },
  {
   "cell_type": "code",
   "execution_count": null,
   "metadata": {
    "id": "-9etHWLXQQR0",
    "outputId": "b90ee187-1ac1-4546-d826-cf175096ab97"
   },
   "outputs": [
    {
     "data": {
      "text/plain": [
       "array([11,  8, 26, 20, 22, 21, 27, 14, 25,  4, 13, 23, 19, 18, 24, 17,  6,\n",
       "        1, 12, 10,  5,  3,  7,  2,  9, 16, 15], dtype=int64)"
      ]
     },
     "execution_count": 15,
     "metadata": {
      "tags": []
     },
     "output_type": "execute_result"
    }
   ],
   "source": [
    "data['issue_dt_day'].unique()"
   ]
  },
  {
   "cell_type": "code",
   "execution_count": null,
   "metadata": {
    "id": "wES3qfP4QQR1",
    "outputId": "57c263c1-e4b6-4d31-9880-4eeecfbc8707"
   },
   "outputs": [
    {
     "data": {
      "text/html": [
       "<div>\n",
       "<style scoped>\n",
       "    .dataframe tbody tr th:only-of-type {\n",
       "        vertical-align: middle;\n",
       "    }\n",
       "\n",
       "    .dataframe tbody tr th {\n",
       "        vertical-align: top;\n",
       "    }\n",
       "\n",
       "    .dataframe thead th {\n",
       "        text-align: right;\n",
       "    }\n",
       "</style>\n",
       "<table border=\"1\" class=\"dataframe\">\n",
       "  <thead>\n",
       "    <tr style=\"text-align: right;\">\n",
       "      <th></th>\n",
       "      <th>issue_dt</th>\n",
       "      <th>issue_dt_dayofweek</th>\n",
       "    </tr>\n",
       "  </thead>\n",
       "  <tbody>\n",
       "    <tr>\n",
       "      <th>0</th>\n",
       "      <td>2013-06-11</td>\n",
       "      <td>1</td>\n",
       "    </tr>\n",
       "    <tr>\n",
       "      <th>1</th>\n",
       "      <td>2014-05-08</td>\n",
       "      <td>3</td>\n",
       "    </tr>\n",
       "    <tr>\n",
       "      <th>2</th>\n",
       "      <td>2013-10-26</td>\n",
       "      <td>5</td>\n",
       "    </tr>\n",
       "    <tr>\n",
       "      <th>3</th>\n",
       "      <td>2015-08-20</td>\n",
       "      <td>3</td>\n",
       "    </tr>\n",
       "    <tr>\n",
       "      <th>4</th>\n",
       "      <td>2014-07-22</td>\n",
       "      <td>1</td>\n",
       "    </tr>\n",
       "  </tbody>\n",
       "</table>\n",
       "</div>"
      ],
      "text/plain": [
       "    issue_dt  issue_dt_dayofweek\n",
       "0 2013-06-11                   1\n",
       "1 2014-05-08                   3\n",
       "2 2013-10-26                   5\n",
       "3 2015-08-20                   3\n",
       "4 2014-07-22                   1"
      ]
     },
     "execution_count": 16,
     "metadata": {
      "tags": []
     },
     "output_type": "execute_result"
    }
   ],
   "source": [
    "## Yêu cầu 8\n",
    "# ngày trong tuần - từ 0 đến 6\n",
    "\n",
    "## VIẾT CODE Ở ĐÂY:\n",
    "data['issue_dt_dayofweek'] = data[...].dt....\n",
    "\n",
    "## VIẾT CODE Ở ĐÂY:\n",
    "data[['issue_dt', ...]].head()"
   ]
  },
  {
   "cell_type": "markdown",
   "metadata": {
    "id": "ocAK3leyT65f"
   },
   "source": [
    "<details><summary> Gợi ý </summary>\n",
    "\n",
    "Using ```dayofweek``` attribute\n",
    "\n",
    "</details>"
   ]
  },
  {
   "cell_type": "code",
   "execution_count": null,
   "metadata": {
    "id": "JXnVhiBgQQR1",
    "outputId": "d64ee2bd-a3fc-4898-b7bb-7baefb09efa4"
   },
   "outputs": [
    {
     "data": {
      "text/plain": [
       "array([1, 3, 5, 2, 6, 4, 0], dtype=int64)"
      ]
     },
     "execution_count": 17,
     "metadata": {
      "tags": []
     },
     "output_type": "execute_result"
    }
   ],
   "source": [
    "data['issue_dt_dayofweek'].unique()"
   ]
  },
  {
   "cell_type": "code",
   "execution_count": null,
   "metadata": {
    "id": "tuGYY3KFQQR2",
    "outputId": "7ae212d8-3fab-4a97-bb08-c8b61315d5c8"
   },
   "outputs": [
    {
     "data": {
      "text/html": [
       "<div>\n",
       "<style scoped>\n",
       "    .dataframe tbody tr th:only-of-type {\n",
       "        vertical-align: middle;\n",
       "    }\n",
       "\n",
       "    .dataframe tbody tr th {\n",
       "        vertical-align: top;\n",
       "    }\n",
       "\n",
       "    .dataframe thead th {\n",
       "        text-align: right;\n",
       "    }\n",
       "</style>\n",
       "<table border=\"1\" class=\"dataframe\">\n",
       "  <thead>\n",
       "    <tr style=\"text-align: right;\">\n",
       "      <th></th>\n",
       "      <th>issue_dt</th>\n",
       "      <th>issue_dt_dayofweek</th>\n",
       "    </tr>\n",
       "  </thead>\n",
       "  <tbody>\n",
       "    <tr>\n",
       "      <th>0</th>\n",
       "      <td>2013-06-11</td>\n",
       "      <td>Tuesday</td>\n",
       "    </tr>\n",
       "    <tr>\n",
       "      <th>1</th>\n",
       "      <td>2014-05-08</td>\n",
       "      <td>Thursday</td>\n",
       "    </tr>\n",
       "    <tr>\n",
       "      <th>2</th>\n",
       "      <td>2013-10-26</td>\n",
       "      <td>Saturday</td>\n",
       "    </tr>\n",
       "    <tr>\n",
       "      <th>3</th>\n",
       "      <td>2015-08-20</td>\n",
       "      <td>Thursday</td>\n",
       "    </tr>\n",
       "    <tr>\n",
       "      <th>4</th>\n",
       "      <td>2014-07-22</td>\n",
       "      <td>Tuesday</td>\n",
       "    </tr>\n",
       "  </tbody>\n",
       "</table>\n",
       "</div>"
      ],
      "text/plain": [
       "    issue_dt issue_dt_dayofweek\n",
       "0 2013-06-11            Tuesday\n",
       "1 2014-05-08           Thursday\n",
       "2 2013-10-26           Saturday\n",
       "3 2015-08-20           Thursday\n",
       "4 2014-07-22            Tuesday"
      ]
     },
     "execution_count": 18,
     "metadata": {
      "tags": []
     },
     "output_type": "execute_result"
    }
   ],
   "source": [
    "## Yêu cầu 9\n",
    "# ngày trong tuần - tên\n",
    "\n",
    "## VIẾT CODE Ở ĐÂY:\n",
    "data['issue_dt_dayofweek'] = data[...].dt....\n",
    "\n",
    "## VIẾT CODE Ở ĐÂY:\n",
    "data[['issue_dt', ...]].head()"
   ]
  },
  {
   "cell_type": "markdown",
   "metadata": {
    "id": "NHWw1j9TUIvD"
   },
   "source": [
    "<details><summary> Gợi ý </summary>\n",
    "\n",
    "Using ```day_name()``` function\n",
    "\n",
    "</details>"
   ]
  },
  {
   "cell_type": "code",
   "execution_count": null,
   "metadata": {
    "id": "1FtSsoOmQQR2",
    "outputId": "98ffc8dc-e3aa-404c-8898-b63b650fdcd6"
   },
   "outputs": [
    {
     "data": {
      "text/plain": [
       "array(['Tuesday', 'Thursday', 'Saturday', 'Wednesday', 'Sunday', 'Friday',\n",
       "       'Monday'], dtype=object)"
      ]
     },
     "execution_count": 19,
     "metadata": {
      "tags": []
     },
     "output_type": "execute_result"
    }
   ],
   "source": [
    "data['issue_dt_dayofweek'].unique()"
   ]
  },
  {
   "cell_type": "code",
   "execution_count": null,
   "metadata": {
    "id": "xQuFLHDRQQR3",
    "outputId": "186bc6ef-a450-463c-a127-6415f579bd67"
   },
   "outputs": [
    {
     "data": {
      "text/html": [
       "<div>\n",
       "<style scoped>\n",
       "    .dataframe tbody tr th:only-of-type {\n",
       "        vertical-align: middle;\n",
       "    }\n",
       "\n",
       "    .dataframe tbody tr th {\n",
       "        vertical-align: top;\n",
       "    }\n",
       "\n",
       "    .dataframe thead th {\n",
       "        text-align: right;\n",
       "    }\n",
       "</style>\n",
       "<table border=\"1\" class=\"dataframe\">\n",
       "  <thead>\n",
       "    <tr style=\"text-align: right;\">\n",
       "      <th></th>\n",
       "      <th>issue_dt</th>\n",
       "      <th>issue_dt_dayofweek</th>\n",
       "      <th>issue_dt_is_weekend</th>\n",
       "    </tr>\n",
       "  </thead>\n",
       "  <tbody>\n",
       "    <tr>\n",
       "      <th>0</th>\n",
       "      <td>2013-06-11</td>\n",
       "      <td>Tuesday</td>\n",
       "      <td>0</td>\n",
       "    </tr>\n",
       "    <tr>\n",
       "      <th>1</th>\n",
       "      <td>2014-05-08</td>\n",
       "      <td>Thursday</td>\n",
       "      <td>0</td>\n",
       "    </tr>\n",
       "    <tr>\n",
       "      <th>2</th>\n",
       "      <td>2013-10-26</td>\n",
       "      <td>Saturday</td>\n",
       "      <td>1</td>\n",
       "    </tr>\n",
       "    <tr>\n",
       "      <th>3</th>\n",
       "      <td>2015-08-20</td>\n",
       "      <td>Thursday</td>\n",
       "      <td>0</td>\n",
       "    </tr>\n",
       "    <tr>\n",
       "      <th>4</th>\n",
       "      <td>2014-07-22</td>\n",
       "      <td>Tuesday</td>\n",
       "      <td>0</td>\n",
       "    </tr>\n",
       "  </tbody>\n",
       "</table>\n",
       "</div>"
      ],
      "text/plain": [
       "    issue_dt issue_dt_dayofweek  issue_dt_is_weekend\n",
       "0 2013-06-11            Tuesday                    0\n",
       "1 2014-05-08           Thursday                    0\n",
       "2 2013-10-26           Saturday                    1\n",
       "3 2015-08-20           Thursday                    0\n",
       "4 2014-07-22            Tuesday                    0"
      ]
     },
     "execution_count": 20,
     "metadata": {
      "tags": []
     },
     "output_type": "execute_result"
    }
   ],
   "source": [
    "## Yêu cầu 10\n",
    "# ứng dụng có được thực hiện vào cuối tuần không?\n",
    "\n",
    "## VIẾT CODE Ở ĐÂY:\n",
    "...['issue_dt_is_weekend'] = np.where(...['issue_dt_dayofweek'].isin(['Sunday', ...]), 1,0)\n",
    "\n",
    "## VIẾT CODE Ở ĐÂY:\n",
    "data[['issue_dt', 'issue_dt_dayofweek',...]].head()"
   ]
  },
  {
   "cell_type": "code",
   "execution_count": null,
   "metadata": {
    "id": "2hjRIfaXQQR3",
    "outputId": "5417c1aa-b18e-4380-cf24-545243cf2e2f"
   },
   "outputs": [
    {
     "data": {
      "text/plain": [
       "array([0, 1])"
      ]
     },
     "execution_count": 21,
     "metadata": {
      "tags": []
     },
     "output_type": "execute_result"
    }
   ],
   "source": [
    "data['issue_dt_is_weekend'].unique()"
   ]
  },
  {
   "cell_type": "markdown",
   "metadata": {
    "id": "t3cV96UAQQR4"
   },
   "source": [
    "### Trích xuất thời gian trôi qua giữa các ngày"
   ]
  },
  {
   "cell_type": "code",
   "execution_count": null,
   "metadata": {
    "id": "E-Ov933GQQR4",
    "outputId": "ba95bba5-d135-47d7-f60b-71c647409638",
    "scrolled": true
   },
   "outputs": [
    {
     "data": {
      "text/plain": [
       "0      -947 days\n",
       "1      -627 days\n",
       "2      -335 days\n",
       "3      -159 days\n",
       "4      -538 days\n",
       "          ...   \n",
       "9995   -293 days\n",
       "9996   -312 days\n",
       "9997   -253 days\n",
       "9998   -404 days\n",
       "9999   -362 days\n",
       "Length: 10000, dtype: timedelta64[ns]"
      ]
     },
     "execution_count": 22,
     "metadata": {
      "tags": []
     },
     "output_type": "execute_result"
    }
   ],
   "source": [
    "## Yêu cầu 11\n",
    "# thú vị hơn, trích xuất chênh lệch ngày giữa 2 ngày\n",
    "\n",
    "## VIẾT CODE Ở ĐÂY:\n",
    "...['issue_dt'] - ...['last_pymnt_dt']"
   ]
  },
  {
   "cell_type": "code",
   "execution_count": null,
   "metadata": {
    "id": "06ZPeueZQQR4",
    "outputId": "a43cbdec-f119-44d8-ebc1-ff374f2feacc"
   },
   "outputs": [
    {
     "data": {
      "text/plain": [
       "0    947\n",
       "1    627\n",
       "2    335\n",
       "3    159\n",
       "4    538\n",
       "dtype: int64"
      ]
     },
     "execution_count": 23,
     "metadata": {
      "tags": []
     },
     "output_type": "execute_result"
    }
   ],
   "source": [
    "## Yêu cầu 12\n",
    "# tương tự như trên, chỉ nắm chênh lệch về thời gian\n",
    "\n",
    "## VIẾT CODE Ở ĐÂY:\n",
    "(data['last_pymnt_dt'] - data['issue_dt']).dt.....head()"
   ]
  },
  {
   "cell_type": "markdown",
   "metadata": {
    "id": "dvWtGnrzUZ73"
   },
   "source": [
    "<details><summary> Gợi ý </summary>\n",
    "\n",
    "Using ```days``` attribute\n",
    "\n",
    "</details>"
   ]
  },
  {
   "cell_type": "code",
   "execution_count": null,
   "metadata": {
    "id": "ftBnAhPzQQR4",
    "outputId": "e6be4abb-924f-4d1c-e016-d0b63a9fd4d3",
    "scrolled": true
   },
   "outputs": [
    {
     "data": {
      "text/html": [
       "<div>\n",
       "<style scoped>\n",
       "    .dataframe tbody tr th:only-of-type {\n",
       "        vertical-align: middle;\n",
       "    }\n",
       "\n",
       "    .dataframe tbody tr th {\n",
       "        vertical-align: top;\n",
       "    }\n",
       "\n",
       "    .dataframe thead th {\n",
       "        text-align: right;\n",
       "    }\n",
       "</style>\n",
       "<table border=\"1\" class=\"dataframe\">\n",
       "  <thead>\n",
       "    <tr style=\"text-align: right;\">\n",
       "      <th></th>\n",
       "      <th>last_pymnt_dt</th>\n",
       "      <th>issue_dt</th>\n",
       "      <th>months_passed</th>\n",
       "    </tr>\n",
       "  </thead>\n",
       "  <tbody>\n",
       "    <tr>\n",
       "      <th>0</th>\n",
       "      <td>2016-01-14</td>\n",
       "      <td>2013-06-11</td>\n",
       "      <td>31.0</td>\n",
       "    </tr>\n",
       "    <tr>\n",
       "      <th>1</th>\n",
       "      <td>2016-01-25</td>\n",
       "      <td>2014-05-08</td>\n",
       "      <td>21.0</td>\n",
       "    </tr>\n",
       "    <tr>\n",
       "      <th>2</th>\n",
       "      <td>2014-09-26</td>\n",
       "      <td>2013-10-26</td>\n",
       "      <td>11.0</td>\n",
       "    </tr>\n",
       "    <tr>\n",
       "      <th>3</th>\n",
       "      <td>2016-01-26</td>\n",
       "      <td>2015-08-20</td>\n",
       "      <td>5.0</td>\n",
       "    </tr>\n",
       "    <tr>\n",
       "      <th>4</th>\n",
       "      <td>2016-01-11</td>\n",
       "      <td>2014-07-22</td>\n",
       "      <td>18.0</td>\n",
       "    </tr>\n",
       "  </tbody>\n",
       "</table>\n",
       "</div>"
      ],
      "text/plain": [
       "  last_pymnt_dt   issue_dt  months_passed\n",
       "0    2016-01-14 2013-06-11           31.0\n",
       "1    2016-01-25 2014-05-08           21.0\n",
       "2    2014-09-26 2013-10-26           11.0\n",
       "3    2016-01-26 2015-08-20            5.0\n",
       "4    2016-01-11 2014-07-22           18.0"
      ]
     },
     "execution_count": 24,
     "metadata": {
      "tags": []
     },
     "output_type": "execute_result"
    }
   ],
   "source": [
    "## Yêu cầu 13\n",
    "# tính số tháng trôi qua giữa 2 ngày\n",
    "\n",
    "## VIẾT CODE Ở ĐÂY:\n",
    "data['months_passed'] = (...['last_pymnt_dt'] - ...['issue_dt']) / np.timedelta64(1, 'M')\n",
    "data['months_passed'] = np.round(...['months_passed'],0)\n",
    "\n",
    "## VIẾT CODE Ở ĐÂY:\n",
    "data[['last_pymnt_dt', 'issue_dt', ...]].head()"
   ]
  },
  {
   "cell_type": "code",
   "execution_count": null,
   "metadata": {
    "id": "j4mXYh-bQQR5",
    "outputId": "d6b6bc4e-6ab1-46ae-a406-163a0a39ccac"
   },
   "outputs": [
    {
     "data": {
      "text/plain": [
       "0   2620 days 12:42:49.744220\n",
       "1   2289 days 12:42:49.744220\n",
       "2   2483 days 12:42:49.744220\n",
       "3   1820 days 12:42:49.744220\n",
       "4   2214 days 12:42:49.744220\n",
       "Name: issue_dt, dtype: timedelta64[ns]"
      ]
     },
     "execution_count": 25,
     "metadata": {
      "tags": []
     },
     "output_type": "execute_result"
    }
   ],
   "source": [
    "## Yêu cầu 14\n",
    "# hoặc chênh lệch về thời gian với hôm nay\n",
    "\n",
    "## VIẾT CODE Ở ĐÂY:\n",
    "(datetime.datetime.today() - ...['issue_dt']).head()"
   ]
  },
  {
   "cell_type": "code",
   "execution_count": null,
   "metadata": {
    "id": "GU-aJGyiQQR5",
    "outputId": "dbf794ab-b02c-4f6a-edfd-3f5ec9ae5e45"
   },
   "outputs": [
    {
     "data": {
      "text/plain": [
       "array([226413769786250000, 197815369786250000, 214576969786250000, ...,\n",
       "       314887369786250000, 353421769786250000, 333895369786250000],\n",
       "      dtype='timedelta64[ns]')"
      ]
     },
     "execution_count": 26,
     "metadata": {
      "tags": []
     },
     "output_type": "execute_result"
    }
   ],
   "source": [
    "(datetime.datetime.today() - data['issue_dt']).unique()"
   ]
  },
  {
   "cell_type": "markdown",
   "metadata": {
    "id": "Uw-MOK3rRdaC"
   },
   "source": [
    "## Biến thời gian\n",
    "\n",
    "Trong mô phỏng này, chúng ta sẽ trích xuất các biểu diễn khác nhau của thời gian từ một dấu thời gian (timestamp). Chúng ta sẽ trích xuất:\n",
    "\n",
    "- giờ\n",
    "- phút\n",
    "- giây\n",
    "- dữ liệu\n",
    "- thời gian trôi qua\n",
    "\n",
    "Chúng ta sẽ tạo tập dữ liệu toy để minh họa."
   ]
  },
  {
   "cell_type": "code",
   "execution_count": null,
   "metadata": {
    "id": "eWvzwWFqReuz"
   },
   "outputs": [],
   "source": [
    "# tạo tập dữ liệu toy: 1 cột 7 dâu thời gian khác nhau,\n",
    "# chênh lệch 1 giờ giữa các dấu thời gian\n",
    " \n",
    "date = pd.Series(pd.date_range('2015-1-5 11:20:00', periods=7, freq='H'))\n",
    "\n",
    "df = pd.DataFrame(dict(date=date))\n",
    "\n",
    "df"
   ]
  },
  {
   "cell_type": "markdown",
   "metadata": {
    "id": "-6CxPUOYRk86"
   },
   "source": [
    "### Trích xuất giờ, phút, giây"
   ]
  },
  {
   "cell_type": "code",
   "execution_count": null,
   "metadata": {
    "id": "0h8HYaYwRi7D"
   },
   "outputs": [],
   "source": [
    "## Yêu cầu 15\n",
    "\n",
    "## VIẾT CODE Ở ĐÂY:\n",
    "df['hour'] = df['date'].dt....\n",
    "df['min'] = df['date'].dt....\n",
    "df['sec'] = df['date'].dt....\n",
    "\n",
    "df"
   ]
  },
  {
   "cell_type": "markdown",
   "metadata": {
    "id": "DRT9dOT4VYf9"
   },
   "source": [
    "<details><summary> Gợi ý </summary>\n",
    "\n",
    "Using ```hour```, ```minute``` and ```second``` attribute\n",
    "\n",
    "</details>"
   ]
  },
  {
   "cell_type": "markdown",
   "metadata": {
    "id": "Arz6jh7VRogq"
   },
   "source": [
    "### Trích xuất phần thời gian"
   ]
  },
  {
   "cell_type": "code",
   "execution_count": null,
   "metadata": {
    "id": "FLEtek43Ri9m"
   },
   "outputs": [],
   "source": [
    "## Yêu cầu 16\n",
    "\n",
    "## VIẾT CODE Ở ĐÂY:\n",
    "df['time'] = df['date'].dt....\n",
    "\n",
    "df"
   ]
  },
  {
   "cell_type": "markdown",
   "metadata": {
    "id": "e4v-_IcVVicC"
   },
   "source": [
    "<details><summary> Gợi ý </summary>\n",
    "\n",
    "Using ```time``` attribute\n",
    "\n",
    "</details>"
   ]
  },
  {
   "cell_type": "markdown",
   "metadata": {
    "id": "4kkRTtMlRqRq"
   },
   "source": [
    "### Trích xuất giờ, phút, giây cùng lúc"
   ]
  },
  {
   "cell_type": "code",
   "execution_count": null,
   "metadata": {
    "id": "a0KdLdARRjAT"
   },
   "outputs": [],
   "source": [
    "## Yêu cầu 17\n",
    "# hãy lặp lại những gì chúng ta đã thực hiện ở cell 3 trong một lệnh\n",
    "\n",
    "## VIẾT CODE Ở ĐÂY:\n",
    "df[['h','m','s']] = pd.DataFrame([(x..., x.minute, x....) for ... in df['time']])\n",
    "\n",
    "df"
   ]
  },
  {
   "cell_type": "markdown",
   "metadata": {
    "id": "K7RAxDEsRupN"
   },
   "source": [
    "## Tính chênh lệch thời gian"
   ]
  },
  {
   "cell_type": "code",
   "execution_count": null,
   "metadata": {
    "id": "wKdPmGoARjCp"
   },
   "outputs": [],
   "source": [
    "## Yêu cầu 18\n",
    "# tạo một toy dataframe khác với 2 cột dấu thời gian\n",
    "# và 7 hàng, ở cột đầu tiên các dấu thời gian thay đổi theo tháng,\n",
    "# ở cột thứ hai dấu thời gian thây đổi theo tuần\n",
    "\n",
    "## VIẾT CODE Ở ĐÂY:\n",
    "date1 = pd.Series(pd....('2012-1-1 12:00:00', periods=7, freq='M'))\n",
    "date2 = pd.Series(pd....('2013-3-11 21:45:00', periods=7, freq='W'))\n",
    " \n",
    "df = pd.DataFrame(dict(Start_date = date1, End_date = date2))\n",
    "\n",
    "df"
   ]
  },
  {
   "cell_type": "markdown",
   "metadata": {
    "id": "xp0McvPmV5rk"
   },
   "source": [
    "<details><summary> Gợi ý </summary>\n",
    "\n",
    "[date_ranger()](https://pandas.pydata.org/pandas-docs/stable/reference/api/pandas.date_range.html)\n",
    "\n",
    "</details>"
   ]
  },
  {
   "cell_type": "code",
   "execution_count": null,
   "metadata": {
    "id": "JYoGDrk3RjFv"
   },
   "outputs": [],
   "source": [
    "## Yêu cầu 19\n",
    "# tính thời gian trôi qua theo giây\n",
    "\n",
    "## VIẾT CODE Ở ĐÂY:\n",
    "df['diff_seconds'] = df['End_date'] - df['Start_date']\n",
    "df['diff_seconds'] = df[...]/np.timedelta64(1,'s')\n",
    "df"
   ]
  },
  {
   "cell_type": "code",
   "execution_count": null,
   "metadata": {
    "id": "9AQoCNBHRx_b"
   },
   "outputs": [],
   "source": [
    "## Yêu cầu 20\n",
    "# tính thời gian trôi qua theo phút\n",
    "\n",
    "## VIẾT CODE Ở ĐÂY:\n",
    "df['diff_seconds'] = ...\n",
    "df['diff_seconds'] = df['diff_seconds']/np.timedelta64(1,'m')\n",
    "df"
   ]
  },
  {
   "cell_type": "markdown",
   "metadata": {
    "id": "elg3fZYgR1rf"
   },
   "source": [
    "Để biết thêm chi tiết, hãy xem [bài viết này](http://www.datasciencemadesimple.com/difference-two-timestamps-seconds-minutes-hours-pandas-python-2/)"
   ]
  },
  {
   "cell_type": "markdown",
   "metadata": {
    "id": "GBNKUPXBR4TL"
   },
   "source": [
    "## Làm việc với các múi giờ khác nhau\n",
    "\n",
    "Trong các cell tiếp theo, chúng ta sẽ xem cách làm việc với các dấu thời gian ở các múi giờ khác nhau."
   ]
  },
  {
   "cell_type": "code",
   "execution_count": null,
   "metadata": {
    "id": "UteBLHypRyB2"
   },
   "outputs": [],
   "source": [
    "#trước tiên, tạo toy dataframe với một số dấu thời gian trong các múi giờ khác nhau\n",
    "\n",
    "df = pd.DataFrame()\n",
    "\n",
    "df['time'] = pd.concat([\n",
    "    pd.Series(\n",
    "        pd.date_range(\n",
    "            start='2014-08-01 09:00', freq='H', periods=3,\n",
    "            tz='Europe/Berlin')),\n",
    "    pd.Series(\n",
    "        pd.date_range(\n",
    "            start='2014-08-01 09:00', freq='H', periods=3, tz='US/Central'))\n",
    "    ], axis=0)\n",
    "\n",
    "df"
   ]
  },
  {
   "cell_type": "markdown",
   "metadata": {
    "id": "WJAB6tqaR8XT"
   },
   "source": [
    "Chúng ta thấy các múi giờ khác nhau thể hiện bằng +2 và -5 theo kinh tuyến. "
   ]
  },
  {
   "cell_type": "code",
   "execution_count": null,
   "metadata": {
    "id": "gqNvvrNDRyEI"
   },
   "outputs": [],
   "source": [
    "## Yêu cầu 21\n",
    "# để làm việc với các múi giờ khác nhau, trước tiên chúng ta thống nhất múi giờ trung tâm\n",
    "# đặt utc = True\n",
    "\n",
    "## VIẾT CODE Ở ĐÂY:\n",
    "df['time_utc'] = pd....(df['time'], utc=True)\n",
    "\n",
    "# tiếp theo, thay đổi tất cả các dấu thời gian theo múi giờ mong muốn, chẳng hạn như Europe/London\n",
    "# trong ví dụ này\n",
    "\n",
    "df['time_london'] = df['time_utc'].dt.tz_convert('Europe/London')\n",
    "\n",
    "\n",
    "df"
   ]
  },
  {
   "cell_type": "markdown",
   "metadata": {
    "id": "1-e0yLZTWXko"
   },
   "source": [
    "<details><summary> Gợi ý </summary>\n",
    "\n",
    "[to_datetime()](https://pandas.pydata.org/pandas-docs/stable/reference/api/pandas.to_datetime.html)\n",
    "\n",
    "</details>"
   ]
  },
  {
   "cell_type": "markdown",
   "metadata": {
    "id": "atdnUJqdR_ud"
   },
   "source": [
    "Tất nhiên với feature engineering, chúng ta có thể thiết lập tất cả các múi giờ theo múi giờ trung tâm utc=True và trích xuất thời gian đã trôi qua,...Mã hóa múi giờ bổ sung chủ yếu để mọi người có thể đọc được.\n"
   ]
  },
  {
   "cell_type": "code",
   "execution_count": null,
   "metadata": {
    "id": "JbgYiPNmSADe"
   },
   "outputs": [],
   "source": []
  }
 ],
 "metadata": {
  "colab": {
   "collapsed_sections": [],
   "name": "10.4 Xử lý biến thời gian.ipynb",
   "provenance": [],
   "toc_visible": true
  },
  "kernelspec": {
   "display_name": "Python 3 (ipykernel)",
   "language": "python",
   "name": "python3"
  },
  "language_info": {
   "codemirror_mode": {
    "name": "ipython",
    "version": 3
   },
   "file_extension": ".py",
   "mimetype": "text/x-python",
   "name": "python",
   "nbconvert_exporter": "python",
   "pygments_lexer": "ipython3",
   "version": "3.11.4"
  },
  "toc": {
   "base_numbering": 1,
   "nav_menu": {},
   "number_sections": true,
   "sideBar": true,
   "skip_h1_title": false,
   "title_cell": "Table of Contents",
   "title_sidebar": "Contents",
   "toc_cell": false,
   "toc_position": {},
   "toc_section_display": "block",
   "toc_window_display": true
  }
 },
 "nbformat": 4,
 "nbformat_minor": 1
}
