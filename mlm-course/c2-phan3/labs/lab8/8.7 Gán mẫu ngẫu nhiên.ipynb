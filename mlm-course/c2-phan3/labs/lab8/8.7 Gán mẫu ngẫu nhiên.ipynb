{
 "cells": [
  {
   "cell_type": "markdown",
   "metadata": {
    "id": "V8xqzoFUvBVn"
   },
   "source": [
    "## Gán mẫu ngẫu nhiên\n",
    "\n",
    "Gán là hành động thay thế dữ liệu bị khuyết bằng các ước tính thống kê về các giá trị bị khuyết. Mục tiêu của bất kỳ kỹ thuật gán nào là tạo ra một **tập dữ liệu hoàn chỉnh** có thể sử dụng để huấn luyện các mô hình học máy.\n",
    "\n",
    "Gán mẫu ngẫu nhiên về nguyên tắc cũng tương tự như gán mean/median/mode, nó nhằm mục đích bảo toàn các tham số thống kê của biến ban đầu có dữ liệu bị khuyết.\n",
    "\n",
    "Gán mẫu ngẫu nhiên gồm việc lấy một quan sát ngẫu nhiên từ vùng các quan sát có sẵn của biến và sử dụng giá trị được trích xuất ngẫu nhiên đó để điền NA. Trong gán mẫu ngẫu nhiên, càng có nhiều giá trị bị khuyết trong biến thì càng lấy nhiều quan sát ngẫu nhiên. \n",
    "\n",
    "Bằng các quan sát mẫu ngẫu nhiên của biến cho những trường hợp có sẵn dữ liệu, chúng ta đảm bảo giá trị trung bình và độ lệch chuẩn của biến được giữ nguyên.\n",
    "\n",
    "Bằng các quan sát mẫu ngẫu nhiên của các hạng mục hiện tại, chúng ta đảm bảo rằng tần suất của các hạng mục/nhãn khác nhau trong biến được giữ nguyên với các biến hạng mục.\n",
    "\n",
    "\n",
    "### Những biến nào có thể gán mẫu ngẫu nhiên?\n",
    "\n",
    "Gán mẫu ngẫu nhiên có thể áp dụng cho cả biến dạng số và biến hạng mục.\n",
    "\n",
    "\n",
    "### Giả định\n",
    "\n",
    "Gán mẫu ngẫu nhiên giả định rằng dữ liệu bị khuyết hoàn toàn ngẫu nhiên (MCAR). Nếu đúng như vậy, chúng ta nên thay thế các giá trị bị khuyết bằng các giá trị được trích xuất từ ​​phân phối ban đầu của biến.\n",
    "\n",
    "Từ góc nhìn xác suất, các giá trị thường xuất hiện hơn như mean, median hoặc hạng mục thường xuất hiện nhất sẽ được chọn thường xuyên hơn - vì có nhiều giá trị trong số chúng để chọn hơn cho các biến hạng mục, nhưng các giá trị ít thường xuất hiện khác cũng sẽ được chọn. Do đó, phương sai và phân phối của biến được bảo toàn.\n",
    "\n",
    "Ý tưởng là thay thế tập hợp các giá trị bị khuyết bằng một tập hợp các giá trị có cùng phân phối của biến ban đầu.\n",
    "\n",
    "\n",
    "### Ưu điểm\n",
    "\n",
    "- Dễ thực hiện.\n",
    "- Cách nhanh chóng để có được tập dữ liệu hoàn chỉnh.\n",
    "- Bảo toàn phương sai của biến.\n",
    "\n",
    "### Hạn chế\n",
    "\n",
    "- Tính ngẫu nhiên.\n",
    "- Mối quan hệ của các biến đã gán với các biến khác có thể bị ảnh hưởng nếu có nhiều NA.\n",
    "- Cần nhiều bộ nhớ để triển khai, vì chúng ta cần lưu trữ tập huấn luyện ban đầu để trích xuất các giá trị và thay thế NA trong các quan sát sắp tới.\n",
    "\n",
    "\n",
    "### Khi nào thì dùng gán mẫu ngẫu nhiên?\n",
    "\n",
    "- Dữ liệu bị khuyết hoàn toàn ngẫu nhiên.\n",
    "- Không nhiều hơn 5% biến chứa dữ liệu bị khuyết.\n",
    "- Rất thích hợp cho các mô hình tuyến tính vì nó không làm sai lệch phân phối, bất kể % NA là bao nhiêu.\n",
    "\n",
    "Nếu được kết hợp với Chỉ số bị khuyết thì có thể sử dụng phương pháp này khi dữ liệu không bị khuyết ngẫu nhiên hoặc khi có nhiều quan sát bị khuyết.\n",
    "\n",
    "\n",
    "#### Tính ngẫu nhiên\n",
    "\n",
    "Tính ngẫu nhiên có vẻ không được quan tâm nhiều khi thay các giá trị bị khuyết trong các cuộc thi dữ liệu, trong đó toàn bộ các giá trị bị khuyết được thay thế một lần, sau đó tập dữ liệu được tính điểm và kết thúc vấn đề. Tuy nhiên, điều này lại khác trong bối cảnh kinh doanh.\n",
    "\n",
    "Giả sử một nhà sản xuất ô tô đang cố gắng dự đoán xem một chiếc ô tô nhất định sẽ ở trong gara bao lâu trước khi qua tất cả các kiểm định chất lượng. Hôm nay, họ nhận được một chiếc ô tô có dữ liệu bị khuyết trong một số biến; họ chạy mô hình máy học để dự đoán chiếc ô tô này sẽ ở trong ga ra bao lâu, mô hình thay thế các giá trị bị khuyết bằng một mẫu ngẫu nhiên của biến, sau đó ước tính thời gian. Ngày mai, khi họ chạy mô hình tương tự trên cùng ô tô đó, mô hình sẽ chỉ định ngẫu nhiên các giá trị cho dữ liệu bị khuyết, có thể giống hoặc không giống với dữ liệu mà nó đã chọn hôm qua nên ước tính cuối cùng về thời gian trong gara có thể giống hoặc khác với kết quả thu được hôm trước.\n",
    "\n",
    "Ngoài ra, giả sử nhà sản xuất ô tô đánh giá 2 ô tô khác nhau có cùng các giá trị cho tất cả các biến và các giá trị bị khuyết trong cùng một tập hợp con của các biến. Họ chạy mô hình học máy cho từng ô tô và do dữ liệu bị khuyết được điền ngẫu nhiên với các giá trị nên 2 ô tô hoàn toàn giống nhau, có thể dẫn đến các ước tính khác nhau về thời gian ô tô trong ga ra.\n",
    "\n",
    "Điều này nghe có vẻ hoàn toàn tầm thường và không quan trọng, tuy nhiên, các doanh nghiệp phải tuân theo nhiều quy định khác nhau, một số quy định yêu cầu sự xử lý như nhau để cung cấp cho các trường hợp tương tự. Thay vì ô tô, với những người đang xin vay nợ hoặc đang tìm cách trị bệnh thì mô hình học máy sẽ cung cấp các giải pháp khác nhau cho các ứng viên có cùng điều kiện. Điều này không công bằng hoặc không thể chấp nhận, cần tránh hành vi này.\n",
    "\n",
    "#### Vậy chúng ta có nên thay ngẫu nhiên NA không?\n",
    "\n",
    "Vẫn có thể thay thế dữ liệu bị khuyết bằng mẫu ngẫu nhiên, nhưng tính ngẫu nhiên này cần được kiểm soát để các cá nhân trong cùng một tình huống có cùng điểm số nhằm đưa ra các giải pháp tương tự. Làm thế nào để đảm bảo điều này? Bằng cách thiết lập seed hợp lý trong quá trình ra trích xuất ngẫu nhiên các giá trị.\n",
    "\n",
    "Cuối cùng, tương tự như việc thay thế bằng giá trị mean/median, một hạn chế tiềm ẩn khác của gán mẫu ngẫu nhiên là tính ngẫu nhiên cũng có thể loại bỏ các ước tính hiệp phương sai và mối tương quan với các biến khác trong tập dữ liệu, đặc biệt là nếu khuyết nhiều quan sát.\n",
    "\n",
    "\n",
    "### Lưu ý cuối cùng\n",
    "\n",
    "Mặc dù có khái niệm tương tự như thay thế bằng mean/median, thay thế các giá trị bị khuyết bằng mẫu ngẫu nhiên không được sử dụng rộng rãi trong cộng đồng khoa học dữ liệu như gán mean/median, có lẽ là do yếu tố ngẫu nhiên hoặc do việc triển khai code không đơn giản như vậy.\n",
    "\n",
    "\n",
    "Tuy nhiên, đây là một cách tiếp cận hợp lệ, có lợi thế rõ ràng so với gán mean/median vì nó bảo toàn phân phối của biến. Phương pháp này cũng được lựa chọn nếu chúng ta quan tâm đến yếu tố ngẫu nhiên và giải thích cho nó, đặc biệt là đối với các mô hình tuyến tính.\n",
    "\n",
    "## Trong bản mô phỏng này:\n",
    "\n",
    "Chúng ta sẽ học cách thực hiện gán mẫu ngẫu nhiên sử dụng pandas trong tập dữ liệu titanic và giá nhà ở Ames."
   ]
  },
  {
   "cell_type": "code",
   "execution_count": 1,
   "metadata": {
    "id": "yFxGsWmMvBVw"
   },
   "outputs": [],
   "source": [
    "import pandas as pd\n",
    "import numpy as np\n",
    "\n",
    "import matplotlib.pyplot as plt\n",
    "\n",
    "# chia và chuẩn hóa các tập dữ liệu\n",
    "from sklearn.model_selection import train_test_split"
   ]
  },
  {
   "cell_type": "markdown",
   "metadata": {
    "id": "MVk7e7qsvBV0"
   },
   "source": [
    "## Mẫu ngẫu nhiên cho các biến dạng số"
   ]
  },
  {
   "cell_type": "code",
   "execution_count": 2,
   "metadata": {
    "id": "RZvWhePQvBV1",
    "outputId": "7d21ac4d-d755-4951-d80c-aa9dcaba586a"
   },
   "outputs": [
    {
     "data": {
      "text/html": [
       "<div>\n",
       "<style scoped>\n",
       "    .dataframe tbody tr th:only-of-type {\n",
       "        vertical-align: middle;\n",
       "    }\n",
       "\n",
       "    .dataframe tbody tr th {\n",
       "        vertical-align: top;\n",
       "    }\n",
       "\n",
       "    .dataframe thead th {\n",
       "        text-align: right;\n",
       "    }\n",
       "</style>\n",
       "<table border=\"1\" class=\"dataframe\">\n",
       "  <thead>\n",
       "    <tr style=\"text-align: right;\">\n",
       "      <th></th>\n",
       "      <th>survived</th>\n",
       "      <th>age</th>\n",
       "      <th>fare</th>\n",
       "    </tr>\n",
       "  </thead>\n",
       "  <tbody>\n",
       "    <tr>\n",
       "      <th>0</th>\n",
       "      <td>1</td>\n",
       "      <td>29.0000</td>\n",
       "      <td>211.3375</td>\n",
       "    </tr>\n",
       "    <tr>\n",
       "      <th>1</th>\n",
       "      <td>1</td>\n",
       "      <td>0.9167</td>\n",
       "      <td>151.5500</td>\n",
       "    </tr>\n",
       "    <tr>\n",
       "      <th>2</th>\n",
       "      <td>0</td>\n",
       "      <td>2.0000</td>\n",
       "      <td>151.5500</td>\n",
       "    </tr>\n",
       "    <tr>\n",
       "      <th>3</th>\n",
       "      <td>0</td>\n",
       "      <td>30.0000</td>\n",
       "      <td>151.5500</td>\n",
       "    </tr>\n",
       "    <tr>\n",
       "      <th>4</th>\n",
       "      <td>0</td>\n",
       "      <td>25.0000</td>\n",
       "      <td>151.5500</td>\n",
       "    </tr>\n",
       "  </tbody>\n",
       "</table>\n",
       "</div>"
      ],
      "text/plain": [
       "   survived      age      fare\n",
       "0         1  29.0000  211.3375\n",
       "1         1   0.9167  151.5500\n",
       "2         0   2.0000  151.5500\n",
       "3         0  30.0000  151.5500\n",
       "4         0  25.0000  151.5500"
      ]
     },
     "execution_count": 2,
     "metadata": {},
     "output_type": "execute_result"
    }
   ],
   "source": [
    "# load tập dữ liệu Titanic với một số biến để biểu diễn\n",
    "\n",
    "data = pd.read_csv('../dataset/titanic.csv', usecols=['age', 'fare', 'survived'])\n",
    "data.head()"
   ]
  },
  {
   "cell_type": "code",
   "execution_count": 3,
   "metadata": {
    "id": "NaacKOIKvBV2",
    "outputId": "1a0e0cc8-3f8e-43cd-98a7-43759d5f50c1"
   },
   "outputs": [
    {
     "data": {
      "text/plain": [
       "survived    0.000000\n",
       "age         0.200917\n",
       "fare        0.000764\n",
       "dtype: float64"
      ]
     },
     "execution_count": 3,
     "metadata": {},
     "output_type": "execute_result"
    }
   ],
   "source": [
    "# xem phần trăm NA\n",
    "\n",
    "data.isnull().mean()"
   ]
  },
  {
   "cell_type": "markdown",
   "metadata": {
    "id": "aMAVghFhvBV3"
   },
   "source": [
    "### Gán quan trọng\n",
    "\n",
    "Việc gán phải được thực hiện trong tập huấn luyện, sau đó được truyền sang tập kiểm tra. Điều này có nghĩa là mẫu ngẫu nhiên được dùng để điền các giá trị bị khuyết ở cả tập huấn luyện và tập kiểm tra, được trích xuất từ tập huấn luyện."
   ]
  },
  {
   "cell_type": "code",
   "execution_count": 4,
   "metadata": {
    "id": "ZAIAbxKcvBV4",
    "outputId": "c136d95c-826d-4f2d-8706-7055a2f17bc0"
   },
   "outputs": [
    {
     "data": {
      "text/plain": [
       "((916, 3), (393, 3))"
      ]
     },
     "execution_count": 4,
     "metadata": {},
     "output_type": "execute_result"
    }
   ],
   "source": [
    "# hãy chia thành tập huấn luyện và tập kiểm tra\n",
    "\n",
    "X_train, X_test, y_train, y_test = train_test_split(data,\n",
    "                                                    data.survived,\n",
    "                                                    test_size=0.3,\n",
    "                                                    random_state=0)\n",
    "X_train.shape, X_test.shape"
   ]
  },
  {
   "cell_type": "code",
   "execution_count": 6,
   "metadata": {
    "id": "z9qkOm7bvBV5"
   },
   "outputs": [],
   "source": [
    "## Yêu cầu 1: gán Age bằng mẫu ngẫu nhiên ở cả\n",
    "# tập huấn luyện và tập kiểm tra\n",
    "\n",
    "# tạo biến mới mà NA sẽ được gán:\n",
    "# tạo bản sao từ biến ban đầu với NA\n",
    "\n",
    "## VIẾT CODE Ở ĐÂY:\n",
    "X_train['Age_imputed'] = X_train['age'].copy()\n",
    "X_test['Age_imputed'] = X_test['age'].copy()\n",
    "\n",
    "# trích xuất mẫu ngẫu nhiên để điền na:\n",
    "# luôn thực hiện điều này từ tập huấn luyện, và sử dụng\n",
    "# chúng để điền cả tập huấn luyện và tập kiểm tra\n",
    "\n",
    "random_sample_train = X_train['age'].dropna().sample(\n",
    "    X_train['age'].isnull().sum(), random_state=0)\n",
    "\n",
    "## VIẾT CODE Ở ĐÂY:\n",
    "random_sample_test = X_train['age'].dropna().sample(\n",
    "    X_test['age'].isnull().sum(), random_state=0)\n",
    "\n",
    "# các code trên thực hiện những gì?\n",
    "\n",
    "# 1) dropna() loại bỏ NA từ biến ban đầu, \n",
    "# tức là chúng ta sẽ trích xuất ngẫu nhiên các giá trị hiện có và không NA\n",
    "\n",
    "# 2) sample() là phương thức thực hiện mẫu ngẫu nhiên\n",
    "\n",
    "# 3) X_train['Age'].isnull().sum() là số lượng giá trị ngẫu nhiên để trích xuất\n",
    "# chúng ta muốn trích xuất càng nhiều giá trị NA càng tốt trong biến ban đầu\n",
    "\n",
    "# 4) random_state đặt seed cho khả năng tái lặp lại để trích xuất\n",
    "# luôn cùng các giá trị ngẫu nhiên mỗi lần chạy notebook này\n",
    "\n",
    "# pandas cần có cùng chỉ số để hợp nhất tập dữ liệu\n",
    "random_sample_train.index = X_train[X_train['age'].isnull()].index\n",
    "## VIẾT CODE Ở ĐÂY:\n",
    "random_sample_test.index = X_test[X_test['age'].isnull()].index\n",
    "\n",
    "# thay thế NA trong biến mới tạo\n",
    "X_train.loc[X_train['age'].isnull(), 'Age_imputed'] = random_sample_train\n",
    "## VIẾT CODE Ở ĐÂY:\n",
    "X_test.loc[X_test['age'].isnull(), 'Age_imputed'] = random_sample_test"
   ]
  },
  {
   "cell_type": "markdown",
   "metadata": {
    "id": "ci1RUpBHMdX3"
   },
   "source": [
    "<details><summary> Gợi ý </summary>\n",
    "\n",
    "[copy()](https://pandas.pydata.org/pandas-docs/stable/reference/api/pandas.DataFrame.copy.html)\n",
    "\n",
    "[sample()](https://pandas.pydata.org/pandas-docs/stable/reference/api/pandas.DataFrame.sample.html)\n",
    "\n",
    "</details>"
   ]
  },
  {
   "cell_type": "code",
   "execution_count": 7,
   "metadata": {
    "id": "pjUCWSdvvBV6",
    "outputId": "4df07f83-87ea-4659-a60a-724c0029fd01"
   },
   "outputs": [
    {
     "data": {
      "text/plain": [
       "0"
      ]
     },
     "execution_count": 7,
     "metadata": {},
     "output_type": "execute_result"
    }
   ],
   "source": [
    "# kiểm tra xem NA đã được gán chưa\n",
    "X_train['Age_imputed'].isnull().sum()"
   ]
  },
  {
   "cell_type": "code",
   "execution_count": 8,
   "metadata": {
    "id": "-3HQqg7zvBV7",
    "outputId": "b827e8a4-c86a-43ea-c37a-fcd06b86e7ba"
   },
   "outputs": [
    {
     "data": {
      "text/plain": [
       "0"
      ]
     },
     "execution_count": 8,
     "metadata": {},
     "output_type": "execute_result"
    }
   ],
   "source": [
    "# kiểm tra xem NA đã được gán chưa\n",
    "X_test['Age_imputed'].isnull().sum()"
   ]
  },
  {
   "cell_type": "code",
   "execution_count": 9,
   "metadata": {
    "id": "pGb3WARdvBV9",
    "outputId": "7d0dee1e-39dd-4620-96e6-70118a4ce773"
   },
   "outputs": [
    {
     "data": {
      "text/html": [
       "<div>\n",
       "<style scoped>\n",
       "    .dataframe tbody tr th:only-of-type {\n",
       "        vertical-align: middle;\n",
       "    }\n",
       "\n",
       "    .dataframe tbody tr th {\n",
       "        vertical-align: top;\n",
       "    }\n",
       "\n",
       "    .dataframe thead th {\n",
       "        text-align: right;\n",
       "    }\n",
       "</style>\n",
       "<table border=\"1\" class=\"dataframe\">\n",
       "  <thead>\n",
       "    <tr style=\"text-align: right;\">\n",
       "      <th></th>\n",
       "      <th>survived</th>\n",
       "      <th>age</th>\n",
       "      <th>fare</th>\n",
       "      <th>Age_imputed</th>\n",
       "    </tr>\n",
       "  </thead>\n",
       "  <tbody>\n",
       "    <tr>\n",
       "      <th>501</th>\n",
       "      <td>1</td>\n",
       "      <td>13.0</td>\n",
       "      <td>19.5000</td>\n",
       "      <td>13.0</td>\n",
       "    </tr>\n",
       "    <tr>\n",
       "      <th>588</th>\n",
       "      <td>1</td>\n",
       "      <td>4.0</td>\n",
       "      <td>23.0000</td>\n",
       "      <td>4.0</td>\n",
       "    </tr>\n",
       "    <tr>\n",
       "      <th>402</th>\n",
       "      <td>1</td>\n",
       "      <td>30.0</td>\n",
       "      <td>13.8583</td>\n",
       "      <td>30.0</td>\n",
       "    </tr>\n",
       "    <tr>\n",
       "      <th>1193</th>\n",
       "      <td>0</td>\n",
       "      <td>NaN</td>\n",
       "      <td>7.7250</td>\n",
       "      <td>40.5</td>\n",
       "    </tr>\n",
       "    <tr>\n",
       "      <th>686</th>\n",
       "      <td>1</td>\n",
       "      <td>22.0</td>\n",
       "      <td>7.7250</td>\n",
       "      <td>22.0</td>\n",
       "    </tr>\n",
       "    <tr>\n",
       "      <th>971</th>\n",
       "      <td>0</td>\n",
       "      <td>NaN</td>\n",
       "      <td>7.8792</td>\n",
       "      <td>39.0</td>\n",
       "    </tr>\n",
       "    <tr>\n",
       "      <th>117</th>\n",
       "      <td>1</td>\n",
       "      <td>30.0</td>\n",
       "      <td>56.9292</td>\n",
       "      <td>30.0</td>\n",
       "    </tr>\n",
       "    <tr>\n",
       "      <th>540</th>\n",
       "      <td>1</td>\n",
       "      <td>2.0</td>\n",
       "      <td>26.0000</td>\n",
       "      <td>2.0</td>\n",
       "    </tr>\n",
       "    <tr>\n",
       "      <th>294</th>\n",
       "      <td>0</td>\n",
       "      <td>49.0</td>\n",
       "      <td>110.8833</td>\n",
       "      <td>49.0</td>\n",
       "    </tr>\n",
       "    <tr>\n",
       "      <th>261</th>\n",
       "      <td>1</td>\n",
       "      <td>35.0</td>\n",
       "      <td>26.2875</td>\n",
       "      <td>35.0</td>\n",
       "    </tr>\n",
       "    <tr>\n",
       "      <th>587</th>\n",
       "      <td>1</td>\n",
       "      <td>2.0</td>\n",
       "      <td>23.0000</td>\n",
       "      <td>2.0</td>\n",
       "    </tr>\n",
       "    <tr>\n",
       "      <th>489</th>\n",
       "      <td>1</td>\n",
       "      <td>42.0</td>\n",
       "      <td>26.0000</td>\n",
       "      <td>42.0</td>\n",
       "    </tr>\n",
       "    <tr>\n",
       "      <th>2</th>\n",
       "      <td>0</td>\n",
       "      <td>2.0</td>\n",
       "      <td>151.5500</td>\n",
       "      <td>2.0</td>\n",
       "    </tr>\n",
       "    <tr>\n",
       "      <th>405</th>\n",
       "      <td>0</td>\n",
       "      <td>18.0</td>\n",
       "      <td>13.0000</td>\n",
       "      <td>18.0</td>\n",
       "    </tr>\n",
       "    <tr>\n",
       "      <th>1284</th>\n",
       "      <td>0</td>\n",
       "      <td>NaN</td>\n",
       "      <td>8.0500</td>\n",
       "      <td>24.0</td>\n",
       "    </tr>\n",
       "  </tbody>\n",
       "</table>\n",
       "</div>"
      ],
      "text/plain": [
       "      survived   age      fare  Age_imputed\n",
       "501          1  13.0   19.5000         13.0\n",
       "588          1   4.0   23.0000          4.0\n",
       "402          1  30.0   13.8583         30.0\n",
       "1193         0   NaN    7.7250         40.5\n",
       "686          1  22.0    7.7250         22.0\n",
       "971          0   NaN    7.8792         39.0\n",
       "117          1  30.0   56.9292         30.0\n",
       "540          1   2.0   26.0000          2.0\n",
       "294          0  49.0  110.8833         49.0\n",
       "261          1  35.0   26.2875         35.0\n",
       "587          1   2.0   23.0000          2.0\n",
       "489          1  42.0   26.0000         42.0\n",
       "2            0   2.0  151.5500          2.0\n",
       "405          0  18.0   13.0000         18.0\n",
       "1284         0   NaN    8.0500         24.0"
      ]
     },
     "execution_count": 9,
     "metadata": {},
     "output_type": "execute_result"
    }
   ],
   "source": [
    "X_train.head(15)"
   ]
  },
  {
   "cell_type": "markdown",
   "metadata": {
    "id": "6xaR8rb5vBV-"
   },
   "source": [
    "Chúng ta thấy NA được thay thế bằng các giá trị trong các hàng khác nhau thế nào! Đây là điều chúng ta muốn."
   ]
  },
  {
   "cell_type": "markdown",
   "metadata": {
    "id": "7eOlB9hKvBV-"
   },
   "source": [
    "#### Mẫu ngẫu nhiên bảo toàn phân phối ban đầu của biến"
   ]
  },
  {
   "cell_type": "code",
   "execution_count": 10,
   "metadata": {
    "id": "LraHCSP5vBV-",
    "outputId": "9f366dce-7d14-4bce-bbed-4bcd0da772d7"
   },
   "outputs": [
    {
     "data": {
      "text/plain": [
       "<matplotlib.legend.Legend at 0x7fd1c7a17910>"
      ]
     },
     "execution_count": 10,
     "metadata": {},
     "output_type": "execute_result"
    },
    {
     "data": {
      "image/png": "[encoded data removed]",
      "text/plain": [
       "<Figure size 640x480 with 1 Axes>"
      ]
     },
     "metadata": {},
     "output_type": "display_data"
    }
   ],
   "source": [
    "# chúng ta thấy phân phối của biến sau khi\n",
    "# gán mẫu ngẫu nhiên gần như ý hệt so với ban đầu\n",
    "\n",
    "fig = plt.figure()\n",
    "ax = fig.add_subplot(111)\n",
    "\n",
    "X_train['age'].plot(kind='kde', ax=ax)\n",
    "X_train['Age_imputed'].plot(kind='kde', ax=ax, color='red')\n",
    "\n",
    "lines, labels = ax.get_legend_handles_labels()\n",
    "ax.legend(lines, labels, loc='best')"
   ]
  },
  {
   "cell_type": "markdown",
   "metadata": {
    "id": "e4ml6QwXvBV_"
   },
   "source": [
    "Chúng ta có thể thấy rằng việc thay thế các giá trị bị khuyết bằng một mẫu ngẫu nhiên từ tập huấn luyện sẽ bảo toàn phân phối ban đầu của biến. Từ các notebook trước, mọi kỹ thuật gán khác đều thay đổi phân phối của Age, vì % NA trong Age cao, ~ 20%. Tuy nhiên, ngay cả trong những trường hợp đó, gán mẫu ngẫu nhiên cũng đều bảo toàn phân phối. Vì vậy, kỹ thuật gán này khá tiện dụng nếu xây dựng các mô hình tuyến tính và không muốn làm sai lệch các phân phối chuẩn."
   ]
  },
  {
   "cell_type": "code",
   "execution_count": 11,
   "metadata": {
    "id": "44Ee03-1vBV_",
    "outputId": "b86b2cc8-7358-4869-de1d-0ba120f8f3be"
   },
   "outputs": [
    {
     "name": "stdout",
     "output_type": "stream",
     "text": [
      "Original variable variance:  194.16304666581863\n",
      "Variance after random imputation:  198.53703762759557\n"
     ]
    }
   ],
   "source": [
    "# phương sai của biến có thay đổi một chút.\n",
    "# tuy nhiên, thay đổi này rất nhỏ khi so sánh với gán mean/median\n",
    "# (xem notebook trước để so sánh)\n",
    "\n",
    "print('Original variable variance: ', X_train['age'].var())\n",
    "print('Variance after random imputation: ', X_train['Age_imputed'].var())"
   ]
  },
  {
   "cell_type": "code",
   "execution_count": 12,
   "metadata": {
    "id": "rew82w-kvBWA",
    "outputId": "a9e6b9c7-2e8a-42e6-87ed-9ab98673bf2c"
   },
   "outputs": [
    {
     "data": {
      "text/html": [
       "<div>\n",
       "<style scoped>\n",
       "    .dataframe tbody tr th:only-of-type {\n",
       "        vertical-align: middle;\n",
       "    }\n",
       "\n",
       "    .dataframe tbody tr th {\n",
       "        vertical-align: top;\n",
       "    }\n",
       "\n",
       "    .dataframe thead th {\n",
       "        text-align: right;\n",
       "    }\n",
       "</style>\n",
       "<table border=\"1\" class=\"dataframe\">\n",
       "  <thead>\n",
       "    <tr style=\"text-align: right;\">\n",
       "      <th></th>\n",
       "      <th>fare</th>\n",
       "      <th>age</th>\n",
       "      <th>Age_imputed</th>\n",
       "    </tr>\n",
       "  </thead>\n",
       "  <tbody>\n",
       "    <tr>\n",
       "      <th>fare</th>\n",
       "      <td>2248.326729</td>\n",
       "      <td>136.176223</td>\n",
       "      <td>100.938070</td>\n",
       "    </tr>\n",
       "    <tr>\n",
       "      <th>age</th>\n",
       "      <td>136.176223</td>\n",
       "      <td>194.163047</td>\n",
       "      <td>194.163047</td>\n",
       "    </tr>\n",
       "    <tr>\n",
       "      <th>Age_imputed</th>\n",
       "      <td>100.938070</td>\n",
       "      <td>194.163047</td>\n",
       "      <td>198.537038</td>\n",
       "    </tr>\n",
       "  </tbody>\n",
       "</table>\n",
       "</div>"
      ],
      "text/plain": [
       "                    fare         age  Age_imputed\n",
       "fare         2248.326729  136.176223   100.938070\n",
       "age           136.176223  194.163047   194.163047\n",
       "Age_imputed   100.938070  194.163047   198.537038"
      ]
     },
     "execution_count": 12,
     "metadata": {},
     "output_type": "execute_result"
    }
   ],
   "source": [
    "#hiệp phương sai của Age với Fare cũng ít bị ảnh hưởng bởi\n",
    "# kỹ thuật gán này so với gán mean/median\n",
    "\n",
    "X_train[['fare', 'age', 'Age_imputed']].cov()"
   ]
  },
  {
   "cell_type": "code",
   "execution_count": 13,
   "metadata": {
    "id": "ZWIayWCXvBWA",
    "outputId": "02077bc8-a6b4-475b-8fdb-3b0cbbdab1de"
   },
   "outputs": [
    {
     "data": {
      "text/plain": [
       "<Axes: >"
      ]
     },
     "execution_count": 13,
     "metadata": {},
     "output_type": "execute_result"
    },
    {
     "data": {
      "image/png": "[encoded data removed]",
      "text/plain": [
       "<Figure size 640x480 with 1 Axes>"
      ]
     },
     "metadata": {},
     "output_type": "display_data"
    }
   ],
   "source": [
    "# Cuối cùng, outlier cũng ít bị ảnh hưởng bới kỹ thuật gán này\n",
    "\n",
    "# Hãy tìm hiểu qua biểu đồ hộp\n",
    "X_train[['age', 'Age_imputed']].boxplot()"
   ]
  },
  {
   "cell_type": "markdown",
   "metadata": {
    "id": "Up5JT19DvBWA"
   },
   "source": [
    "Vậy, gán mẫu ngẫu nhiên có ưu điểm là bảo toàn phân phối ban đầu. Đó là một điểm cộng lớn, đặc biệt nếu chúng ta quan tâm đến các phân phối và outlier cho các mô hình học máy; nó vô cùng thích hợp với các mô hình tuyến tính nhưng lại không quá quan trọng đối với các thuật toán cây."
   ]
  },
  {
   "cell_type": "markdown",
   "metadata": {
    "id": "IIx_K5hFvBWB"
   },
   "source": [
    "## Tính ngẫu nhiên có thể dẫn đến gán các điểm số khác nhau cho cùng một quan sát\n",
    "\n",
    "Hãy xem xét tác động của tính ngẫu nhiên đối với nhiều điểm và cách  giảm thiểu hành vi này, vì điều này rất quan trọng khi đưa mô hình vào sản xuất/tích hợp mô hình với hệ thống trực tiếp. "
   ]
  },
  {
   "cell_type": "code",
   "execution_count": 14,
   "metadata": {
    "id": "r70sb6IqvBWB",
    "outputId": "01c48436-5c2f-479b-8248-38b85b1bb705"
   },
   "outputs": [
    {
     "data": {
      "text/html": [
       "<div>\n",
       "<style scoped>\n",
       "    .dataframe tbody tr th:only-of-type {\n",
       "        vertical-align: middle;\n",
       "    }\n",
       "\n",
       "    .dataframe tbody tr th {\n",
       "        vertical-align: top;\n",
       "    }\n",
       "\n",
       "    .dataframe thead th {\n",
       "        text-align: right;\n",
       "    }\n",
       "</style>\n",
       "<table border=\"1\" class=\"dataframe\">\n",
       "  <thead>\n",
       "    <tr style=\"text-align: right;\">\n",
       "      <th></th>\n",
       "      <th>survived</th>\n",
       "      <th>age</th>\n",
       "      <th>fare</th>\n",
       "    </tr>\n",
       "  </thead>\n",
       "  <tbody>\n",
       "    <tr>\n",
       "      <th>15</th>\n",
       "      <td>0</td>\n",
       "      <td>NaN</td>\n",
       "      <td>25.925</td>\n",
       "    </tr>\n",
       "  </tbody>\n",
       "</table>\n",
       "</div>"
      ],
      "text/plain": [
       "    survived  age    fare\n",
       "15         0  NaN  25.925"
      ]
     },
     "execution_count": 14,
     "metadata": {},
     "output_type": "execute_result"
    }
   ],
   "source": [
    "# chọn một quan sát có NA trong Age\n",
    "# trong trường hợp này chọn quan sát được lập chỉ mục 5\n",
    "\n",
    "observation = data[data.age.isnull()].head(1)\n",
    "observation"
   ]
  },
  {
   "cell_type": "code",
   "execution_count": 15,
   "metadata": {
    "id": "HCU6sRVCvBWC",
    "outputId": "28357e6e-ba4f-439e-fc8e-e857a37e1c9b"
   },
   "outputs": [
    {
     "data": {
      "text/html": [
       "<div>\n",
       "<style scoped>\n",
       "    .dataframe tbody tr th:only-of-type {\n",
       "        vertical-align: middle;\n",
       "    }\n",
       "\n",
       "    .dataframe tbody tr th {\n",
       "        vertical-align: top;\n",
       "    }\n",
       "\n",
       "    .dataframe thead th {\n",
       "        text-align: right;\n",
       "    }\n",
       "</style>\n",
       "<table border=\"1\" class=\"dataframe\">\n",
       "  <thead>\n",
       "    <tr style=\"text-align: right;\">\n",
       "      <th></th>\n",
       "      <th>survived</th>\n",
       "      <th>age</th>\n",
       "      <th>fare</th>\n",
       "      <th>Age_random</th>\n",
       "    </tr>\n",
       "  </thead>\n",
       "  <tbody>\n",
       "    <tr>\n",
       "      <th>15</th>\n",
       "      <td>0</td>\n",
       "      <td>NaN</td>\n",
       "      <td>25.925</td>\n",
       "      <td>15.0</td>\n",
       "    </tr>\n",
       "  </tbody>\n",
       "</table>\n",
       "</div>"
      ],
      "text/plain": [
       "    survived  age    fare  Age_random\n",
       "15         0  NaN  25.925        15.0"
      ]
     },
     "execution_count": 15,
     "metadata": {},
     "output_type": "execute_result"
    }
   ],
   "source": [
    "# giờ hãy điền NA đó với một giá trị ngẫu nhiên\n",
    "# được trích xuất từ biến tương tự có sẵn các quan sát\n",
    "\n",
    "# trích xuất một giá trị ngẫu nhiên, chỉ 1\n",
    "sampled_value = X_train['age'].dropna().sample(1)\n",
    "\n",
    "# lập lại chỉ mục thành 5\n",
    "sampled_value.index = [15]  # pandas cần index tương tự để hợp nhất\n",
    "\n",
    "# thay thế NA với giá trị mẫu\n",
    "observation['Age_random'] = sampled_value\n",
    "\n",
    "observation"
   ]
  },
  {
   "cell_type": "code",
   "execution_count": 16,
   "metadata": {
    "id": "KkkTqPNmvBWC",
    "outputId": "d1b7354f-007c-4214-955e-8fe6f4ea110d"
   },
   "outputs": [
    {
     "data": {
      "text/html": [
       "<div>\n",
       "<style scoped>\n",
       "    .dataframe tbody tr th:only-of-type {\n",
       "        vertical-align: middle;\n",
       "    }\n",
       "\n",
       "    .dataframe tbody tr th {\n",
       "        vertical-align: top;\n",
       "    }\n",
       "\n",
       "    .dataframe thead th {\n",
       "        text-align: right;\n",
       "    }\n",
       "</style>\n",
       "<table border=\"1\" class=\"dataframe\">\n",
       "  <thead>\n",
       "    <tr style=\"text-align: right;\">\n",
       "      <th></th>\n",
       "      <th>survived</th>\n",
       "      <th>age</th>\n",
       "      <th>fare</th>\n",
       "      <th>Age_random</th>\n",
       "    </tr>\n",
       "  </thead>\n",
       "  <tbody>\n",
       "    <tr>\n",
       "      <th>15</th>\n",
       "      <td>0</td>\n",
       "      <td>NaN</td>\n",
       "      <td>25.925</td>\n",
       "      <td>21.0</td>\n",
       "    </tr>\n",
       "  </tbody>\n",
       "</table>\n",
       "</div>"
      ],
      "text/plain": [
       "    survived  age    fare  Age_random\n",
       "15         0  NaN  25.925        21.0"
      ]
     },
     "execution_count": 16,
     "metadata": {},
     "output_type": "execute_result"
    }
   ],
   "source": [
    "# lặp lại bài tập này một lần nữa:\n",
    "# điền NA với một giá trị ngẫu nhiên khác được trích xuất \n",
    "\n",
    "# trích xuất một giá trị ngẫu nhiên, chỉ 1\n",
    "sampled_value = X_train['age'].dropna().sample(1)\n",
    "\n",
    "# lập lại chỉ mục thành 5\n",
    "sampled_value.index = [15]  #pandas cần index tương tự để hợp nhất\n",
    "\n",
    "# thay thế NA với giá trị mẫu\n",
    "observation['Age_random'] = sampled_value\n",
    "\n",
    "observation"
   ]
  },
  {
   "cell_type": "code",
   "execution_count": 17,
   "metadata": {
    "id": "am_FG09lvBWD",
    "outputId": "d6c76b1b-32ea-4e01-bf0d-d9b545a5b968"
   },
   "outputs": [
    {
     "data": {
      "text/html": [
       "<div>\n",
       "<style scoped>\n",
       "    .dataframe tbody tr th:only-of-type {\n",
       "        vertical-align: middle;\n",
       "    }\n",
       "\n",
       "    .dataframe tbody tr th {\n",
       "        vertical-align: top;\n",
       "    }\n",
       "\n",
       "    .dataframe thead th {\n",
       "        text-align: right;\n",
       "    }\n",
       "</style>\n",
       "<table border=\"1\" class=\"dataframe\">\n",
       "  <thead>\n",
       "    <tr style=\"text-align: right;\">\n",
       "      <th></th>\n",
       "      <th>survived</th>\n",
       "      <th>age</th>\n",
       "      <th>fare</th>\n",
       "      <th>Age_random</th>\n",
       "    </tr>\n",
       "  </thead>\n",
       "  <tbody>\n",
       "    <tr>\n",
       "      <th>15</th>\n",
       "      <td>0</td>\n",
       "      <td>NaN</td>\n",
       "      <td>25.925</td>\n",
       "      <td>38.5</td>\n",
       "    </tr>\n",
       "  </tbody>\n",
       "</table>\n",
       "</div>"
      ],
      "text/plain": [
       "    survived  age    fare  Age_random\n",
       "15         0  NaN  25.925        38.5"
      ]
     },
     "execution_count": 17,
     "metadata": {},
     "output_type": "execute_result"
    }
   ],
   "source": [
    "# lặp lại lần nữa:\n",
    "# điền NA với một giá trị ngẫu nhiên khác được trích xuất \n",
    "\n",
    "# trích xuất một giá trị ngẫu nhiên, chỉ 1\n",
    "sampled_value = X_train['age'].dropna().sample(1)\n",
    "\n",
    "# lập lại chỉ mục thành 5\n",
    "sampled_value.index = [15]  #pandas cần index tương tự để hợp nhất\n",
    "\n",
    "# thay thế NA với giá trị mẫu\n",
    "observation['Age_random'] = sampled_value\n",
    "\n",
    "observation"
   ]
  },
  {
   "cell_type": "markdown",
   "metadata": {
    "id": "mu6dRQIAvBWD"
   },
   "source": [
    "Chúng ta có thể thấy mỗi lần lặp lại thao tác sẽ nhận được một giá trị thay thế khác cho cùng một quan sát. Trên thực tế, nếu chúng ta lặp lại quá trình 1000 lần:"
   ]
  },
  {
   "cell_type": "code",
   "execution_count": 19,
   "metadata": {
    "id": "gUK7V0lvvBWD",
    "outputId": "aa0e0410-6d58-4c9b-b825-ab57c5f46e2a"
   },
   "outputs": [
    {
     "name": "stderr",
     "output_type": "stream",
     "text": [
      "/tmp/ipykernel_5811/3672859156.py:17: DeprecationWarning: Conversion of an array with ndim > 0 to a scalar is deprecated, and will error in future. Ensure you extract a single element from your array before performing this operation. (Deprecated NumPy 1.25.)\n",
      "  values_ls.append(float(sampled_value))\n"
     ]
    },
    {
     "data": {
      "text/plain": [
       "Text(0, 0.5, 'Number of times')"
      ]
     },
     "execution_count": 19,
     "metadata": {},
     "output_type": "execute_result"
    },
    {
     "data": {
      "image/png": "[encoded data removed]",
      "text/plain": [
       "<Figure size 640x480 with 1 Axes>"
      ]
     },
     "metadata": {},
     "output_type": "display_data"
    }
   ],
   "source": [
    "## Yêu cầu 2: nếu lặp lại quá trình 1000 lần:\n",
    "\n",
    "values_ls = []\n",
    "\n",
    "# nắm các giá trị không phải Na để tăng tốc\n",
    "# tính toán\n",
    "tmp = X_train.age.dropna()\n",
    "\n",
    "## VIẾT CODE Ở ĐÂY:\n",
    "for i in range(1000):\n",
    "    \n",
    "    # trích xuất một giá trị ngẫu nhiên, chỉ 1\n",
    "    sampled_value = tmp.sample(1).values\n",
    "    \n",
    "    # thêm giá trị đã trích xuất vào list\n",
    "    ## VIẾT CODE Ở ĐÂY:\n",
    "    values_ls.append(float(sampled_value))\n",
    "\n",
    "## VIẾT CODE Ở ĐÂY:\n",
    "pd.Series(values_ls).hist(bins=50)\n",
    "plt.xlabel('Randomly Extracted Values')\n",
    "plt.ylabel('Number of times')"
   ]
  },
  {
   "cell_type": "markdown",
   "metadata": {
    "id": "iB5fHx9AvBWE"
   },
   "source": [
    "Chúng ta thu được các giá trị khác nhau cho cùng một quan sát. Lưu ý cách phân phối của các giá trị được trích xuất tương tự như phân phối của Age.\n",
    "\n",
    "Trong trường hợp các bệnh nhân đang tìm cách trị bệnh, mỗi khi chúng ta chạy một mô hình dự đoán, mô hình này sẽ hoạt động trên các giá trị được trích xuất ngẫu nhiên khác nhau, chúng ta sẽ chỉ định những bệnh nhân có cùng đặc điểm cho các phương pháp điều trị khác nhau; điều này không ổn.\n",
    "\n",
    "### Làm thế nào để sửa cách xử lý này ?\n",
    "\n",
    "Có thể sửa bằng cách chỉ định một seed:"
   ]
  },
  {
   "cell_type": "code",
   "execution_count": 21,
   "metadata": {
    "id": "oG6CSYgSvBWE",
    "outputId": "f5a16724-58d9-4423-bb4b-18d60ac7e317"
   },
   "outputs": [
    {
     "name": "stderr",
     "output_type": "stream",
     "text": [
      "/tmp/ipykernel_5811/3917390567.py:12: FutureWarning: Calling float on a single element Series is deprecated and will raise a TypeError in the future. Use float(ser.iloc[0]) instead\n",
      "  values_ls.append(float(sampled_value))\n"
     ]
    },
    {
     "data": {
      "text/plain": [
       "array([23.5])"
      ]
     },
     "execution_count": 21,
     "metadata": {},
     "output_type": "execute_result"
    }
   ],
   "source": [
    "## Yêu cầu 3\n",
    "values_ls = []\n",
    "\n",
    "for i in range(100):\n",
    "\n",
    "    # trích xuất một giá trị ngẫu nhiên, chỉ 1 với seed\n",
    "    ## VIẾT CODE Ở ĐÂY:\n",
    "    sampled_value = X_train.age.dropna().sample(1, random_state=10)\n",
    "\n",
    "    # thêm giá trị đã trích xuất vào list\n",
    "    ## VIẾT CODE Ở ĐÂY:\n",
    "    values_ls.append(float(sampled_value))\n",
    "\n",
    "# in ra các giá trị\n",
    "## VIẾT CODE Ở ĐÂY:\n",
    "pd.Series(values_ls).unique()"
   ]
  },
  {
   "cell_type": "code",
   "execution_count": 22,
   "metadata": {
    "id": "sPtmgWw_vBWE",
    "outputId": "ab405543-e119-4eb0-cc6a-71dd64810bcd",
    "scrolled": true
   },
   "outputs": [
    {
     "data": {
      "text/plain": [
       "[23.5,\n",
       " 23.5,\n",
       " 23.5,\n",
       " 23.5,\n",
       " 23.5,\n",
       " 23.5,\n",
       " 23.5,\n",
       " 23.5,\n",
       " 23.5,\n",
       " 23.5,\n",
       " 23.5,\n",
       " 23.5,\n",
       " 23.5,\n",
       " 23.5,\n",
       " 23.5,\n",
       " 23.5,\n",
       " 23.5,\n",
       " 23.5,\n",
       " 23.5,\n",
       " 23.5,\n",
       " 23.5,\n",
       " 23.5,\n",
       " 23.5,\n",
       " 23.5,\n",
       " 23.5,\n",
       " 23.5,\n",
       " 23.5,\n",
       " 23.5,\n",
       " 23.5,\n",
       " 23.5,\n",
       " 23.5,\n",
       " 23.5,\n",
       " 23.5,\n",
       " 23.5,\n",
       " 23.5,\n",
       " 23.5,\n",
       " 23.5,\n",
       " 23.5,\n",
       " 23.5,\n",
       " 23.5,\n",
       " 23.5,\n",
       " 23.5,\n",
       " 23.5,\n",
       " 23.5,\n",
       " 23.5,\n",
       " 23.5,\n",
       " 23.5,\n",
       " 23.5,\n",
       " 23.5,\n",
       " 23.5,\n",
       " 23.5,\n",
       " 23.5,\n",
       " 23.5,\n",
       " 23.5,\n",
       " 23.5,\n",
       " 23.5,\n",
       " 23.5,\n",
       " 23.5,\n",
       " 23.5,\n",
       " 23.5,\n",
       " 23.5,\n",
       " 23.5,\n",
       " 23.5,\n",
       " 23.5,\n",
       " 23.5,\n",
       " 23.5,\n",
       " 23.5,\n",
       " 23.5,\n",
       " 23.5,\n",
       " 23.5,\n",
       " 23.5,\n",
       " 23.5,\n",
       " 23.5,\n",
       " 23.5,\n",
       " 23.5,\n",
       " 23.5,\n",
       " 23.5,\n",
       " 23.5,\n",
       " 23.5,\n",
       " 23.5,\n",
       " 23.5,\n",
       " 23.5,\n",
       " 23.5,\n",
       " 23.5,\n",
       " 23.5,\n",
       " 23.5,\n",
       " 23.5,\n",
       " 23.5,\n",
       " 23.5,\n",
       " 23.5,\n",
       " 23.5,\n",
       " 23.5,\n",
       " 23.5,\n",
       " 23.5,\n",
       " 23.5,\n",
       " 23.5,\n",
       " 23.5,\n",
       " 23.5,\n",
       " 23.5,\n",
       " 23.5]"
      ]
     },
     "execution_count": 22,
     "metadata": {},
     "output_type": "execute_result"
    }
   ],
   "source": [
    "values_ls"
   ]
  },
  {
   "cell_type": "markdown",
   "metadata": {
    "id": "2rS0r91ovBWF"
   },
   "source": [
    "Bây giờ chúng ta thiết lập seed, mọi giá trị trích xuất ngẫu nhiên cho quan sát đó đều giống nhau.\n",
    "\n",
    "Tuy nhiên, nếu chúng ta đặt cùng một seed cho mỗi một quan sát đơn lẻ thì chúng sẽ điền NA với cùng giá trị (cùng seed == cùng giá trị ngẫu nhiên được trích xuất). Điều này tương đương với gán giá trị bất kỳ!!!\n",
    "\n",
    "Nhưng chúng ta cũng không muốn cách xử lý  đó.\n",
    "\n",
    "Do đó, chúng ta muốn seed thay đổi từng quan sát nhưng theo cách có thể kiểm soát sao cho 2 quan sát hoàn toàn giống nhau nhận cùng các giá trị ngẫu nhiên đã gán. Tuy nhiên, 2 quan sát khác nhau lại nhận các giá trị ngẫu nhiên đã gán khác nhau. "
   ]
  },
  {
   "cell_type": "markdown",
   "metadata": {
    "id": "tCjYAeoSvBWF"
   },
   "source": [
    "### Kiểm soát yếu tố ngẫu nhiên bằng cách thay đổi seed\n",
    "\n",
    "Chúng ta có thể gán một seed khác cho mỗi quan sát và trên thực tế, chúng ta có thể làm cho seed này phụ thuộc vào biến thay thế của cùng một quan sát, do đó, trong tập dữ liệu Titanic, nếu 2 hành khách trả giá vé như nhau thì họ sẽ có cùng xác suất sống sót (khi Age bị khuyết). "
   ]
  },
  {
   "cell_type": "code",
   "execution_count": 23,
   "metadata": {
    "id": "NjKWUkImvBWF",
    "outputId": "18d501c8-4d40-4827-fe91-b36f4f32a469"
   },
   "outputs": [
    {
     "data": {
      "text/html": [
       "<div>\n",
       "<style scoped>\n",
       "    .dataframe tbody tr th:only-of-type {\n",
       "        vertical-align: middle;\n",
       "    }\n",
       "\n",
       "    .dataframe tbody tr th {\n",
       "        vertical-align: top;\n",
       "    }\n",
       "\n",
       "    .dataframe thead th {\n",
       "        text-align: right;\n",
       "    }\n",
       "</style>\n",
       "<table border=\"1\" class=\"dataframe\">\n",
       "  <thead>\n",
       "    <tr style=\"text-align: right;\">\n",
       "      <th></th>\n",
       "      <th>survived</th>\n",
       "      <th>age</th>\n",
       "      <th>fare</th>\n",
       "    </tr>\n",
       "  </thead>\n",
       "  <tbody>\n",
       "    <tr>\n",
       "      <th>15</th>\n",
       "      <td>0</td>\n",
       "      <td>NaN</td>\n",
       "      <td>25.925</td>\n",
       "    </tr>\n",
       "  </tbody>\n",
       "</table>\n",
       "</div>"
      ],
      "text/plain": [
       "    survived  age    fare\n",
       "15         0  NaN  25.925"
      ]
     },
     "execution_count": 23,
     "metadata": {},
     "output_type": "execute_result"
    }
   ],
   "source": [
    "# let's pick one observation with NA in Age chọn một quan sát với NA trong Age\n",
    "# trong trường hợp này chúng ta chọn quan sát được đánh chỉ mục 5\n",
    "\n",
    "observation = data[data.age.isnull()].head(1)\n",
    "observation"
   ]
  },
  {
   "cell_type": "code",
   "execution_count": 24,
   "metadata": {
    "id": "IsSinwJ1vBWF",
    "outputId": "4870424c-e2b2-45af-e576-fa5b4d976611"
   },
   "outputs": [
    {
     "name": "stderr",
     "output_type": "stream",
     "text": [
      "/tmp/ipykernel_5811/2403948312.py:3: FutureWarning: Calling int on a single element Series is deprecated and will raise a TypeError in the future. Use int(ser.iloc[0]) instead\n",
      "  int(observation.fare)\n"
     ]
    },
    {
     "data": {
      "text/plain": [
       "25"
      ]
     },
     "execution_count": 24,
     "metadata": {},
     "output_type": "execute_result"
    }
   ],
   "source": [
    "# seed bây giờ là Fare\n",
    "\n",
    "int(observation.fare)"
   ]
  },
  {
   "cell_type": "code",
   "execution_count": 27,
   "metadata": {
    "id": "KMJ_mOetvBWF",
    "outputId": "dfe7479f-8c4c-4897-f5db-efc09074c50c"
   },
   "outputs": [
    {
     "name": "stderr",
     "output_type": "stream",
     "text": [
      "/tmp/ipykernel_5811/279614661.py:3: FutureWarning: Calling int on a single element Series is deprecated and will raise a TypeError in the future. Use int(ser.iloc[0]) instead\n",
      "  sampled_value = X_train.age.isnull().sample(1, random_state=int(observation.fare))\n"
     ]
    },
    {
     "data": {
      "text/html": [
       "<div>\n",
       "<style scoped>\n",
       "    .dataframe tbody tr th:only-of-type {\n",
       "        vertical-align: middle;\n",
       "    }\n",
       "\n",
       "    .dataframe tbody tr th {\n",
       "        vertical-align: top;\n",
       "    }\n",
       "\n",
       "    .dataframe thead th {\n",
       "        text-align: right;\n",
       "    }\n",
       "</style>\n",
       "<table border=\"1\" class=\"dataframe\">\n",
       "  <thead>\n",
       "    <tr style=\"text-align: right;\">\n",
       "      <th></th>\n",
       "      <th>survived</th>\n",
       "      <th>age</th>\n",
       "      <th>fare</th>\n",
       "      <th>Age_random</th>\n",
       "    </tr>\n",
       "  </thead>\n",
       "  <tbody>\n",
       "    <tr>\n",
       "      <th>15</th>\n",
       "      <td>0</td>\n",
       "      <td>NaN</td>\n",
       "      <td>25.925</td>\n",
       "      <td>False</td>\n",
       "    </tr>\n",
       "  </tbody>\n",
       "</table>\n",
       "</div>"
      ],
      "text/plain": [
       "    survived  age    fare  Age_random\n",
       "15         0  NaN  25.925       False"
      ]
     },
     "execution_count": 27,
     "metadata": {},
     "output_type": "execute_result"
    }
   ],
   "source": [
    "## Yêu cầu 4: chỉ định Fare làm seed trong trích xuất mẫu ngẫu nhiên\n",
    "## VIẾT CODE Ở ĐÂY:\n",
    "sampled_value = X_train.age.isnull().sample(1, random_state=int(observation.fare))\n",
    "sampled_value.index = [15]\n",
    "\n",
    "## VIẾT CODE Ở ĐÂY:\n",
    "observation['Age_random'] = sampled_value\n",
    "observation"
   ]
  },
  {
   "cell_type": "code",
   "execution_count": 28,
   "metadata": {
    "id": "CHRYfFElvBWG",
    "outputId": "67cbd017-2a16-4b3f-ecce-455035a30d69"
   },
   "outputs": [
    {
     "data": {
      "text/html": [
       "<div>\n",
       "<style scoped>\n",
       "    .dataframe tbody tr th:only-of-type {\n",
       "        vertical-align: middle;\n",
       "    }\n",
       "\n",
       "    .dataframe tbody tr th {\n",
       "        vertical-align: top;\n",
       "    }\n",
       "\n",
       "    .dataframe thead th {\n",
       "        text-align: right;\n",
       "    }\n",
       "</style>\n",
       "<table border=\"1\" class=\"dataframe\">\n",
       "  <thead>\n",
       "    <tr style=\"text-align: right;\">\n",
       "      <th></th>\n",
       "      <th>survived</th>\n",
       "      <th>age</th>\n",
       "      <th>fare</th>\n",
       "    </tr>\n",
       "  </thead>\n",
       "  <tbody>\n",
       "    <tr>\n",
       "      <th>1305</th>\n",
       "      <td>0</td>\n",
       "      <td>NaN</td>\n",
       "      <td>14.4542</td>\n",
       "    </tr>\n",
       "  </tbody>\n",
       "</table>\n",
       "</div>"
      ],
      "text/plain": [
       "      survived  age     fare\n",
       "1305         0  NaN  14.4542"
      ]
     },
     "execution_count": 28,
     "metadata": {},
     "output_type": "execute_result"
    }
   ],
   "source": [
    "# cho một quan sát khác với Fare khác,\n",
    "# chúng ta sẽ nhận được một giá trị được trích xuất ngẫu nhiên khác\n",
    "\n",
    "observation = data[data.age.isnull()].tail(1)\n",
    "observation"
   ]
  },
  {
   "cell_type": "code",
   "execution_count": 29,
   "metadata": {
    "id": "VDWCF25wvBWG",
    "outputId": "935eab31-0005-488b-811e-fa7e6fb9b994"
   },
   "outputs": [
    {
     "name": "stderr",
     "output_type": "stream",
     "text": [
      "/tmp/ipykernel_5811/2425794763.py:2: FutureWarning: Calling int on a single element Series is deprecated and will raise a TypeError in the future. Use int(ser.iloc[0]) instead\n",
      "  int(observation.fare)\n"
     ]
    },
    {
     "data": {
      "text/plain": [
       "14"
      ]
     },
     "execution_count": 29,
     "metadata": {},
     "output_type": "execute_result"
    }
   ],
   "source": [
    "# seed mới\n",
    "int(observation.fare)"
   ]
  },
  {
   "cell_type": "code",
   "execution_count": 30,
   "metadata": {
    "id": "TF_3iDnOvBWG",
    "outputId": "70e6e65e-09f3-42af-88c8-b2bde05d45e6"
   },
   "outputs": [
    {
     "name": "stderr",
     "output_type": "stream",
     "text": [
      "/tmp/ipykernel_5811/1839306958.py:3: FutureWarning: Calling int on a single element Series is deprecated and will raise a TypeError in the future. Use int(ser.iloc[0]) instead\n",
      "  random_state=int(observation.fare))\n"
     ]
    },
    {
     "data": {
      "text/html": [
       "<div>\n",
       "<style scoped>\n",
       "    .dataframe tbody tr th:only-of-type {\n",
       "        vertical-align: middle;\n",
       "    }\n",
       "\n",
       "    .dataframe tbody tr th {\n",
       "        vertical-align: top;\n",
       "    }\n",
       "\n",
       "    .dataframe thead th {\n",
       "        text-align: right;\n",
       "    }\n",
       "</style>\n",
       "<table border=\"1\" class=\"dataframe\">\n",
       "  <thead>\n",
       "    <tr style=\"text-align: right;\">\n",
       "      <th></th>\n",
       "      <th>survived</th>\n",
       "      <th>age</th>\n",
       "      <th>fare</th>\n",
       "      <th>Age_random</th>\n",
       "    </tr>\n",
       "  </thead>\n",
       "  <tbody>\n",
       "    <tr>\n",
       "      <th>1305</th>\n",
       "      <td>0</td>\n",
       "      <td>NaN</td>\n",
       "      <td>14.4542</td>\n",
       "      <td>40.0</td>\n",
       "    </tr>\n",
       "  </tbody>\n",
       "</table>\n",
       "</div>"
      ],
      "text/plain": [
       "      survived  age     fare  Age_random\n",
       "1305         0  NaN  14.4542        40.0"
      ]
     },
     "execution_count": 30,
     "metadata": {},
     "output_type": "execute_result"
    }
   ],
   "source": [
    "# chỉ định Fare làm seed trong trích xuất mẫu ngẫu nhiên\n",
    "sampled_value = X_train.age.dropna().sample(1,\n",
    "                                            random_state=int(observation.fare))\n",
    "sampled_value.index = [1305]\n",
    "\n",
    "observation['Age_random'] = sampled_value\n",
    "observation"
   ]
  },
  {
   "cell_type": "markdown",
   "metadata": {
    "id": "gP_Q0Ss4vBWG"
   },
   "source": [
    "Đây là một cách để kiểm soát tính ngẫu nhiên. Sử dụng Fare để thiết lập random state nhằm đảm bảo 2 hành khách có Fare như nhau, Age sẽ được thay thế bằng cùng một số và do đó 2 hành khách sẽ có cùng xác suất sống sót.\n",
    "\n",
    "### Lưu ý!!\n",
    "\n",
    "Trên thực tế, chúng ta sẽ xây dựng các mô hình sử dụng hàng chục biến trở lên. Trong những trường hợp như vậy, chúng ta có thể nghĩ đến việc chọn 3-5 biến quan trọng hơn, những biến có tác động mạnh nhất đến đầu ra của mô hình học máy và kết hợp chúng để tạo random state. Do đó, những khách hàng có chung 3-5 giá trị biến chính sẽ được hệ số như nhau. "
   ]
  },
  {
   "cell_type": "markdown",
   "metadata": {
    "collapsed": true,
    "id": "RcBG0zt-vBWG"
   },
   "source": [
    "## Mẫu ngẫu nhiên cho biến hạng mục"
   ]
  },
  {
   "cell_type": "code",
   "execution_count": 32,
   "metadata": {
    "id": "iVWO_Z_IvBWH",
    "outputId": "5180a5ea-31b4-4d15-c698-a0d6243f6f9f"
   },
   "outputs": [
    {
     "data": {
      "text/plain": [
       "SalePrice      0.000000\n",
       "BsmtQual       0.025342\n",
       "FireplaceQu    0.472603\n",
       "dtype: float64"
      ]
     },
     "execution_count": 32,
     "metadata": {},
     "output_type": "execute_result"
    }
   ],
   "source": [
    "# load tập dữ liệu với một số cột để trình bày\n",
    "cols_to_use = ['BsmtQual', 'FireplaceQu', 'SalePrice']\n",
    "\n",
    "data = pd.read_csv('../dataset/houseprice.csv', usecols=cols_to_use)\n",
    "\n",
    "# kiểm tra phần trăm các giá trị bị khuyết ở từng biến\n",
    "data.isnull().mean().sort_values(ascending=True)"
   ]
  },
  {
   "cell_type": "code",
   "execution_count": 33,
   "metadata": {
    "id": "foEGZRLyvBWH",
    "outputId": "a472295f-9007-4d27-d655-76e063766b70"
   },
   "outputs": [
    {
     "data": {
      "text/plain": [
       "((1022, 3), (438, 3))"
      ]
     },
     "execution_count": 33,
     "metadata": {},
     "output_type": "execute_result"
    }
   ],
   "source": [
    "# hãy chia thành tập huấn luyện và tập kiểm tra\n",
    "\n",
    "X_train, X_test, y_train, y_test = train_test_split(data,\n",
    "                                                    data.SalePrice,\n",
    "                                                    test_size=0.3,\n",
    "                                                    random_state=0)\n",
    "X_train.shape, X_test.shape"
   ]
  },
  {
   "cell_type": "code",
   "execution_count": null,
   "metadata": {
    "id": "aCrdQ5xEvBWH"
   },
   "outputs": [],
   "source": [
    "## Yêu cầu 5: gán BsmtQual bằng mẫu ngẫu nhiên ở cả\n",
    "# tập huấn luyện và tập kiểm tra\n",
    "\n",
    "# tạo biến mới có NA được gán\n",
    "# tạo bản sao từ biến ban đầu\n",
    "## VIẾT CODE Ở ĐÂY:\n",
    "X_train['BsmtQual_imputed'] = ...\n",
    "X_test['BsmtQual_imputed'] = ...\n",
    "\n",
    "# trích xuất mẫu ngẫu nhiên để điền na:\n",
    "# chúng ta luôn làm điều này từ tập huấn luyện và sử dụng chúng\n",
    "# để điền cả tập huấn luyện và tập kiểm tra\n",
    "\n",
    "## VIẾT CODE Ở ĐÂY:\n",
    "random_sample_train = ....sample(..., random_state=0)\n",
    "\n",
    "random_sample_test = ...\n",
    "\n",
    "# các code trên thực hiện những gì?\n",
    "# 1) dropna() loại bỏ NA khỏi biến biến ban đầu, điều này\n",
    "# nghĩa là chúng ta sẽ trích xuất xuất ngẫu nhiên các giá trị hiện có và không NA\n",
    "\n",
    "# 2) sample() là phương thức để thực hiện lấy mẫu ngẫu nhiên\n",
    "\n",
    "# 3) X_train['BsmtQual'].isnull().sum() là số lượng giá trị ngẫu nhiên để trích xuất\n",
    "# chúng ta trích xuất càng nhiều giá trị khi có NA trong biến bau đầu\n",
    "\n",
    "# 4) random_state thiết lập seed cho khả năng tái lặp để có thể trích xuất \n",
    "# các giá trị ngẫu nhiên tương tự mỗi lần chạy notebook\n",
    "\n",
    "# pandas cần có cùng index để hợp nhất tập dữ liệu\n",
    "## VIẾT CODE Ở ĐÂY:\n",
    "random_sample_train.index = ...\n",
    "random_sample_test.index = ...\n",
    "\n",
    "# thay thế NA trong biến vừa mới tạo\n",
    "## VIẾT CODE Ở ĐÂY:\n",
    "X_train.loc[X_train['BsmtQual'].isnull(), 'BsmtQual_imputed'] = ...\n",
    "X_test.loc[X_test['BsmtQual'].isnull(), 'BsmtQual_imputed'] = ..."
   ]
  },
  {
   "cell_type": "code",
   "execution_count": null,
   "metadata": {
    "id": "SvVMcwQ_vBWH"
   },
   "outputs": [],
   "source": [
    "## Yêu cầu 6: gán FireplaceQu bằng mẫu ngẫu nhiên ở cả\n",
    "# tập huấn luyện và tập kiểm tra\n",
    "\n",
    "# tạo biến mới có NA được gán\n",
    "# tạo bản sao từ biến ban đầu với NA\n",
    "## VIẾT CODE Ở ĐÂY:\n",
    "X_train['FireplaceQu_imputed'] = ...\n",
    "X_test['FireplaceQu_imputed'] = ...\n",
    "\n",
    "# trích xuất mẫu ngẫu nhiên để điền na:\n",
    "# chúng ta luôn làm điều này từ tập huấn luyện và sử dụng chúng\n",
    "# để điền cả tập huấn luyện và tập kiểm tra\n",
    "\n",
    "## VIẾT CODE Ở ĐÂY:\n",
    "random_sample_train = ...(..., random_state=0)\n",
    "\n",
    "random_sample_test = ...(...random_state=0)\n",
    "\n",
    "# các code trên thực hiện những gì?\n",
    "# 1) dropna() loại bỏ NA khỏi biến biến ban đầu, điều này\n",
    "# nghĩa là chúng ta sẽ trích xuất xuất ngẫu nhiên các giá trị hiện có và không NA\n",
    "\n",
    "# 2) sample() là phương thức để thực hiện lấy mẫu ngẫu nhiên\n",
    "\n",
    "# 3) X_train['FireplaceQu'].isnull().sum() là số lượng giá trị ngẫu nhiên để trích xuất\n",
    "# chúng ta trích xuất càng nhiều giá trị khi có NA trong biến bau đầu\n",
    "\n",
    "# 4) random_state thiết lập seed cho khả năng tái lặp để có thể trích xuất \n",
    "# các giá trị ngẫu nhiên tương tự mỗi lần chạy notebook\n",
    "\n",
    "# pandas cần có cùng index để hợp nhất tập dữ liệu\n",
    "## VIẾT CODE Ở ĐÂY:\n",
    "random_sample_train.index = ...\n",
    "random_sample_test.index = ...\n",
    "\n",
    "# thay thế NA trong biến vừa mới tạo\n",
    "## VIẾT CODE Ở ĐÂY:\n",
    "X_train.loc[X_train['FireplaceQu'].isnull(), 'FireplaceQu_imputed'] = ...\n",
    "X_test.loc[X_test['FireplaceQu'].isnull(), 'FireplaceQu_imputed'] = ..."
   ]
  },
  {
   "cell_type": "code",
   "execution_count": null,
   "metadata": {
    "id": "uWDoVldJvBWI",
    "outputId": "68b66824-cad3-4510-a581-2c0dc91cc363"
   },
   "outputs": [
    {
     "data": {
      "text/plain": [
       "0"
      ]
     },
     "execution_count": 30,
     "metadata": {
      "tags": []
     },
     "output_type": "execute_result"
    }
   ],
   "source": [
    "# kiểm tra các null vừa bị loại vỏ\n",
    "X_train['FireplaceQu_imputed'].isnull().sum()"
   ]
  },
  {
   "cell_type": "code",
   "execution_count": null,
   "metadata": {
    "id": "QXN65nupvBWI"
   },
   "outputs": [],
   "source": [
    "## Yêu cầu 7: đánh giá tác động của gán với phân phối\n",
    "# của các hạng mục và mục tiêu trong các hạng mục đó\n",
    "\n",
    "# sử dụng một hàm tương tự trong notebook về gán giá trị bất kỳ\n",
    "# cho các biến hạng mục\n",
    "\n",
    "def categorical_distribution(df, variable_original, variable_imputed):\n",
    "\n",
    "    tmp = pd.concat(\n",
    "        [\n",
    "            # % quan sát trên mỗi hạng mục, biến ban đầu\n",
    "            ## VIẾT CODE Ở ĐÂY:\n",
    "            df[...].value_counts() / len(df[variable_original].dropna()),\n",
    "\n",
    "            # % quan sát trên mỗi hạng mục, biến đã gán\n",
    "            ## VIẾT CODE Ở ĐÂY:\n",
    "            df[...].value_counts() / len(df)\n",
    "        ],\n",
    "        axis=1)\n",
    "\n",
    "    # them tên cột\n",
    "    tmp.columns = ['original', 'imputed']\n",
    "\n",
    "    return tmp"
   ]
  },
  {
   "cell_type": "code",
   "execution_count": null,
   "metadata": {
    "id": "veDu-t3YvBWI",
    "outputId": "b424666a-53a4-4b51-e666-8b85b4579d84"
   },
   "outputs": [
    {
     "data": {
      "text/html": [
       "<div>\n",
       "<style scoped>\n",
       "    .dataframe tbody tr th:only-of-type {\n",
       "        vertical-align: middle;\n",
       "    }\n",
       "\n",
       "    .dataframe tbody tr th {\n",
       "        vertical-align: top;\n",
       "    }\n",
       "\n",
       "    .dataframe thead th {\n",
       "        text-align: right;\n",
       "    }\n",
       "</style>\n",
       "<table border=\"1\" class=\"dataframe\">\n",
       "  <thead>\n",
       "    <tr style=\"text-align: right;\">\n",
       "      <th></th>\n",
       "      <th>original</th>\n",
       "      <th>imputed</th>\n",
       "    </tr>\n",
       "  </thead>\n",
       "  <tbody>\n",
       "    <tr>\n",
       "      <th>TA</th>\n",
       "      <td>0.463928</td>\n",
       "      <td>0.465753</td>\n",
       "    </tr>\n",
       "    <tr>\n",
       "      <th>Gd</th>\n",
       "      <td>0.430862</td>\n",
       "      <td>0.428571</td>\n",
       "    </tr>\n",
       "    <tr>\n",
       "      <th>Ex</th>\n",
       "      <td>0.082164</td>\n",
       "      <td>0.083170</td>\n",
       "    </tr>\n",
       "    <tr>\n",
       "      <th>Fa</th>\n",
       "      <td>0.023046</td>\n",
       "      <td>0.022505</td>\n",
       "    </tr>\n",
       "  </tbody>\n",
       "</table>\n",
       "</div>"
      ],
      "text/plain": [
       "    original   imputed\n",
       "TA  0.463928  0.465753\n",
       "Gd  0.430862  0.428571\n",
       "Ex  0.082164  0.083170\n",
       "Fa  0.023046  0.022505"
      ]
     },
     "execution_count": 32,
     "metadata": {
      "tags": []
     },
     "output_type": "execute_result"
    }
   ],
   "source": [
    "# chạy hàm trong biến hạng mục\n",
    "categorical_distribution(X_train, 'BsmtQual', 'BsmtQual_imputed')"
   ]
  },
  {
   "cell_type": "code",
   "execution_count": null,
   "metadata": {
    "id": "oqQIW5N7vBWI",
    "outputId": "7225a86e-790f-4aff-b695-253543ef5a0d"
   },
   "outputs": [
    {
     "data": {
      "text/html": [
       "<div>\n",
       "<style scoped>\n",
       "    .dataframe tbody tr th:only-of-type {\n",
       "        vertical-align: middle;\n",
       "    }\n",
       "\n",
       "    .dataframe tbody tr th {\n",
       "        vertical-align: top;\n",
       "    }\n",
       "\n",
       "    .dataframe thead th {\n",
       "        text-align: right;\n",
       "    }\n",
       "</style>\n",
       "<table border=\"1\" class=\"dataframe\">\n",
       "  <thead>\n",
       "    <tr style=\"text-align: right;\">\n",
       "      <th></th>\n",
       "      <th>original</th>\n",
       "      <th>imputed</th>\n",
       "    </tr>\n",
       "  </thead>\n",
       "  <tbody>\n",
       "    <tr>\n",
       "      <th>Gd</th>\n",
       "      <td>0.468750</td>\n",
       "      <td>0.469667</td>\n",
       "    </tr>\n",
       "    <tr>\n",
       "      <th>TA</th>\n",
       "      <td>0.420956</td>\n",
       "      <td>0.420744</td>\n",
       "    </tr>\n",
       "    <tr>\n",
       "      <th>Fa</th>\n",
       "      <td>0.047794</td>\n",
       "      <td>0.046967</td>\n",
       "    </tr>\n",
       "    <tr>\n",
       "      <th>Ex</th>\n",
       "      <td>0.033088</td>\n",
       "      <td>0.032290</td>\n",
       "    </tr>\n",
       "    <tr>\n",
       "      <th>Po</th>\n",
       "      <td>0.029412</td>\n",
       "      <td>0.030333</td>\n",
       "    </tr>\n",
       "  </tbody>\n",
       "</table>\n",
       "</div>"
      ],
      "text/plain": [
       "    original   imputed\n",
       "Gd  0.468750  0.469667\n",
       "TA  0.420956  0.420744\n",
       "Fa  0.047794  0.046967\n",
       "Ex  0.033088  0.032290\n",
       "Po  0.029412  0.030333"
      ]
     },
     "execution_count": 33,
     "metadata": {
      "tags": []
     },
     "output_type": "execute_result"
    }
   ],
   "source": [
    "# chạy hàm trong biến hạng mục\n",
    "categorical_distribution(X_train, 'FireplaceQu', 'FireplaceQu_imputed')"
   ]
  },
  {
   "cell_type": "markdown",
   "metadata": {
    "id": "uRtxT7qhvBWJ"
   },
   "source": [
    "Như dự đoán, tỷ lệ phần trăm quan sát trong mỗi hạng mục ở biến ban đầu và biến đã gán rất giống nhau cho cả BsmtQual có NA thấp và FireplaceQu có NA cao."
   ]
  },
  {
   "cell_type": "code",
   "execution_count": null,
   "metadata": {
    "id": "B3FbmpGqvBWJ"
   },
   "outputs": [],
   "source": [
    "# xem phân phối của mục tiêu trong từng\n",
    "# hạng mục biến\n",
    "\n",
    "def automate_plot(df, variable, target):\n",
    "    \n",
    "    fig = plt.figure()\n",
    "    ax = fig.add_subplot(111)\n",
    "    \n",
    "    for category in df[variable].dropna().unique():\n",
    "        df[df[variable]==category][target].plot(kind='kde', ax=ax)\n",
    "    \n",
    "    # thêm legend\n",
    "    lines, labels = ax.get_legend_handles_labels()\n",
    "    labels = df[variable].dropna().unique()\n",
    "    ax.legend(lines, labels, loc='best')\n",
    "    \n",
    "    plt.show()"
   ]
  },
  {
   "cell_type": "code",
   "execution_count": null,
   "metadata": {
    "id": "PMtoKhI9vBWJ",
    "outputId": "694fb484-73d2-478b-ee09-cd4ece3f376d"
   },
   "outputs": [
    {
     "data": {
      "image/png": "[encoded data removed]",
      "text/plain": [
       "<Figure size 432x288 with 1 Axes>"
      ]
     },
     "metadata": {
      "needs_background": "light",
      "tags": []
     },
     "output_type": "display_data"
    }
   ],
   "source": [
    "automate_plot(X_train, 'BsmtQual', 'SalePrice')"
   ]
  },
  {
   "cell_type": "code",
   "execution_count": null,
   "metadata": {
    "id": "g274lP6SvBWJ",
    "outputId": "f6244f96-7421-4362-e33f-df18cfa264b1"
   },
   "outputs": [
    {
     "data": {
      "image/png": "[encoded data removed]",
      "text/plain": [
       "<Figure size 432x288 with 1 Axes>"
      ]
     },
     "metadata": {
      "needs_background": "light",
      "tags": []
     },
     "output_type": "display_data"
    }
   ],
   "source": [
    "automate_plot(X_train, 'BsmtQual_imputed', 'SalePrice')"
   ]
  },
  {
   "cell_type": "code",
   "execution_count": null,
   "metadata": {
    "id": "Ni5rJKKwvBWJ",
    "outputId": "d7c42f82-970f-497a-9e08-e9b9be64a2e3"
   },
   "outputs": [
    {
     "data": {
      "image/png": "[encoded data removed]",
      "text/plain": [
       "<Figure size 432x288 with 1 Axes>"
      ]
     },
     "metadata": {
      "needs_background": "light",
      "tags": []
     },
     "output_type": "display_data"
    }
   ],
   "source": [
    "automate_plot(X_train, 'FireplaceQu', 'SalePrice')"
   ]
  },
  {
   "cell_type": "code",
   "execution_count": null,
   "metadata": {
    "id": "r65JHZVXvBWJ",
    "outputId": "b3407358-2840-469f-be4d-f9659c1cc871"
   },
   "outputs": [
    {
     "data": {
      "image/png": "[encoded data removed]",
      "text/plain": [
       "<Figure size 432x288 with 1 Axes>"
      ]
     },
     "metadata": {
      "needs_background": "light",
      "tags": []
     },
     "output_type": "display_data"
    }
   ],
   "source": [
    "automate_plot(X_train, 'FireplaceQu_imputed', 'SalePrice')"
   ]
  },
  {
   "cell_type": "markdown",
   "metadata": {
    "id": "SW37A6G-vBWK"
   },
   "source": [
    "Với BsmtQual có NA thấp, phân phối mục tiêu được giữ nguyên cho các hạng mục trong biến ban đầu và biến đã gán. Còn với FireplaceQu có nhiều NA hơn thì phân phối mục tiêu cho mỗi hạng mục bị ảnh hưởng một chút.\n",
    "\n",
    "## Lưu ý về code gán mẫu ngẫu nhiên\n",
    "\n",
    "Code để lấy mẫu ngẫu nhiên trong notebook này có hơi phức tạp nhưng đừng lo lắng, chúng ta có thể thực hiện gán mẫu ngẫu nhiên chỉ với một vài dòng bằng gói Feature Engine, sẽ đề cập chi tiết hơn trong notebok sắp tới.\n"
   ]
  },
  {
   "cell_type": "code",
   "execution_count": null,
   "metadata": {
    "id": "LKGltpowvBWK"
   },
   "outputs": [],
   "source": []
  }
 ],
 "metadata": {
  "colab": {
   "collapsed_sections": [
    "gP_Q0Ss4vBWG"
   ],
   "name": "8.7 Gán mẫu ngẫu nhiên.ipynb",
   "provenance": []
  },
  "kernelspec": {
   "display_name": "Python 3 (ipykernel)",
   "language": "python",
   "name": "python3"
  },
  "language_info": {
   "codemirror_mode": {
    "name": "ipython",
    "version": 3
   },
   "file_extension": ".py",
   "mimetype": "text/x-python",
   "name": "python",
   "nbconvert_exporter": "python",
   "pygments_lexer": "ipython3",
   "version": "3.11.4"
  },
  "toc": {
   "base_numbering": 1,
   "nav_menu": {},
   "number_sections": true,
   "sideBar": true,
   "skip_h1_title": false,
   "title_cell": "Table of Contents",
   "title_sidebar": "Contents",
   "toc_cell": false,
   "toc_position": {},
   "toc_section_display": "block",
   "toc_window_display": true
  }
 },
 "nbformat": 4,
 "nbformat_minor": 1
}
