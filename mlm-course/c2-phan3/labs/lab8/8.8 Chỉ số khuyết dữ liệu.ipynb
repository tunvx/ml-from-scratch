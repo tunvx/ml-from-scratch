{
 "cells": [
  {
   "cell_type": "markdown",
   "metadata": {
    "id": "ILNbSD5drGAk"
   },
   "source": [
    "## Thêm một biến để nắm bắt NA\n",
    "\n",
    "Trong các notebook trước, chúng ta đã học cách thay thế các giá trị bị khuyết bằng mean, median hoặc trích xuất một giá trị ngẫu nhiên. Nói cách khác, chúng ta đã học về gán mean/median và gán mẫu ngẫu nhiên. Các phương pháp này giả định rằng dữ liệu bị khuyết hoàn toàn ngẫu nhiên (MCAR).\n",
    "\n",
    "Có thể sử dụng các phương pháp khác khi các giá trị không bị khuyết ngẫu nhiên, ví dụ: gán giá trị bất kỳ hoặc gán giá trị ở cuối phân phối. Tuy nhiên, các kỹ thuật gán này sẽ ảnh hưởng đáng kể đến phân phối của biến, do đó không phù hợp với các mô hình tuyến tính.\n",
    "\n",
    "**Chúng ta có thể làm gì nếu dữ liệu không khuyết hoàn toàn ngẫu nhiên mà cần sử dụng mô hình tuyến tính?**\n",
    "\n",
    "Nếu dữ liệu không bị khuyết ngẫu nhiên, chúng ta có thể thay thế các quan sát bị khuyết bằng mean/median/mode VÀ **gắn cờ** các quan sát bị khuyết đó với một **chỉ số khuyết dữ liệu**. Chỉ số khuyết dữ liệu là một biến nhị phân bổ sung cho biết dữ liệu có bị khuyết cho một quan sát (1) hay không (0).\n",
    "\n",
    "\n",
    "### Những biến nào có thể thêm chỉ số khuyết dữ liệu?\n",
    "\n",
    "Chúng ta có thể thêm chỉ số khuyết dữ liệu cho cả biến dạng số và biến hạng mục.\n",
    "\n",
    "#### Lưu ý\n",
    "\n",
    "Việc thêm chỉ số khuyết dữ liệu không bao giờ được sử dụng độc lập mà luôn được sử dụng cùng với một kỹ thuật gán khác, có thể là gán mean/median cho các biến dạng số hoặc gán hạng mục thường xuất hiện cho các biến hạng mục. Chúng ta cũng có thể sử dụng gán mẫu ngẫu nhiên cùng với thêm chỉ số khuyết dữ liệu cho cả biến hạng mục và biến dạng số.\n",
    "\n",
    "Cặp kết hợp sử dụng:\n",
    "\n",
    "- Gán mean/median + chỉ số khuyết dữ liệu (biến dạng số)\n",
    "- Gán hạng mục thường xuất hiện + chỉ số khuyết dữ liệu (biến hạng mục)\n",
    "- Gán mẫu ngẫu nhiên + chỉ số khuyết dữ liệu (biến hạng mục và biến dạng số)\n",
    "\n",
    "### Giả định\n",
    ".\n",
    "- Dữ liệu bị khuyết có tính dự đoán.\n",
    "\n",
    "### Ưu điểm\n",
    "\n",
    "- Dễ thực hiện.\n",
    "- Nắm bắt được tầm quan trọng của \"khuyết\" nếu có.\n",
    "\n",
    "### Hạn chế\n",
    "\n",
    "- Mở rộng không gian đặc trưng.\n",
    "- Biến ban đầu vẫn cần được gán để loại bỏ NaN.\n",
    "\n",
    "Việc thêm chỉ số khuyết dữ liệu sẽ làm tăng 1 biến cho mỗi biến trong tập dữ liệu có các giá trị bị khuyết. Vì vậy, nếu tập dữ liệu chứa 10 đặc trưng và tất cả đều có giá trị bị khuyết thì sau khi thêm chỉ số khuyết dữ liệu, chúng ta sẽ có tập dữ liệu với 20 đặc trưng: 10 đặc trưng ban đầu cộng với 10 đặc trưng nhị phân bổ sung, cho biết mỗi biến ban đầu liệu giá trị bị khuyết hay không. Đây có thể không phải là vấn đề với tập dữ liệu có vài chục đến vài trăm biến, nhưng nếu tập dữ liệu ban đầu chứa hàng nghìn biến thì việc tạo một biến bổ sung để chỉ ra NA, chúng ta sẽ có các tập dữ liệu rất lớn.\n",
    "\n",
    "#### Quan trọng\n",
    "\n",
    "Ngoài ra, dữ liệu có xu hướng bị khuyết trong cùng một quan sát trên nhiều biến, điều này thường dẫn đến nhiều biến chỉ số khuyết dữ liệu thực sự tương tự hoặc giống hệt nhau.\n",
    "\n",
    "### Lưu ý cuối cùng\n",
    "\n",
    "Gán mean/median/mode thường được thực hiện cùng với việc thêm một biến để nắm bắt các quan sát có dữ liệu bị khuyết, dưới 2 góc độ: nếu dữ liệu bị khuyết hoàn toàn ngẫu nhiên, điều này sẽ được dự tính bởi gán mean/median/mode, còn nếu không, nó sẽ được ghi lại bởi chỉ số khuyết dữ liệu.\n",
    "\n",
    "\n",
    "Cả hai phương pháp đều rất dễ triển khai và nên đây là lựa chọn hàng đầu trong các cuộc thi khoa học dữ liệu. Xem ví dụ về giải pháp giành chiến thắng trong KDD 2009 Cup: [\"Winning the KDD Cup Orange Challenge with Ensemble Selection](http://www.mtome.com/Publications/CiML/CiML-v3-book.pdf).\n",
    "\n",
    "\n",
    "## Trong bản mô phỏng này:\n",
    "\n",
    "Chúng ta sẽ sử dụng tập dữ liệu Titanic và giá nhà ở Ames.\n"
   ]
  },
  {
   "cell_type": "code",
   "execution_count": null,
   "metadata": {
    "id": "5Qg-dab7rGAu"
   },
   "outputs": [],
   "source": [
    "import pandas as pd\n",
    "import numpy as np\n",
    "\n",
    "import matplotlib.pyplot as plt\n",
    "\n",
    "# chia các tập dữ liệu\n",
    "from sklearn.model_selection import train_test_split"
   ]
  },
  {
   "cell_type": "code",
   "execution_count": null,
   "metadata": {
    "id": "HQDanSIdrGAy",
    "outputId": "94462a05-b7a3-434e-fa7c-602dc16bb403"
   },
   "outputs": [
    {
     "data": {
      "text/html": [
       "<div>\n",
       "<style scoped>\n",
       "    .dataframe tbody tr th:only-of-type {\n",
       "        vertical-align: middle;\n",
       "    }\n",
       "\n",
       "    .dataframe tbody tr th {\n",
       "        vertical-align: top;\n",
       "    }\n",
       "\n",
       "    .dataframe thead th {\n",
       "        text-align: right;\n",
       "    }\n",
       "</style>\n",
       "<table border=\"1\" class=\"dataframe\">\n",
       "  <thead>\n",
       "    <tr style=\"text-align: right;\">\n",
       "      <th></th>\n",
       "      <th>survived</th>\n",
       "      <th>age</th>\n",
       "      <th>fare</th>\n",
       "    </tr>\n",
       "  </thead>\n",
       "  <tbody>\n",
       "    <tr>\n",
       "      <th>0</th>\n",
       "      <td>1</td>\n",
       "      <td>29.0000</td>\n",
       "      <td>211.3375</td>\n",
       "    </tr>\n",
       "    <tr>\n",
       "      <th>1</th>\n",
       "      <td>1</td>\n",
       "      <td>0.9167</td>\n",
       "      <td>151.5500</td>\n",
       "    </tr>\n",
       "    <tr>\n",
       "      <th>2</th>\n",
       "      <td>0</td>\n",
       "      <td>2.0000</td>\n",
       "      <td>151.5500</td>\n",
       "    </tr>\n",
       "    <tr>\n",
       "      <th>3</th>\n",
       "      <td>0</td>\n",
       "      <td>30.0000</td>\n",
       "      <td>151.5500</td>\n",
       "    </tr>\n",
       "    <tr>\n",
       "      <th>4</th>\n",
       "      <td>0</td>\n",
       "      <td>25.0000</td>\n",
       "      <td>151.5500</td>\n",
       "    </tr>\n",
       "  </tbody>\n",
       "</table>\n",
       "</div>"
      ],
      "text/plain": [
       "   survived      age      fare\n",
       "0         1  29.0000  211.3375\n",
       "1         1   0.9167  151.5500\n",
       "2         0   2.0000  151.5500\n",
       "3         0  30.0000  151.5500\n",
       "4         0  25.0000  151.5500"
      ]
     },
     "execution_count": 2,
     "metadata": {
      "tags": []
     },
     "output_type": "execute_result"
    }
   ],
   "source": [
    "# load tập dữ liệu Titanic với một số biến để biểu diễn\n",
    "\n",
    "data = pd.read_csv('../titanic.csv', usecols=['age', 'fare', 'survived'])\n",
    "data.head()"
   ]
  },
  {
   "cell_type": "code",
   "execution_count": null,
   "metadata": {
    "id": "4loqaXedrGA2",
    "outputId": "efee0d8c-deb6-4e5f-8068-6cba73489caa"
   },
   "outputs": [
    {
     "data": {
      "text/plain": [
       "survived    0.000000\n",
       "age         0.200917\n",
       "fare        0.000764\n",
       "dtype: float64"
      ]
     },
     "execution_count": 3,
     "metadata": {
      "tags": []
     },
     "output_type": "execute_result"
    }
   ],
   "source": [
    "# xem phần trăm NA\n",
    "\n",
    "data.isnull().mean()"
   ]
  },
  {
   "cell_type": "markdown",
   "metadata": {
    "id": "Ul-FabhjrGA4"
   },
   "source": [
    "Chúng ta không nhất thiết phải học bất cứ thứ gì từ tập huấn luyện để thêm một chỉ số khuyết dữ liệu nhị phân, vì vậy về nguyên tắc, chúng ta có thể thực hiện điều này trong tập dữ liệu ban đầu, sau đó tách thành tập huấn luyện và tập kiểm tra. Tuy nhiên, tôi không khuyến khích cách thực hiện này. Ngoài ra, nếu sử dụng scikit-learn để thêm chỉ số khuyết dữ liệu, cần tìm hiểu gán các đặc trưng nào từ tập huấn luyện: là các đặc trưng mà biến nhị phân cần được thêm. Chúng ta sẽ xem thêm về các cách triển khai khác của chỉ số khuyết dữ liệu trong notebook khác. Bây giờ, hãy xem cách tạo chỉ số khuyết dữ liệu nhị phân theo cách thủ công."
   ]
  },
  {
   "cell_type": "code",
   "execution_count": null,
   "metadata": {
    "id": "6zwb8S8orGA6",
    "outputId": "6623545e-3453-4902-f24f-0844407cbce8"
   },
   "outputs": [
    {
     "data": {
      "text/plain": [
       "((916, 2), (393, 2))"
      ]
     },
     "execution_count": 4,
     "metadata": {
      "tags": []
     },
     "output_type": "execute_result"
    }
   ],
   "source": [
    "# hãy chia thành tập huấn luyện và tập kiểm tra\n",
    "\n",
    "X_train, X_test, y_train, y_test = train_test_split(\n",
    "    data[['age', 'fare']],  # các yếu tố dự báo\n",
    "    data['survived'],  # mục tiêu\n",
    "    test_size=0.3,  # % các quan sát trong tập kiểm tra\n",
    "    random_state=0)  # seed đảm bảo khả năng tái lặp\n",
    "\n",
    "X_train.shape, X_test.shape"
   ]
  },
  {
   "cell_type": "code",
   "execution_count": null,
   "metadata": {
    "id": "J5pCT7KwrGA8",
    "outputId": "f01df1c9-27fb-483a-adc9-a1d145e8a8f3"
   },
   "outputs": [
    {
     "data": {
      "text/plain": [
       "age     0.191048\n",
       "fare    0.000000\n",
       "dtype: float64"
      ]
     },
     "execution_count": 5,
     "metadata": {
      "tags": []
     },
     "output_type": "execute_result"
    }
   ],
   "source": [
    "# khám phá dữ liệu bị khuyết trong tập huấn luyện\n",
    "# % sẽ khá giống với %\n",
    "# của toàn bộ tập dữ liệu\n",
    "\n",
    "X_train.isnull().mean()"
   ]
  },
  {
   "cell_type": "code",
   "execution_count": null,
   "metadata": {
    "id": "tG9lmjhqrGA_",
    "outputId": "8a624aa6-61fe-4f7b-c5f7-06f95a994aaa"
   },
   "outputs": [
    {
     "data": {
      "text/html": [
       "<div>\n",
       "<style scoped>\n",
       "    .dataframe tbody tr th:only-of-type {\n",
       "        vertical-align: middle;\n",
       "    }\n",
       "\n",
       "    .dataframe tbody tr th {\n",
       "        vertical-align: top;\n",
       "    }\n",
       "\n",
       "    .dataframe thead th {\n",
       "        text-align: right;\n",
       "    }\n",
       "</style>\n",
       "<table border=\"1\" class=\"dataframe\">\n",
       "  <thead>\n",
       "    <tr style=\"text-align: right;\">\n",
       "      <th></th>\n",
       "      <th>age</th>\n",
       "      <th>fare</th>\n",
       "      <th>Age_NA</th>\n",
       "    </tr>\n",
       "  </thead>\n",
       "  <tbody>\n",
       "    <tr>\n",
       "      <th>501</th>\n",
       "      <td>13.0</td>\n",
       "      <td>19.5000</td>\n",
       "      <td>0</td>\n",
       "    </tr>\n",
       "    <tr>\n",
       "      <th>588</th>\n",
       "      <td>4.0</td>\n",
       "      <td>23.0000</td>\n",
       "      <td>0</td>\n",
       "    </tr>\n",
       "    <tr>\n",
       "      <th>402</th>\n",
       "      <td>30.0</td>\n",
       "      <td>13.8583</td>\n",
       "      <td>0</td>\n",
       "    </tr>\n",
       "    <tr>\n",
       "      <th>1193</th>\n",
       "      <td>NaN</td>\n",
       "      <td>7.7250</td>\n",
       "      <td>1</td>\n",
       "    </tr>\n",
       "    <tr>\n",
       "      <th>686</th>\n",
       "      <td>22.0</td>\n",
       "      <td>7.7250</td>\n",
       "      <td>0</td>\n",
       "    </tr>\n",
       "  </tbody>\n",
       "</table>\n",
       "</div>"
      ],
      "text/plain": [
       "       age     fare  Age_NA\n",
       "501   13.0  19.5000       0\n",
       "588    4.0  23.0000       0\n",
       "402   30.0  13.8583       0\n",
       "1193   NaN   7.7250       1\n",
       "686   22.0   7.7250       0"
      ]
     },
     "execution_count": 6,
     "metadata": {
      "tags": []
     },
     "output_type": "execute_result"
    }
   ],
   "source": [
    "## Yêu cầu 1: thêm chỉ số khuyết dữ liệu\n",
    "\n",
    "# thực hiện đơn giản bằng np.where từ numpy\n",
    "# và isnull từ pandas:\n",
    "\n",
    "## VIẾT CODE Ở ĐÂY:\n",
    "X_train['Age_NA'] = np.where(..., 1, 0)\n",
    "X_test['Age_NA'] = np.where(..., 1, 0)\n",
    "\n",
    "X_train.head()"
   ]
  },
  {
   "cell_type": "markdown",
   "metadata": {
    "id": "LVOKank8T8ui"
   },
   "source": [
    "<details><summary> Gợi ý </summary>\n",
    "\n",
    "[where()](https://numpy.org/doc/stable/reference/generated/numpy.where.html)\n",
    "\n",
    "</details>"
   ]
  },
  {
   "cell_type": "code",
   "execution_count": null,
   "metadata": {
    "id": "cWnG_617rGBC",
    "outputId": "c9af8da1-f497-4808-c94e-6636cd861d95"
   },
   "outputs": [
    {
     "data": {
      "text/plain": [
       "0.19104803493449782"
      ]
     },
     "execution_count": 7,
     "metadata": {
      "tags": []
     },
     "output_type": "execute_result"
    }
   ],
   "source": [
    "# mean của biến nhị phân trùng với\n",
    "# phần trăm các giá trị bị khuyết trong biến ban đầu\n",
    "\n",
    "X_train['Age_NA'].mean()"
   ]
  },
  {
   "cell_type": "code",
   "execution_count": null,
   "metadata": {
    "id": "wpFQ7oSkrGBF",
    "outputId": "9cd88429-e1d3-497f-eaeb-c73563ca2769"
   },
   "outputs": [
    {
     "data": {
      "text/plain": [
       "age       0.191048\n",
       "fare      0.000000\n",
       "Age_NA    0.000000\n",
       "dtype: float64"
      ]
     },
     "execution_count": 8,
     "metadata": {
      "tags": []
     },
     "output_type": "execute_result"
    }
   ],
   "source": [
    "# biến ban đầu vẫn hiển thị giá trị bị khuyết\n",
    "# cần được thay bằng bất kỳ kỹ thuật nào\n",
    "# chúng ta đã học\n",
    "\n",
    "X_train.isnull().mean()"
   ]
  },
  {
   "cell_type": "code",
   "execution_count": null,
   "metadata": {
    "id": "xkvyjSWCrGBH",
    "outputId": "fc266402-a89b-441b-edc2-f5cb01ebd2d8"
   },
   "outputs": [
    {
     "data": {
      "text/plain": [
       "age       0.0\n",
       "fare      0.0\n",
       "Age_NA    0.0\n",
       "dtype: float64"
      ]
     },
     "execution_count": 9,
     "metadata": {
      "tags": []
     },
     "output_type": "execute_result"
    }
   ],
   "source": [
    "## Yêu cầu 2: ví dụ về gán median\n",
    "\n",
    "## VIẾT CODE Ở ĐÂY:\n",
    "median = X_train['age']....\n",
    "\n",
    "## VIẾT CODE Ở ĐÂY:\n",
    "X_train['age'] = X_train['age'].fillna(...)\n",
    "X_test['age'] = X_test['age']....\n",
    "\n",
    "# kiểm tra xem còn giá trị bị khuyết nào không\n",
    "X_train.isnull().mean()"
   ]
  },
  {
   "cell_type": "markdown",
   "metadata": {
    "id": "aSGt7HUJrGBJ"
   },
   "source": [
    "### Tập dữ liệu giá nhà"
   ]
  },
  {
   "cell_type": "code",
   "execution_count": null,
   "metadata": {
    "id": "_cMXKRANrGBK"
   },
   "outputs": [],
   "source": [
    "# chúng ta sẽ sử dụng các biến sau\n",
    "# một số là biến hạng mục, một số là biến dạng số\n",
    "\n",
    "cols_to_use = [\n",
    "    'LotFrontage', 'MasVnrArea', # biến số\n",
    "    'BsmtQual', 'FireplaceQu', # biến hạng mục\n",
    "    'SalePrice' # target\n",
    "]"
   ]
  },
  {
   "cell_type": "code",
   "execution_count": null,
   "metadata": {
    "id": "XOp-TGrerGBL",
    "outputId": "8b7bbb1c-731a-43e6-ed35-ad7ff108866e"
   },
   "outputs": [
    {
     "name": "stdout",
     "output_type": "stream",
     "text": [
      "(1460, 5)\n"
     ]
    },
    {
     "data": {
      "text/html": [
       "<div>\n",
       "<style scoped>\n",
       "    .dataframe tbody tr th:only-of-type {\n",
       "        vertical-align: middle;\n",
       "    }\n",
       "\n",
       "    .dataframe tbody tr th {\n",
       "        vertical-align: top;\n",
       "    }\n",
       "\n",
       "    .dataframe thead th {\n",
       "        text-align: right;\n",
       "    }\n",
       "</style>\n",
       "<table border=\"1\" class=\"dataframe\">\n",
       "  <thead>\n",
       "    <tr style=\"text-align: right;\">\n",
       "      <th></th>\n",
       "      <th>LotFrontage</th>\n",
       "      <th>MasVnrArea</th>\n",
       "      <th>BsmtQual</th>\n",
       "      <th>FireplaceQu</th>\n",
       "      <th>SalePrice</th>\n",
       "    </tr>\n",
       "  </thead>\n",
       "  <tbody>\n",
       "    <tr>\n",
       "      <th>0</th>\n",
       "      <td>65.0</td>\n",
       "      <td>196.0</td>\n",
       "      <td>Gd</td>\n",
       "      <td>NaN</td>\n",
       "      <td>208500</td>\n",
       "    </tr>\n",
       "    <tr>\n",
       "      <th>1</th>\n",
       "      <td>80.0</td>\n",
       "      <td>0.0</td>\n",
       "      <td>Gd</td>\n",
       "      <td>TA</td>\n",
       "      <td>181500</td>\n",
       "    </tr>\n",
       "    <tr>\n",
       "      <th>2</th>\n",
       "      <td>68.0</td>\n",
       "      <td>162.0</td>\n",
       "      <td>Gd</td>\n",
       "      <td>TA</td>\n",
       "      <td>223500</td>\n",
       "    </tr>\n",
       "    <tr>\n",
       "      <th>3</th>\n",
       "      <td>60.0</td>\n",
       "      <td>0.0</td>\n",
       "      <td>TA</td>\n",
       "      <td>Gd</td>\n",
       "      <td>140000</td>\n",
       "    </tr>\n",
       "    <tr>\n",
       "      <th>4</th>\n",
       "      <td>84.0</td>\n",
       "      <td>350.0</td>\n",
       "      <td>Gd</td>\n",
       "      <td>TA</td>\n",
       "      <td>250000</td>\n",
       "    </tr>\n",
       "  </tbody>\n",
       "</table>\n",
       "</div>"
      ],
      "text/plain": [
       "   LotFrontage  MasVnrArea BsmtQual FireplaceQu  SalePrice\n",
       "0         65.0       196.0       Gd         NaN     208500\n",
       "1         80.0         0.0       Gd          TA     181500\n",
       "2         68.0       162.0       Gd          TA     223500\n",
       "3         60.0         0.0       TA          Gd     140000\n",
       "4         84.0       350.0       Gd          TA     250000"
      ]
     },
     "execution_count": 11,
     "metadata": {
      "tags": []
     },
     "output_type": "execute_result"
    }
   ],
   "source": [
    "# load tập dữ liệu houseprice\n",
    "\n",
    "data = pd.read_csv('../houseprice.csv', usecols=cols_to_use)\n",
    "print(data.shape)\n",
    "data.head()"
   ]
  },
  {
   "cell_type": "code",
   "execution_count": null,
   "metadata": {
    "id": "phmAY95-rGBO",
    "outputId": "5ffd3e79-02c3-40a6-a0cb-3e20cdf03b52",
    "scrolled": false
   },
   "outputs": [
    {
     "data": {
      "text/plain": [
       "LotFrontage    0.177397\n",
       "MasVnrArea     0.005479\n",
       "BsmtQual       0.025342\n",
       "FireplaceQu    0.472603\n",
       "SalePrice      0.000000\n",
       "dtype: float64"
      ]
     },
     "execution_count": 12,
     "metadata": {
      "tags": []
     },
     "output_type": "execute_result"
    }
   ],
   "source": [
    "# kiểm tra các biến có giá trị khuyết\n",
    "\n",
    "data.isnull().mean()"
   ]
  },
  {
   "cell_type": "code",
   "execution_count": null,
   "metadata": {
    "id": "CzI9qvjCrGBP",
    "outputId": "ee3f0675-e026-4758-939a-b39425ecda2b",
    "scrolled": false
   },
   "outputs": [
    {
     "data": {
      "text/plain": [
       "((1022, 5), (438, 5))"
      ]
     },
     "execution_count": 13,
     "metadata": {
      "tags": []
     },
     "output_type": "execute_result"
    }
   ],
   "source": [
    "# hãy chia thành tập huấn luyện và tập kiểm tra\n",
    "\n",
    "X_train, X_test, y_train, y_test = train_test_split(data,\n",
    "                                                    data['SalePrice'],\n",
    "                                                    test_size=0.3,\n",
    "                                                    random_state=0)\n",
    "X_train.shape, X_test.shape"
   ]
  },
  {
   "cell_type": "code",
   "execution_count": null,
   "metadata": {
    "id": "qh1yBCCXrGBQ"
   },
   "outputs": [],
   "source": [
    "## Yêu cầu 3: tạo hàm để thêm chỉ số khuyết dữ liệu\n",
    "# biến nhị phân\n",
    "\n",
    "def missing_indicator(df, variable):\n",
    "    ## VIẾT CODE Ở ĐÂY:    \n",
    "    return np.where(..., 1, 0)"
   ]
  },
  {
   "cell_type": "code",
   "execution_count": null,
   "metadata": {
    "id": "twa5RpqUrGBQ"
   },
   "outputs": [],
   "source": [
    "## Yêu cầu 4: lặp qua tất cả các biến và thêm một biến nhị phân\n",
    "# chỉ số khuyết dữ liệu với hàm vừa tạo\n",
    "\n",
    "for variable in cols_to_use:\n",
    "    ## VIẾT CODE Ở ĐÂY:\n",
    "    X_train[variable+'_NA'] = missing_indicator(...)\n",
    "    X_test[variable+'_NA'] = ...\n",
    "    \n",
    "X_train.head()"
   ]
  },
  {
   "cell_type": "code",
   "execution_count": null,
   "metadata": {
    "id": "dQDNKGokrGBR",
    "outputId": "33bbfcb2-3e2f-4bb8-e8db-c0c9ac6c8372"
   },
   "outputs": [
    {
     "data": {
      "text/plain": [
       "LotFrontage_NA    0.184932\n",
       "MasVnrArea_NA     0.004892\n",
       "BsmtQual_NA       0.023483\n",
       "FireplaceQu_NA    0.467710\n",
       "SalePrice_NA      0.000000\n",
       "dtype: float64"
      ]
     },
     "execution_count": 16,
     "metadata": {
      "tags": []
     },
     "output_type": "execute_result"
    }
   ],
   "source": [
    "# đánh giá mean của các chỉ số khuyết dữ liệu\n",
    "\n",
    "# trước tiên thu thập các biến chỉ số khuyết dữ liệu với một\n",
    "# list comprehension\n",
    "missing_ind = [col for col in X_train.columns if 'NA' in col]\n",
    "\n",
    "# tính mean\n",
    "X_train[missing_ind].mean()"
   ]
  },
  {
   "cell_type": "code",
   "execution_count": null,
   "metadata": {
    "id": "47cQW4XyrGBS",
    "outputId": "eb267009-6321-4f64-d013-cc9bffd1bba5"
   },
   "outputs": [
    {
     "data": {
      "text/plain": [
       "LotFrontage       0.184932\n",
       "MasVnrArea        0.004892\n",
       "BsmtQual          0.023483\n",
       "FireplaceQu       0.467710\n",
       "SalePrice         0.000000\n",
       "LotFrontage_NA    0.000000\n",
       "MasVnrArea_NA     0.000000\n",
       "BsmtQual_NA       0.000000\n",
       "FireplaceQu_NA    0.000000\n",
       "SalePrice_NA      0.000000\n",
       "dtype: float64"
      ]
     },
     "execution_count": 17,
     "metadata": {
      "tags": []
     },
     "output_type": "execute_result"
    }
   ],
   "source": [
    "# mean của chỉ số khuyết dữ liệu\n",
    "# trùng với phần trăm các giá trị bị khuyết\n",
    "# trong biến ban đầu\n",
    "\n",
    "X_train.isnull().mean()"
   ]
  },
  {
   "cell_type": "code",
   "execution_count": null,
   "metadata": {
    "id": "LfJu2Q8IrGBS"
   },
   "outputs": [],
   "source": [
    "## Yêu cầu 5: tạo một hàm để điền các giá trị bị khuyết với một giá trị:\n",
    "# chúng ta sử dụng một hàm tương tự trong các notebook trước\n",
    "# nên đã quen thuộc với nó\n",
    "\n",
    "def impute_na(df, variable, value):\n",
    "    ## VIẾT CODE Ở ĐÂY:\n",
    "    return ..."
   ]
  },
  {
   "cell_type": "code",
   "execution_count": null,
   "metadata": {
    "id": "VtCnSf5KrGBT"
   },
   "outputs": [],
   "source": [
    "## Yêu cầu 6: gán NA với median cho \n",
    "# các biến hạng mục\n",
    "# chúng ta đã tính median sử dụng tập huấn luyện\n",
    "\n",
    "median = X_train['LotFrontage'].median()\n",
    "## VIẾT CODE Ở ĐÂY:\n",
    "X_train['LotFrontage'] = impute_na(..., 'LotFrontage', ...)\n",
    "X_test['LotFrontage'] = ...\n",
    "\n",
    "median = X_train['MasVnrArea'].median()\n",
    "## VIẾT CODE Ở ĐÂY:\n",
    "X_train['MasVnrArea'] = ...\n",
    "X_test['MasVnrArea'] = ...\n",
    "\n",
    "\n",
    "# gán NA trong các biến hạng mục với\n",
    "# hạng mục thường xuất hiện nhất (mode)\n",
    "# mode cần được tìm hiểu từ tập huấn luyện\n",
    "\n",
    "mode = X_train['BsmtQual'].mode()[0]\n",
    "## VIẾT CODE Ở ĐÂY:\n",
    "X_train['BsmtQual'] = ...\n",
    "X_test['BsmtQual'] = ...\n",
    "\n",
    "## VIẾT CODE Ở ĐÂY:\n",
    "mode = X_train['FireplaceQu']....\n",
    "X_train['FireplaceQu'] = ...\n",
    "X_test['FireplaceQu'] = ..."
   ]
  },
  {
   "cell_type": "code",
   "execution_count": null,
   "metadata": {
    "id": "rodfO4LnrGBU",
    "outputId": "6e54594b-b2e0-44a5-b1a2-2d158621ad4b"
   },
   "outputs": [
    {
     "data": {
      "text/plain": [
       "LotFrontage       0.0\n",
       "MasVnrArea        0.0\n",
       "BsmtQual          0.0\n",
       "FireplaceQu       0.0\n",
       "SalePrice         0.0\n",
       "LotFrontage_NA    0.0\n",
       "MasVnrArea_NA     0.0\n",
       "BsmtQual_NA       0.0\n",
       "FireplaceQu_NA    0.0\n",
       "SalePrice_NA      0.0\n",
       "dtype: float64"
      ]
     },
     "execution_count": 20,
     "metadata": {
      "tags": []
     },
     "output_type": "execute_result"
    }
   ],
   "source": [
    "# kiểm tra xem có còn NA không\n",
    "X_train.isnull().mean()"
   ]
  },
  {
   "cell_type": "markdown",
   "metadata": {
    "collapsed": true,
    "id": "AM7ntuDqrGBV"
   },
   "source": [
    "Chúng ta hiện có gấp đôi số lượng đặc trưng so với tập dữ liệu ban đầu. Tập dữ liệu ban đầu có 4 biến, tập dữ liệu được tiền xử lý chứa 8 biến cộng với mục tiêu."
   ]
  },
  {
   "cell_type": "code",
   "execution_count": null,
   "metadata": {
    "id": "9fx48WyVrGBV"
   },
   "outputs": [],
   "source": []
  }
 ],
 "metadata": {
  "colab": {
   "collapsed_sections": [],
   "name": "8.8 Chỉ số khuyết dữ liệu.ipynb",
   "provenance": []
  },
  "kernelspec": {
   "display_name": "Python 3 (ipykernel)",
   "language": "python",
   "name": "python3"
  },
  "language_info": {
   "codemirror_mode": {
    "name": "ipython",
    "version": 3
   },
   "file_extension": ".py",
   "mimetype": "text/x-python",
   "name": "python",
   "nbconvert_exporter": "python",
   "pygments_lexer": "ipython3",
   "version": "3.11.4"
  },
  "toc": {
   "base_numbering": 1,
   "nav_menu": {},
   "number_sections": true,
   "sideBar": true,
   "skip_h1_title": false,
   "title_cell": "Table of Contents",
   "title_sidebar": "Contents",
   "toc_cell": false,
   "toc_position": {},
   "toc_section_display": "block",
   "toc_window_display": true
  }
 },
 "nbformat": 4,
 "nbformat_minor": 1
}
